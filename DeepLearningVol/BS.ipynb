{
 "cells": [
  {
   "cell_type": "code",
   "execution_count": 1,
   "metadata": {},
   "outputs": [],
   "source": [
    "from scipy.stats import norm\n",
    "import numpy as np\n",
    "\n",
    "class BSM:\n",
    "    def __init__(self,S,K,T,r,q,sigma,payoff='Call'):\n",
    "        #S: spot price\n",
    "        #K: strike price\n",
    "        #T: time to maturity\n",
    "        #r: interest rate\n",
    "        #q: dividend rate\n",
    "        #sigma: volatility of underlying asset\n",
    "        #payoff: option type, possible values : 'Call','Put','BinCall','BinPut'\n",
    "        self.S = S\n",
    "        self.K = K\n",
    "        self.r = r\n",
    "        self.q = q\n",
    "        self.T = T\n",
    "        self.sigma = sigma\n",
    "        self.payoff = payoff\n",
    "        self.d1 = (np.log(S / K) + T*(r - q + 0.5 * sigma ** 2)) / (sigma * np.sqrt(T))\n",
    "        self.d2 = self.d1 - sigma*np.sqrt(self.T)\n",
    "        \n",
    "    def information(self):\n",
    "        print('Payoff = ',self.payoff)\n",
    "        print('Price = ',self.price())\n",
    "        print('Delta = ',self.delta())\n",
    "        print('Gamma = ',self.gamma())\n",
    "        print('Vega = ',self.vega())\n",
    "        print('Theta = ',self.theta())\n",
    "        print('rho = ',self.rho())\n",
    "    \n",
    "    def price(self):\n",
    "        if self.payoff == 'Call':\n",
    "            return self.S*np.exp(-self.q*self.T)*norm.cdf(self.d1, 0.0, 1.0) - self.K*np.exp(-self.r*self.T)*norm.cdf(self.d2, 0.0, 1.0)\n",
    "        elif self.payoff == 'Put':\n",
    "            return -self.S*np.exp(-self.q*self.T)*norm.cdf(-self.d1, 0.0, 1.0) + self.K*np.exp(-self.r*self.T)*norm.cdf(-self.d2, 0.0, 1.0)\n",
    "        elif self.payoff == 'BinCall':\n",
    "            return np.exp(-self.r*self.T)*norm.cdf(self.d2, 0.0, 1.0)\n",
    "        else:\n",
    "            return np.exp(-self.r*self.T)*norm.cdf(-self.d2, 0.0, 1.0)\n",
    "        \n",
    "    def delta(self):\n",
    "        if self.payoff == 'Call':\n",
    "            return np.exp(-self.q*self.T)*norm.cdf(self.d1)\n",
    "        elif self.payoff == 'Put':\n",
    "            return np.exp(-self.q*self.T)*(norm.cdf(self.d1)-1)\n",
    "        elif self.payoff == 'BinCall':\n",
    "            N_prime = np.exp(-self.d2**2/2)/np.sqrt(2*np.pi)\n",
    "            return np.exp(-self.r*self.T)*N_prime/(self.S * self.sigma * np.sqrt(self.T))\n",
    "        else:\n",
    "            N_prime = np.exp(-self.d2**2/2)/np.sqrt(2*np.pi)\n",
    "            return -np.exp(-self.r*self.T)*N_prime/(self.S * self.sigma * np.sqrt(self.T))\n",
    "\n",
    "    def gamma(self):\n",
    "        N_prime = np.exp(-self.d1**2/2)/np.sqrt(2*np.pi)\n",
    "        N_prime2 = np.exp(-self.d2**2/2)/np.sqrt(2*np.pi)\n",
    "        if self.payoff == 'Call' or self.payoff == 'Put':\n",
    "            return np.exp(-self.q*self.T)*N_prime/(self.S * self.sigma * np.sqrt(self.T))\n",
    "        elif self.payoff == 'BinCall':\n",
    "            return -np.exp(-self.r*self.T)*N_prime2*self.d1/(self.S**2 * self.sigma**2 * self.T)\n",
    "        else:\n",
    "            return np.exp(-self.r*self.T)*N_prime2*self.d1/(self.S**2 * self.sigma**2 * self.T)\n",
    "        \n",
    "    \n",
    "    def vega(self):\n",
    "        N_prime = np.exp(-self.d1**2/2)/np.sqrt(2*np.pi)\n",
    "        N_prime2 = np.exp(-self.d2**2/2)/np.sqrt(2*np.pi)\n",
    "        if self.payoff == 'Call' or self.payoff == 'Put':\n",
    "            return self.S*np.exp(-self.q*self.T)*np.sqrt(self.T)*N_prime \n",
    "        elif self.payoff == 'BinCall':\n",
    "            return -np.exp(-self.r*self.T)*N_prime2*self.d1/(self.sigma)\n",
    "        else:\n",
    "            return np.exp(-self.r*self.T)*N_prime2*self.d1/(self.sigma)\n",
    "\n",
    "    def theta(self):\n",
    "        N_prime = np.exp(-self.d1**2/2)/np.sqrt(2*np.pi)\n",
    "        common = self.sigma*self.S*np.exp(-self.q*self.T)/(2*np.sqrt(self.T))\n",
    "        N_prime2 = np.exp(-self.d2**2/2)/np.sqrt(2*np.pi)\n",
    "        common2 = N_prime2*(np.log(self.S/self.K)-self.T*(self.r - self.q - 0.5 * self.sigma ** 2))/(2*self.sigma*self.T**(3/2))\n",
    "        if self.payoff == 'Call':\n",
    "            return common*N_prime - self.q*self.S*np.exp(-self.q*self.T)*norm.cdf(self.d1) + self.r*self.K*np.exp(-self.r*self.T)*norm.cdf(self.d2) \n",
    "        elif self.payoff == 'Put':\n",
    "            return common*N_prime + self.q*self.S*np.exp(-self.q*self.T)*norm.cdf(-self.d1) - self.r*self.K*np.exp(-self.r*self.T)*norm.cdf(-self.d2)\n",
    "        elif self.payoff == 'BinCall':\n",
    "            N_prime = np.exp(-self.d1**2/2)/np.sqrt(2*np.pi)\n",
    "            common = self.sigma*self.S*np.exp(-self.q*self.T)/(2*np.sqrt(self.T))\n",
    "            N_prime2 = np.exp(-self.d2**2/2)/np.sqrt(2*np.pi)\n",
    "            common2 = N_prime2*(np.log(self.S/self.K)-self.T*(self.r - self.q - 0.5 * self.sigma ** 2))/(2*self.sigma*self.T**(3/2))\n",
    "            return np.exp(-self.r*self.T)*(common2 + self.r*norm.cdf(self.d2, 0.0, 1.0))\n",
    "        else:\n",
    "            return np.exp(-self.r*self.T)*(-common2 + self.r*norm.cdf(-self.d2, 0.0, 1.0))\n",
    "            \n",
    "    def rho(self):\n",
    "        N_prime2 = np.exp(-self.d2**2/2)/np.sqrt(2*np.pi)\n",
    "        if self.payoff == 'Call':\n",
    "            return self.T*self.K*np.exp(-self.r*self.T)*norm.cdf(self.d2)\n",
    "        elif self.payoff == 'Put':\n",
    "            return -self.T*self.K*np.exp(-self.r*self.T)*norm.cdf(-self.d2)\n",
    "        elif self.payoff == 'BinCall':\n",
    "            return np.exp(-self.r*self.T)*(np.sqrt(self.T)*N_prime2/self.sigma - self.T*norm.cdf(self.d2, 0.0, 1.0))\n",
    "        else:\n",
    "            return np.exp(-self.r*self.T)*(-np.sqrt(self.T)*N_prime2/self.sigma - self.T*norm.cdf(self.d2, 0.0, 1.0))"
   ]
  },
  {
   "cell_type": "code",
   "execution_count": 2,
   "metadata": {},
   "outputs": [],
   "source": [
    "def newton_raphson(Mkt,S,K,T,r,q,_type):\n",
    "    x_old = -1\n",
    "    x_new = np.sqrt(2/T*abs(np.log(S*np.exp((r-q)*T)/K)))\n",
    "    tolerance = 10**(-8)\n",
    "    while abs(x_new-x_old)>tolerance :\n",
    "        x_old = x_new\n",
    "        c = BSM(S,K,T,r,q,x_new,_type)\n",
    "        x_new = x_new - (c.price()-Mkt)/(c.vega())\n",
    "    return x_new\n",
    "\n",
    "def bissection(Mkt,S,K,T,r,q,_type):\n",
    "    threshold = 10**(-8)\n",
    "    x = 0\n",
    "    y = 1\n",
    "    f = lambda x : x/(1-x)\n",
    "    while abs(BSM(S,K,T,r,q,f((x+y)/2),_type).price()-Mkt)>threshold:\n",
    "        if BSM(S,K,T,r,q,f((x+y)/2),_type).price() > Mkt :\n",
    "            y = (x+y)/2\n",
    "        else :\n",
    "            x = (x+y)/2\n",
    "    return f((x+y)/2)"
   ]
  },
  {
   "cell_type": "code",
   "execution_count": 5,
   "metadata": {},
   "outputs": [
    {
     "data": {
      "text/plain": [
       "0.3999999999999996"
      ]
     },
     "execution_count": 5,
     "metadata": {},
     "output_type": "execute_result"
    }
   ],
   "source": [
    "newton_raphson(BSM(100,100,0.5,0.05,0.01,0.4,'Call').price(),100,100,0.5,0.05,0.01,'Call')"
   ]
  },
  {
   "cell_type": "code",
   "execution_count": 3,
   "metadata": {},
   "outputs": [],
   "source": [
    "class BarrierOptions:\n",
    "    def __init__(self,S,K,T,r,q,sigma,D,payoff='DIC'):\n",
    "       # payoff : BinDIC,DIC,DOC\n",
    "       #S: spot price\n",
    "       #K: strike price\n",
    "       #T: time to maturity\n",
    "       #r: interest rate\n",
    "       #q: dividend rate\n",
    "       #sigma: volatility of underlying asset\n",
    "        self.S = S\n",
    "        self.K = K\n",
    "        self.r = r\n",
    "        self.q = q\n",
    "        self.T = T\n",
    "        self.sigma = sigma\n",
    "        self.D = D\n",
    "        self.payoff = payoff\n",
    "        self.gamma = 1-2*(self.r-self.q)/(self.sigma**2)\n",
    "       \n",
    "    def price(self):\n",
    "        if self.payoff == 'DOC':\n",
    "            a = BSM(self.S,self.K,self.T,self.r,self.q,self.sigma,'Call').price()\n",
    "            b = BarrierOptions(self.S,self.K,self.T,self.r,self.q,self.sigma,self.D,'DIC').price()\n",
    "            return a - b\n",
    "        if self.payoff == 'BinDOC':\n",
    "            a = BSM(self.S,self.K,self.T,self.r,self.q,self.sigma,'BinCall').price()\n",
    "            b = BarrierOptions(self.S,self.K,self.T,self.r,self.q,self.sigma,self.D,'BinDIC').price()\n",
    "            return a - b\n",
    "        \n",
    "        \n",
    "        if self.D <= self.K and self.S <= self.D :\n",
    "            if self.payoff == 'DIC':\n",
    "                #S,K,T,r,q,sigma\n",
    "                return BSM(self.S,self.K,self.T,self.r,self.q,self.sigma,'Call').price()\n",
    "            if self.payoff == 'BinDIC':\n",
    "                return BSM(self.S,self.K,self.T,self.r,self.q,self.sigma,'BinCall').price()\n",
    "        \n",
    "        if self.D <= self.K and self.S > self.D :\n",
    "            if self.payoff == 'DIC':\n",
    "                #S,K,T,r,q,sigma\n",
    "                return (self.S/self.D)**(self.gamma-1)*BSM(self.D,self.S*self.K/self.D,self.T,self.r,self.q,self.sigma,'Call').price()\n",
    "            if self.payoff == 'BinDIC':\n",
    "                return (self.S/self.D)**(self.gamma)*BSM(self.D,self.S*self.K/self.D,self.T,self.r,self.q,self.sigma,'BinCall').price()\n",
    "            \n",
    "        if self.D > self.K and self.S > self.D :\n",
    "            if self.payoff == 'BinDIC':\n",
    "                #S,K,T,r,q,sigma\n",
    "                a = BSM(self.S,self.K,self.T,self.r,self.q,self.sigma,'BinCall').price()\n",
    "                b = - np.exp(-self.r*self.T)\n",
    "                c = BSM(self.S,self.D,self.T,self.r,self.q,self.sigma,'BinPut').price()\n",
    "                d = BarrierOptions(self.S,self.D,self.T,self.r,self.q,self.sigma,self.D,'BinDIC')\n",
    "                return a+b+c+d\n",
    "            if self.payoff == 'DIC':\n",
    "                a = BSM(self.S,self.K,self.T,self.r,self.q,self.sigma,'Call').price()\n",
    "                b = - BSM(self.S,self.D,self.T,self.r,self.q,self.sigma,'Call').price()\n",
    "                c = -(self.D-self.K)*BSM(self.S,self.D,self.T,self.r,self.q,self.sigma,'BinCall').price()\n",
    "                d = BarrierOptions(self.S,self.D,self.T,self.r,self.q,self.sigma,self.D,'DIC')\n",
    "                e = (self.D-self.K)*BarrierOptions(self.S,self.D,self.T,self.r,self.q,self.sigma,self.D,'BinDIC')\n",
    "                return a+b+c+d+e\n",
    "   "
   ]
  },
  {
   "cell_type": "code",
   "execution_count": 30,
   "metadata": {},
   "outputs": [
    {
     "data": {
      "text/plain": [
       "0.41900357477527983"
      ]
     },
     "execution_count": 30,
     "metadata": {},
     "output_type": "execute_result"
    }
   ],
   "source": [
    "BSM(90,100*100/90,0.5,2/100,2/100,20/100,'Call').price()"
   ]
  },
  {
   "cell_type": "code",
   "execution_count": 21,
   "metadata": {},
   "outputs": [
    {
     "data": {
      "text/plain": [
       "0.7714492184863886"
      ]
     },
     "execution_count": 21,
     "metadata": {},
     "output_type": "execute_result"
    }
   ],
   "source": [
    "S_0=93.560000\n",
    "T=0.044000\n",
    "K=94.270000\n",
    "r=0.01\n",
    "q=0.02\n",
    "sigma=0.140900\n",
    "D = 80\n",
    "BSM(S_0,K,T,r,q,sigma,'Call').price()"
   ]
  },
  {
   "cell_type": "code",
   "execution_count": 22,
   "metadata": {},
   "outputs": [
    {
     "data": {
      "text/plain": [
       "0.7698092877728229"
      ]
     },
     "execution_count": 22,
     "metadata": {},
     "output_type": "execute_result"
    }
   ],
   "source": [
    "S_0=93.560000\n",
    "T=0.044000\n",
    "K=94.270000\n",
    "r=0.01\n",
    "q=0.021\n",
    "sigma=0.140900\n",
    "D = 80\n",
    "BSM(S_0,K,T,r,q,sigma,'Call').price()"
   ]
  },
  {
   "cell_type": "code",
   "execution_count": 35,
   "metadata": {},
   "outputs": [
    {
     "data": {
      "text/plain": [
       "12.081331304819921"
      ]
     },
     "execution_count": 35,
     "metadata": {},
     "output_type": "execute_result"
    }
   ],
   "source": [
    "S_0=10.800000\n",
    "T=0.459000\n",
    "K=10.790000\n",
    "r=0\n",
    "q=0\n",
    "sigma=0.294700\n",
    "S_0*BSM(S_0*(np.exp(sigma**2*T)),K,T,r,q,sigma,'Call').price()"
   ]
  },
  {
   "cell_type": "code",
   "execution_count": 45,
   "metadata": {
    "scrolled": true
   },
   "outputs": [
    {
     "data": {
      "text/plain": [
       "1.1214207378999994"
      ]
     },
     "execution_count": 45,
     "metadata": {},
     "output_type": "execute_result"
    }
   ],
   "source": [
    "##BinCall\n",
    "S_0=95.62+17\n",
    "T=0.226\n",
    "K=97.13+17\n",
    "D=90.96+17\n",
    "r=0\n",
    "q=0\n",
    "sigma=0.2205\n",
    "#gamma = 1-2*(r-q)/(sigma**2)\n",
    "BSM(D,K*S_0/D,T,r,q,sigma,'Call').price()\n"
   ]
  },
  {
   "cell_type": "code",
   "execution_count": 5,
   "metadata": {},
   "outputs": [
    {
     "data": {
      "text/plain": [
       "0.5988535823619917"
      ]
     },
     "execution_count": 5,
     "metadata": {},
     "output_type": "execute_result"
    }
   ],
   "source": [
    "S_0=99.090000\n",
    "T=0.564000\n",
    "K=99.100000\n",
    "D=93.550000\n",
    "r=0.010000\n",
    "q=0.065000\n",
    "sigma=0.251700\n",
    "BSM(S_0,K,T,r,q,sigma,'DIC').price()"
   ]
  },
  {
   "cell_type": "code",
   "execution_count": 9,
   "metadata": {},
   "outputs": [
    {
     "name": "stdout",
     "output_type": "stream",
     "text": [
      "Payoff =  Put\n",
      "Price =  0.005811506813108491\n",
      "Delta =  0.00840128456839487\n",
      "Gamma =  0.011076024180682442\n",
      "Vega =  0.25050461524749335\n",
      "Theta =  1.9110773044982936\n",
      "rho =  -0.010145230638941903\n"
     ]
    }
   ],
   "source": [
    "# Put Vega\n",
    "S_0=99.940000\n",
    "T=0.012000\n",
    "K=95.220000\n",
    "r=0.100000\n",
    "q=0.031000\n",
    "sigma=0.188700\n",
    "BSM(S_0,K,T,r,q,sigma,'Put').information()"
   ]
  },
  {
   "cell_type": "code",
   "execution_count": 39,
   "metadata": {},
   "outputs": [
    {
     "data": {
      "text/plain": [
       "41.75274280821851"
      ]
     },
     "execution_count": 39,
     "metadata": {},
     "output_type": "execute_result"
    }
   ],
   "source": [
    "#Log displaced\n",
    "S_0=94.600000\n",
    "T=0.435000\n",
    "K=97.560000\n",
    "r=0.000000\n",
    "q=0.000000\n",
    "sigma=0.292700\n",
    "a=40.750000\n",
    "newton_raphson(BSM(S_0+a,K+a,T,r,q,sigma,'Call').price(),S_0,K,T,r,q,'Call')*100"
   ]
  },
  {
   "cell_type": "code",
   "execution_count": 60,
   "metadata": {},
   "outputs": [],
   "source": [
    "S_0=99.460000\n",
    "K=99.050000\n",
    "r=0.005000\n",
    "x=1.710000\n",
    "y=2.750000\n",
    "u = 1 + x/100\n",
    "d = 1 - y/100\n",
    "p = (1+r - d)/(u-d)\n"
   ]
  },
  {
   "cell_type": "code",
   "execution_count": 61,
   "metadata": {},
   "outputs": [],
   "source": [
    "UU = max(u*u*S_0-K,0)\n",
    "UD = max(u*d*S_0-K,0)\n",
    "DD = max(d*d*S_0-K,0)"
   ]
  },
  {
   "cell_type": "code",
   "execution_count": 62,
   "metadata": {},
   "outputs": [
    {
     "data": {
      "text/plain": [
       "(3.8406150985999687, 0, 0)"
      ]
     },
     "execution_count": 62,
     "metadata": {},
     "output_type": "execute_result"
    }
   ],
   "source": [
    "UU,UD,DD"
   ]
  },
  {
   "cell_type": "code",
   "execution_count": 63,
   "metadata": {},
   "outputs": [],
   "source": [
    "U =  U2*p/(1+r) + UD*(1-p)/(1+r)\n",
    "D = UD*p/(1+r) + DD*(1-p)/(1+r)\n",
    "C = U*p/(1+r) + D*(1-p)/(1+r)"
   ]
  },
  {
   "attachments": {
    "image.png": {
     "image/png": "[encoded data removed]"
    }
   },
   "cell_type": "markdown",
   "metadata": {},
   "source": [
    "![image.png](attachment:image.png)"
   ]
  },
  {
   "cell_type": "code",
   "execution_count": 7,
   "metadata": {},
   "outputs": [],
   "source": [
    "n=2\n",
    "S_0=0.970000\n",
    "T=0.339000\n",
    "K=0.910000\n",
    "r=0.095000\n",
    "q=0.030000\n",
    "sigma=0.106500\n",
    "\n",
    "def powercall(S,K,T,r,q,sigma,n):\n",
    "    d1 = (np.log(S / K**(1/n)) + T*(r - q + (n-0.5) * sigma ** 2)) / (sigma * np.sqrt(T))\n",
    "    d2 = d1 - n*sigma*np.sqrt(T)\n",
    "    c = S**n*np.exp(((n-1)*(r+n*sigma**2/2) -n*q)*T)*norm.cdf(d1, 0.0, 1.0) - K*np.exp(-r*T)*norm.cdf(d2, 0.0, 1.0)\n",
    "    return c"
   ]
  },
  {
   "cell_type": "code",
   "execution_count": 8,
   "metadata": {},
   "outputs": [
    {
     "data": {
      "text/plain": [
       "0.09213838809261488"
      ]
     },
     "execution_count": 8,
     "metadata": {},
     "output_type": "execute_result"
    }
   ],
   "source": [
    "powercall(S_0,K,T,r,q,sigma,n)"
   ]
  },
  {
   "cell_type": "code",
   "execution_count": 76,
   "metadata": {},
   "outputs": [
    {
     "data": {
      "text/plain": [
       "-0.088782"
      ]
     },
     "execution_count": 76,
     "metadata": {},
     "output_type": "execute_result"
    }
   ],
   "source": [
    "-0.114000*0.127000 -0.288000*0.258000"
   ]
  },
  {
   "cell_type": "code",
   "execution_count": 39,
   "metadata": {},
   "outputs": [
    {
     "data": {
      "text/plain": [
       "-0.18968410875800257"
      ]
     },
     "execution_count": 39,
     "metadata": {},
     "output_type": "execute_result"
    }
   ],
   "source": [
    "S2=98.160000\n",
    "T=0.275000\n",
    "K1=109.510000\n",
    "K2=94.180000\n",
    "r=0.056000\n",
    "q=0.069000\n",
    "sigma2=0.140500\n",
    "-2*BSM(S2,K1,T,r,q,sigma2,'Call').delta()/BSM(S2,K2,T,r,q,sigma2,'Call').delta()"
   ]
  },
  {
   "cell_type": "code",
   "execution_count": 53,
   "metadata": {},
   "outputs": [
    {
     "data": {
      "text/plain": [
       "6.562915450918508"
      ]
     },
     "execution_count": 53,
     "metadata": {},
     "output_type": "execute_result"
    }
   ],
   "source": [
    "S1=103.270000\n",
    "S2=102.330000\n",
    "T=0.694000\n",
    "K=1.029000\n",
    "r=0.054000\n",
    "sigma1=0.165300\n",
    "sigma2=0.132000\n",
    "rho=-0.320000\n",
    "S1*BSM(S2/S1,K,T,0,0,(sigma1**2+sigma2**2-2*rho*sigma1*sigma2)**(0.5),'Call').price()"
   ]
  },
  {
   "cell_type": "code",
   "execution_count": 10,
   "metadata": {},
   "outputs": [
    {
     "data": {
      "text/plain": [
       "0.49526880503763815"
      ]
     },
     "execution_count": 10,
     "metadata": {},
     "output_type": "execute_result"
    }
   ],
   "source": [
    "S_0=101.940000\n",
    "T=0.663000\n",
    "K=101.100000\n",
    "r=0.007000\n",
    "q=0.042000\n",
    "sigma=0.217800\n",
    "T2 = 0.422\n",
    "\n",
    "delta2 = BSM(S_0,K,T,r,q,sigma).delta()\n",
    "delta2/(np.exp((r-q)*T2))\n"
   ]
  },
  {
   "cell_type": "code",
   "execution_count": 5,
   "metadata": {},
   "outputs": [
    {
     "data": {
      "text/plain": [
       "-50.603852099675045"
      ]
     },
     "execution_count": 5,
     "metadata": {},
     "output_type": "execute_result"
    }
   ],
   "source": [
    "S_0=9.310000\n",
    "T=0.371000\n",
    "K=9.080000\n",
    "r=0.002000\n",
    "q=0.097000\n",
    "sigma=0.250600\n",
    "T2 = 0.325000\n",
    "\n",
    "delta2 = -91*BSM(S_0,K,T,r,q,sigma).delta()\n",
    "delta2/(np.exp((r-q)*T2))-5"
   ]
  },
  {
   "cell_type": "code",
   "execution_count": 8,
   "metadata": {},
   "outputs": [],
   "source": [
    "S1=98.610000\n",
    "S2=91.340000\n",
    "T=0.305000\n",
    "K1=100.040000\n",
    "K2=107.380000\n",
    "r=0.093000\n",
    "sigma1=0.294600\n",
    "sigma2=0.158500\n",
    "rho=0.660000\n",
    "\n",
    "C1 = 64.937624\n",
    "C2 = -626.337137\n",
    "delta2 = C2 * BSM(S2,K2,T,r,q,sigma2).delta()\n",
    "N_d1_ne = delta2/(np.exp((r-q)*T))\n",
    "N_d1_ne\n",
    "\n",
    "delta1 = C1 * BSM(S1,K1,T,r,q,sigma1).delta()\n",
    "N_d0_ne = delta1/(np.exp((r-q)*T))"
   ]
  },
  {
   "cell_type": "code",
   "execution_count": 9,
   "metadata": {},
   "outputs": [
    {
     "data": {
      "text/plain": [
       "-21.004550158170666"
      ]
     },
     "execution_count": 9,
     "metadata": {},
     "output_type": "execute_result"
    }
   ],
   "source": [
    "N_d1_ne"
   ]
  },
  {
   "cell_type": "code",
   "execution_count": 10,
   "metadata": {},
   "outputs": [
    {
     "data": {
      "text/plain": [
       "31.192096015264784"
      ]
     },
     "execution_count": 10,
     "metadata": {},
     "output_type": "execute_result"
    }
   ],
   "source": [
    "N_d0_ne"
   ]
  },
  {
   "cell_type": "code",
   "execution_count": 13,
   "metadata": {},
   "outputs": [
    {
     "data": {
      "text/plain": [
       "28134.237670363273"
      ]
     },
     "execution_count": 13,
     "metadata": {},
     "output_type": "execute_result"
    }
   ],
   "source": [
    "r1 = 0.00580000\n",
    "r2 = 0.00830000\n",
    "r3 = 0.01130000\n",
    "r4 = 0.01310000\n",
    "r5 = 0.01560000\n",
    "O = 27972\n",
    "O*(r1)+(r2)**2+(r3)**3+(r4)**4+(r5)**5+O\n",
    "\n"
   ]
  },
  {
   "cell_type": "code",
   "execution_count": 3,
   "metadata": {},
   "outputs": [
    {
     "name": "stdout",
     "output_type": "stream",
     "text": [
      "/Users/zigong\n"
     ]
    }
   ],
   "source": [
    "%cd ~/"
   ]
  },
  {
   "cell_type": "code",
   "execution_count": 4,
   "metadata": {},
   "outputs": [
    {
     "name": "stdout",
     "output_type": "stream",
     "text": [
      "/Users/zigong/Desktop\n"
     ]
    }
   ],
   "source": [
    "%cd Desktop/"
   ]
  },
  {
   "cell_type": "code",
   "execution_count": 5,
   "metadata": {},
   "outputs": [],
   "source": [
    "\n",
    "import numpy as np\n",
    "import pandas as pd\n",
    "import matplotlib.pyplot as plt\n",
    "import seaborn as sns\n",
    "import statsmodels.api as sm\n",
    "from sklearn.linear_model import LogisticRegression\n",
    "from sklearn.model_selection import train_test_split\n",
    "%matplotlib inline\n",
    "import warnings\n",
    "warnings.filterwarnings('ignore')\n"
   ]
  },
  {
   "cell_type": "code",
   "execution_count": 11,
   "metadata": {},
   "outputs": [],
   "source": [
    "df = pd.read_csv('df1.csv', sep = ';')"
   ]
  },
  {
   "cell_type": "code",
   "execution_count": 12,
   "metadata": {},
   "outputs": [
    {
     "data": {
      "text/html": [
       "<div>\n",
       "<style scoped>\n",
       "    .dataframe tbody tr th:only-of-type {\n",
       "        vertical-align: middle;\n",
       "    }\n",
       "\n",
       "    .dataframe tbody tr th {\n",
       "        vertical-align: top;\n",
       "    }\n",
       "\n",
       "    .dataframe thead th {\n",
       "        text-align: right;\n",
       "    }\n",
       "</style>\n",
       "<table border=\"1\" class=\"dataframe\">\n",
       "  <thead>\n",
       "    <tr style=\"text-align: right;\">\n",
       "      <th></th>\n",
       "      <th>Date</th>\n",
       "      <th>Spot</th>\n",
       "      <th>Unnamed: 2</th>\n",
       "    </tr>\n",
       "  </thead>\n",
       "  <tbody>\n",
       "    <tr>\n",
       "      <th>0</th>\n",
       "      <td>0.000000</td>\n",
       "      <td>101.910000</td>\n",
       "      <td>NaN</td>\n",
       "    </tr>\n",
       "    <tr>\n",
       "      <th>1</th>\n",
       "      <td>0.003393</td>\n",
       "      <td>101.204426</td>\n",
       "      <td>NaN</td>\n",
       "    </tr>\n",
       "    <tr>\n",
       "      <th>2</th>\n",
       "      <td>0.006787</td>\n",
       "      <td>100.680752</td>\n",
       "      <td>NaN</td>\n",
       "    </tr>\n",
       "    <tr>\n",
       "      <th>3</th>\n",
       "      <td>0.010180</td>\n",
       "      <td>101.339600</td>\n",
       "      <td>NaN</td>\n",
       "    </tr>\n",
       "    <tr>\n",
       "      <th>4</th>\n",
       "      <td>0.013574</td>\n",
       "      <td>102.427541</td>\n",
       "      <td>NaN</td>\n",
       "    </tr>\n",
       "  </tbody>\n",
       "</table>\n",
       "</div>"
      ],
      "text/plain": [
       "       Date        Spot  Unnamed: 2\n",
       "0  0.000000  101.910000         NaN\n",
       "1  0.003393  101.204426         NaN\n",
       "2  0.006787  100.680752         NaN\n",
       "3  0.010180  101.339600         NaN\n",
       "4  0.013574  102.427541         NaN"
      ]
     },
     "execution_count": 12,
     "metadata": {},
     "output_type": "execute_result"
    }
   ],
   "source": [
    "df.head()"
   ]
  },
  {
   "cell_type": "code",
   "execution_count": 17,
   "metadata": {},
   "outputs": [],
   "source": [
    "df.to_csv('df.csv')"
   ]
  },
  {
   "cell_type": "code",
   "execution_count": null,
   "metadata": {},
   "outputs": [],
   "source": []
  }
 ],
 "metadata": {
  "kernelspec": {
   "display_name": "Python 3",
   "language": "python",
   "name": "python3"
  },
  "language_info": {
   "codemirror_mode": {
    "name": "ipython",
    "version": 3
   },
   "file_extension": ".py",
   "mimetype": "text/x-python",
   "name": "python",
   "nbconvert_exporter": "python",
   "pygments_lexer": "ipython3",
   "version": "3.8.8"
  }
 },
 "nbformat": 4,
 "nbformat_minor": 4
}
