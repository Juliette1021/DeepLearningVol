{
 "cells": [
  {
   "cell_type": "code",
   "execution_count": 12,
   "id": "d5a55014",
   "metadata": {},
   "outputs": [],
   "source": [
    "import numpy as np"
   ]
  },
  {
   "cell_type": "markdown",
   "id": "cc7119a3",
   "metadata": {},
   "source": [
    "### Generate all the permutaions of a list(no repeated elements)"
   ]
  },
  {
   "cell_type": "code",
   "execution_count": 7,
   "id": "07e8649f",
   "metadata": {},
   "outputs": [],
   "source": [
    "def all_permutations(l):\n",
    "    if len(l) <= 1:\n",
    "        return l\n",
    "    if len(l)==2:\n",
    "        return [l, list(reversed(l))]\n",
    "    r = []\n",
    "    sub = all_permutations(l[:-1])\n",
    "    for s in sub:\n",
    "        for i in range(len(s)):\n",
    "            tmp = s[:i]\n",
    "            tmp.append(l[-1])\n",
    "            tmp += s[i:]\n",
    "            r.append(tmp)\n",
    "        r.append(s+[l[-1]])\n",
    "\n",
    "    return r\n",
    "            "
   ]
  },
  {
   "cell_type": "code",
   "execution_count": 8,
   "id": "7c071a92",
   "metadata": {},
   "outputs": [
    {
     "data": {
      "text/plain": [
       "[[3, 2, 6], [2, 3, 6], [2, 6, 3], [3, 6, 2], [6, 3, 2], [6, 2, 3]]"
      ]
     },
     "execution_count": 8,
     "metadata": {},
     "output_type": "execute_result"
    }
   ],
   "source": [
    "all_permutations([2,6,3])"
   ]
  },
  {
   "cell_type": "markdown",
   "id": "7c2db964",
   "metadata": {},
   "source": [
    "### Maximum contiguous subarray"
   ]
  },
  {
   "cell_type": "code",
   "execution_count": 35,
   "id": "9d66ca26",
   "metadata": {},
   "outputs": [],
   "source": [
    "## one dimensional array arr contains positive and negative numbers, find the maximum sum of any contiguous subarray\n",
    "\n",
    "def maxSubArray(arr):\n",
    "    Vmax = arr[0]\n",
    "    start = 0\n",
    "    end = 0\n",
    "    d = {\"value\": Vmax, \"start\": start, \"end\": end}\n",
    "    \n",
    "    if len(arr) == 1:\n",
    "        return d\n",
    "    \n",
    "    T = arr[0]\n",
    "    Tmin = np.minimum(0, T)\n",
    "    Vmax = arr[0]\n",
    "    \n",
    "    \n",
    "    for i in range(1, len(arr)):\n",
    "        T += arr[i]\n",
    "        if T - Tmin > Vmax:\n",
    "            end = i\n",
    "            Vmax = T - Tmin\n",
    "        if T < Tmin:\n",
    "            Tmin = T\n",
    "            start = i+1\n",
    "    d = {\"value\": Vmax, \"start\": start, \"end\": end}\n",
    "    return d"
   ]
  },
  {
   "cell_type": "code",
   "execution_count": 36,
   "id": "d259f311",
   "metadata": {},
   "outputs": [
    {
     "data": {
      "text/plain": [
       "{'value': 9.0, 'start': 3, 'end': 6}"
      ]
     },
     "execution_count": 36,
     "metadata": {},
     "output_type": "execute_result"
    }
   ],
   "source": [
    "a = np.array([1.0, 2.0, -5.0, 4.0, -3.0, 2.0, 6.0, -5.0, -1.0])\n",
    "maxSubArray(a)"
   ]
  },
  {
   "cell_type": "code",
   "execution_count": null,
   "id": "3c8a763a",
   "metadata": {},
   "outputs": [],
   "source": []
  }
 ],
 "metadata": {
  "kernelspec": {
   "display_name": "jia21",
   "language": "python",
   "name": "jia21"
  },
  "language_info": {
   "codemirror_mode": {
    "name": "ipython",
    "version": 3
   },
   "file_extension": ".py",
   "mimetype": "text/x-python",
   "name": "python",
   "nbconvert_exporter": "python",
   "pygments_lexer": "ipython3",
   "version": "3.8.8"
  }
 },
 "nbformat": 4,
 "nbformat_minor": 5
}
