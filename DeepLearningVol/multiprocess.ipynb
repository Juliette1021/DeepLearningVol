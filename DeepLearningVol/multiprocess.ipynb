{
 "cells": [
  {
   "cell_type": "code",
   "execution_count": 4,
   "id": "3da45a45",
   "metadata": {},
   "outputs": [],
   "source": [
    "from multiprocessing import Process, Pool, cpu_count\n",
    "import os\n",
    "import time"
   ]
  },
  {
   "cell_type": "code",
   "execution_count": 10,
   "id": "3b5e7495",
   "metadata": {},
   "outputs": [
    {
     "name": "stdout",
     "output_type": "stream",
     "text": [
      "当前母进程: 10428\n",
      "当前进程: 10428\n",
      "结果: 1152921504606846976\n",
      "当前进程: 10428\n",
      "结果: 1152921504606846976\n",
      "用时4.013971567153931秒\n"
     ]
    }
   ],
   "source": [
    "def long_time_task():\n",
    "    print('当前进程: {}'.format(os.getpid()))\n",
    "    time.sleep(2)\n",
    "    print(\"结果: {}\".format(8 ** 20))\n",
    "\n",
    "    \n",
    "# if __name__ == \"__main__\":\n",
    "print('当前母进程: {}'.format(os.getpid()))\n",
    "start = time.time()\n",
    "for i in range(2):\n",
    "    long_time_task()\n",
    "\n",
    "end = time.time()\n",
    "print(\"用时{}秒\".format((end-start)))"
   ]
  },
  {
   "cell_type": "code",
   "execution_count": 13,
   "id": "3d98ef57",
   "metadata": {},
   "outputs": [
    {
     "name": "stdout",
     "output_type": "stream",
     "text": [
      "当前母进程: 10428\n",
      "等待所有子进程完成。\n",
      "总共用时0.08839964866638184秒\n"
     ]
    }
   ],
   "source": [
    "def long_time_task(i):\n",
    "    print('子进程: {} - 任务{}'.format(os.getpid(), i))\n",
    "    time.sleep(2)\n",
    "    print(\"结果: {}\".format(8 ** 20))\n",
    "    \n",
    "print('当前母进程: {}'.format(os.getpid()))\n",
    "start = time.time()\n",
    "p1 = Process(target=long_time_task, args=(1,))\n",
    "p2 = Process(target=long_time_task, args=(2,))\n",
    "print('等待所有子进程完成。')\n",
    "p1.start()\n",
    "p2.start()\n",
    "p1.join()\n",
    "p2.join()\n",
    "end = time.time()\n",
    "print(\"总共用时{}秒\".format((end - start)))"
   ]
  },
  {
   "cell_type": "code",
   "execution_count": null,
   "id": "61babe9d",
   "metadata": {},
   "outputs": [],
   "source": [
    "def long_time_task(i):\n",
    "    print('subprocess: {} - task{}'.format(os.getpid(), i))\n",
    "#     time.sleep(2)\n",
    "    print(\"result: {}\".format(8 ** 10))\n",
    "\n",
    "\n",
    "\n",
    "print(\"CPU kernels count:{}\".format(cpu_count()))\n",
    "print('Current parent process: {}'.format(os.getpid()))\n",
    "start = time.time()\n",
    "p = Pool(2)\n",
    "for i in range(2):\n",
    "    p.apply_async(long_time_task, args=(i,))\n",
    "print('Waiting for all the subprocess.')\n",
    "p.close()\n",
    "p.join()\n",
    "end = time.time()\n",
    "print(\"Total time {} s\".format((end - start)))"
   ]
  },
  {
   "cell_type": "code",
   "execution_count": null,
   "id": "03712dfe",
   "metadata": {},
   "outputs": [],
   "source": [
    "8**10"
   ]
  },
  {
   "cell_type": "code",
   "execution_count": 14,
   "id": "bc2a1235",
   "metadata": {},
   "outputs": [],
   "source": [
    "from timeit import timeit\n",
    "?timeit\n"
   ]
  },
  {
   "cell_type": "code",
   "execution_count": 16,
   "id": "b6f6f651",
   "metadata": {},
   "outputs": [
    {
     "name": "stdout",
     "output_type": "stream",
     "text": [
      "0\n",
      "1\n",
      "2\n",
      "3\n",
      "4\n",
      "0\n",
      "1\n",
      "2\n",
      "3\n",
      "4\n"
     ]
    },
    {
     "data": {
      "text/plain": [
       "0.0005065999998805637"
      ]
     },
     "execution_count": 16,
     "metadata": {},
     "output_type": "execute_result"
    }
   ],
   "source": [
    "timeit(\"for i in range(5): print(i)\", number=2)"
   ]
  },
  {
   "cell_type": "code",
   "execution_count": null,
   "id": "0a52a598",
   "metadata": {},
   "outputs": [],
   "source": []
  }
 ],
 "metadata": {
  "kernelspec": {
   "display_name": "jia21",
   "language": "python",
   "name": "jia21"
  },
  "language_info": {
   "codemirror_mode": {
    "name": "ipython",
    "version": 3
   },
   "file_extension": ".py",
   "mimetype": "text/x-python",
   "name": "python",
   "nbconvert_exporter": "python",
   "pygments_lexer": "ipython3",
   "version": "3.8.8"
  }
 },
 "nbformat": 4,
 "nbformat_minor": 5
}
