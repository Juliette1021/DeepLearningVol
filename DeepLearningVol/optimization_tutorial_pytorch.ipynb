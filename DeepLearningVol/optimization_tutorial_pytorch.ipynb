{
 "cells": [
  {
   "cell_type": "code",
   "execution_count": 1,
   "metadata": {},
   "outputs": [],
   "source": [
    "%matplotlib inline"
   ]
  },
  {
   "cell_type": "markdown",
   "metadata": {},
   "source": [
    "\n",
    "`Learn the Basics <intro.html>`_ ||\n",
    "`Quickstart <quickstart_tutorial.html>`_ || \n",
    "`Tensors <tensorqs_tutorial.html>`_ || \n",
    "`Datasets & DataLoaders <data_tutorial.html>`_ ||\n",
    "`Transforms <transforms_tutorial.html>`_ ||\n",
    "`Build Model <buildmodel_tutorial.html>`_ ||\n",
    "`Autograd <autogradqs_tutorial.html>`_ ||\n",
    "**Optimization** ||\n",
    "`Save & Load Model <saveloadrun_tutorial.html>`_\n",
    "\n",
    "Optimizing Model Parameters\n",
    "===========================\n",
    "\n",
    "Now that we have a model and data it's time to train, validate and test our model by optimizing its parameters on \n",
    "our data. Training a model is an iterative process; in each iteration (called an *epoch*) the model makes a guess about the output, calculates \n",
    "the error in its guess (*loss*), collects the derivatives of the error with respect to its parameters (as we saw in \n",
    "the `previous section  <autograd_tutorial.html>`_), and **optimizes** these parameters using gradient descent. For a more \n",
    "detailed walkthrough of this process, check out this video on `backpropagation from 3Blue1Brown <https://www.youtube.com/watch?v=tIeHLnjs5U8>`__.\n",
    "\n",
    "Prerequisite Code \n",
    "-----------------\n",
    "We load the code from the previous sections on `Datasets & DataLoaders <data_tutorial.html>`_ \n",
    "and `Build Model  <buildmodel_tutorial.html>`_.\n",
    "\n"
   ]
  },
  {
   "cell_type": "code",
   "execution_count": 2,
   "metadata": {},
   "outputs": [
    {
     "name": "stdout",
     "output_type": "stream",
     "text": [
      "Downloading http://fashion-mnist.s3-website.eu-central-1.amazonaws.com/train-images-idx3-ubyte.gz\n",
      "Downloading http://fashion-mnist.s3-website.eu-central-1.amazonaws.com/train-images-idx3-ubyte.gz to data\\FashionMNIST\\raw\\train-images-idx3-ubyte.gz\n"
     ]
    },
    {
     "data": {
      "application/vnd.jupyter.widget-view+json": {
       "model_id": "8dd101253f5741828f4b369fb58427d8",
       "version_major": 2,
       "version_minor": 0
      },
      "text/plain": [
       "  0%|          | 0/26421880 [00:00<?, ?it/s]"
      ]
     },
     "metadata": {},
     "output_type": "display_data"
    },
    {
     "name": "stdout",
     "output_type": "stream",
     "text": [
      "Extracting data\\FashionMNIST\\raw\\train-images-idx3-ubyte.gz to data\\FashionMNIST\\raw\n",
      "\n",
      "Downloading http://fashion-mnist.s3-website.eu-central-1.amazonaws.com/train-labels-idx1-ubyte.gz\n",
      "Downloading http://fashion-mnist.s3-website.eu-central-1.amazonaws.com/train-labels-idx1-ubyte.gz to data\\FashionMNIST\\raw\\train-labels-idx1-ubyte.gz\n"
     ]
    },
    {
     "data": {
      "application/vnd.jupyter.widget-view+json": {
       "model_id": "29cd5700de9b44bfa30ace5a33ad876c",
       "version_major": 2,
       "version_minor": 0
      },
      "text/plain": [
       "  0%|          | 0/29515 [00:00<?, ?it/s]"
      ]
     },
     "metadata": {},
     "output_type": "display_data"
    },
    {
     "name": "stdout",
     "output_type": "stream",
     "text": [
      "Extracting data\\FashionMNIST\\raw\\train-labels-idx1-ubyte.gz to data\\FashionMNIST\\raw\n",
      "\n",
      "Downloading http://fashion-mnist.s3-website.eu-central-1.amazonaws.com/t10k-images-idx3-ubyte.gz\n",
      "Downloading http://fashion-mnist.s3-website.eu-central-1.amazonaws.com/t10k-images-idx3-ubyte.gz to data\\FashionMNIST\\raw\\t10k-images-idx3-ubyte.gz\n"
     ]
    },
    {
     "data": {
      "application/vnd.jupyter.widget-view+json": {
       "model_id": "1e0a9a8932cd46d19181705ced4da6d3",
       "version_major": 2,
       "version_minor": 0
      },
      "text/plain": [
       "  0%|          | 0/4422102 [00:00<?, ?it/s]"
      ]
     },
     "metadata": {},
     "output_type": "display_data"
    },
    {
     "name": "stdout",
     "output_type": "stream",
     "text": [
      "Extracting data\\FashionMNIST\\raw\\t10k-images-idx3-ubyte.gz to data\\FashionMNIST\\raw\n",
      "\n",
      "Downloading http://fashion-mnist.s3-website.eu-central-1.amazonaws.com/t10k-labels-idx1-ubyte.gz\n",
      "Downloading http://fashion-mnist.s3-website.eu-central-1.amazonaws.com/t10k-labels-idx1-ubyte.gz to data\\FashionMNIST\\raw\\t10k-labels-idx1-ubyte.gz\n"
     ]
    },
    {
     "data": {
      "application/vnd.jupyter.widget-view+json": {
       "model_id": "4a1363e184324ec09a53c3ca184c0fdb",
       "version_major": 2,
       "version_minor": 0
      },
      "text/plain": [
       "  0%|          | 0/5148 [00:00<?, ?it/s]"
      ]
     },
     "metadata": {},
     "output_type": "display_data"
    },
    {
     "name": "stdout",
     "output_type": "stream",
     "text": [
      "Extracting data\\FashionMNIST\\raw\\t10k-labels-idx1-ubyte.gz to data\\FashionMNIST\\raw\n",
      "\n"
     ]
    },
    {
     "name": "stderr",
     "output_type": "stream",
     "text": [
      "D:\\ProgramData\\Anaconda3\\envs\\jia_pytorch\\lib\\site-packages\\torchvision\\datasets\\mnist.py:498: UserWarning: The given NumPy array is not writeable, and PyTorch does not support non-writeable tensors. This means you can write to the underlying (supposedly non-writeable) NumPy array using the tensor. You may want to copy the array to protect its data or make it writeable before converting it to a tensor. This type of warning will be suppressed for the rest of this program. (Triggered internally at  ..\\torch\\csrc\\utils\\tensor_numpy.cpp:180.)\n",
      "  return torch.from_numpy(parsed.astype(m[2], copy=False)).view(*s)\n"
     ]
    }
   ],
   "source": [
    "import torch\n",
    "from torch import nn\n",
    "from torch.utils.data import DataLoader\n",
    "from torchvision import datasets\n",
    "from torchvision.transforms import ToTensor, Lambda\n",
    "\n",
    "training_data = datasets.FashionMNIST(\n",
    "    root=\"data\",\n",
    "    train=True,\n",
    "    download=True,\n",
    "    transform=ToTensor()\n",
    ")\n",
    "\n",
    "test_data = datasets.FashionMNIST(\n",
    "    root=\"data\",\n",
    "    train=False,\n",
    "    download=True,\n",
    "    transform=ToTensor()\n",
    ")\n",
    "\n",
    "train_dataloader = DataLoader(training_data, batch_size=64)\n",
    "test_dataloader = DataLoader(test_data, batch_size=64)"
   ]
  },
  {
   "cell_type": "code",
   "execution_count": 3,
   "metadata": {},
   "outputs": [],
   "source": [
    "class NeuralNetwork(nn.Module):\n",
    "    def __init__(self):\n",
    "        super(NeuralNetwork, self).__init__()\n",
    "        self.flatten = nn.Flatten()\n",
    "        self.linear_relu_stack = nn.Sequential(\n",
    "            nn.Linear(28*28, 512),\n",
    "            nn.ReLU(),\n",
    "            nn.Linear(512, 512),\n",
    "            nn.ReLU(),\n",
    "            nn.Linear(512, 10),\n",
    "            nn.ReLU()\n",
    "        )\n",
    "\n",
    "    def forward(self, x):\n",
    "        x = self.flatten(x)\n",
    "        logits = self.linear_relu_stack(x)\n",
    "        return logits\n",
    "\n",
    "model = NeuralNetwork()"
   ]
  },
  {
   "cell_type": "markdown",
   "metadata": {},
   "source": [
    "Hyperparameters \n",
    "-----------------\n",
    "\n",
    "Hyperparameters are adjustable parameters that let you control the model optimization process. \n",
    "Different hyperparameter values can impact model training and convergence rates \n",
    "(`read more <https://pytorch.org/tutorials/beginner/hyperparameter_tuning_tutorial.html>`__ about hyperparameter tuning)\n",
    "\n",
    "We define the following hyperparameters for training:\n",
    " - **Number of Epochs** - the number times to iterate over the dataset\n",
    " - **Batch Size** - the number of data samples propagated through the network before the parameters are updated\n",
    " - **Learning Rate** - how much to update models parameters at each batch/epoch. Smaller values yield slow learning speed, while large values may result in unpredictable behavior during training.\n",
    "\n",
    "\n"
   ]
  },
  {
   "cell_type": "code",
   "execution_count": 4,
   "metadata": {},
   "outputs": [],
   "source": [
    "learning_rate = 1e-3\n",
    "batch_size = 64\n",
    "epochs = 5"
   ]
  },
  {
   "cell_type": "markdown",
   "metadata": {},
   "source": [
    "Optimization Loop\n",
    "-----------------\n",
    "\n",
    "Once we set our hyperparameters, we can then train and optimize our model with an optimization loop. Each \n",
    "iteration of the optimization loop is called an **epoch**. \n",
    "\n",
    "Each epoch consists of two main parts:\n",
    " - **The Train Loop** - iterate over the training dataset and try to converge to optimal parameters.\n",
    " - **The Validation/Test Loop** - iterate over the test dataset to check if model performance is improving.\n",
    "\n",
    "Let's briefly familiarize ourselves with some of the concepts used in the training loop. Jump ahead to \n",
    "see the `full-impl-label` of the optimization loop.\n",
    "\n",
    "Loss Function\n",
    "~~~~~~~~~~~~~~~~~~\n",
    "\n",
    "When presented with some training data, our untrained network is likely not to give the correct \n",
    "answer. **Loss function** measures the degree of dissimilarity of obtained result to the target value, \n",
    "and it is the loss function that we want to minimize during training. To calculate the loss we make a \n",
    "prediction using the inputs of our given data sample and compare it against the true data label value.\n",
    "\n",
    "Common loss functions include `nn.MSELoss <https://pytorch.org/docs/stable/generated/torch.nn.MSELoss.html#torch.nn.MSELoss>`_ (Mean Square Error) for regression tasks, and \n",
    "`nn.NLLLoss <https://pytorch.org/docs/stable/generated/torch.nn.NLLLoss.html#torch.nn.NLLLoss>`_ (Negative Log Likelihood) for classification. \n",
    "`nn.CrossEntropyLoss <https://pytorch.org/docs/stable/generated/torch.nn.CrossEntropyLoss.html#torch.nn.CrossEntropyLoss>`_ combines ``nn.LogSoftmax`` and ``nn.NLLLoss``.\n",
    "\n",
    "We pass our model's output logits to ``nn.CrossEntropyLoss``, which will normalize the logits and compute the prediction error.\n",
    "\n"
   ]
  },
  {
   "cell_type": "code",
   "execution_count": 5,
   "metadata": {},
   "outputs": [],
   "source": [
    "# Initialize the loss function\n",
    "loss_fn = nn.CrossEntropyLoss()"
   ]
  },
  {
   "cell_type": "markdown",
   "metadata": {},
   "source": [
    "Optimizer\n",
    "~~~~~~~~~~~~~~~~~\n",
    "\n",
    "Optimization is the process of adjusting model parameters to reduce model error in each training step. **Optimization algorithms** define how this process is performed (in this example we use Stochastic Gradient Descent).\n",
    "All optimization logic is encapsulated in  the ``optimizer`` object. Here, we use the SGD optimizer; additionally, there are many `different optimizers <https://pytorch.org/docs/stable/optim.html>`_ \n",
    "available in PyTorch such as ADAM and RMSProp, that work better for different kinds of models and data.\n",
    "\n",
    "We initialize the optimizer by registering the model's parameters that need to be trained, and passing in the learning rate hyperparameter.\n",
    "\n"
   ]
  },
  {
   "cell_type": "code",
   "execution_count": 6,
   "metadata": {},
   "outputs": [],
   "source": [
    "optimizer = torch.optim.SGD(model.parameters(), lr=learning_rate)"
   ]
  },
  {
   "cell_type": "markdown",
   "metadata": {},
   "source": [
    "Inside the training loop, optimization happens in three steps:\n",
    " * Call ``optimizer.zero_grad()`` to reset the gradients of model parameters. Gradients by default add up; to prevent double-counting, we explicitly zero them at each iteration.\n",
    " * Backpropagate the prediction loss with a call to ``loss.backwards()``. PyTorch deposits the gradients of the loss w.r.t. each parameter. \n",
    " * Once we have our gradients, we call ``optimizer.step()`` to adjust the parameters by the gradients collected in the backward pass.  \n",
    "\n"
   ]
  },
  {
   "cell_type": "markdown",
   "metadata": {},
   "source": [
    "\n",
    "Full Implementation\n",
    "-----------------------\n",
    "We define ``train_loop`` that loops over our optimization code, and ``test_loop`` that \n",
    "evaluates the model's performance against our test data.\n",
    "\n"
   ]
  },
  {
   "cell_type": "code",
   "execution_count": 7,
   "metadata": {},
   "outputs": [],
   "source": [
    "def train_loop(dataloader, model, loss_fn, optimizer):\n",
    "    size = len(dataloader.dataset)\n",
    "    for batch, (X, y) in enumerate(dataloader):        \n",
    "        # Compute prediction and loss\n",
    "        pred = model(X)\n",
    "        loss = loss_fn(pred, y)\n",
    "        \n",
    "        # Backpropagation\n",
    "        optimizer.zero_grad()\n",
    "        loss.backward()\n",
    "        optimizer.step()\n",
    "\n",
    "        if batch % 100 == 0:\n",
    "            loss, current = loss.item(), batch * len(X)\n",
    "            print(f\"loss: {loss:>7f}  [{current:>5d}/{size:>5d}]\")\n",
    "\n",
    "\n",
    "def test_loop(dataloader, model, loss_fn):\n",
    "    size = len(dataloader.dataset)\n",
    "    num_batches = len(dataloader)\n",
    "    test_loss, correct = 0, 0\n",
    "\n",
    "    with torch.no_grad():\n",
    "        for X, y in dataloader:\n",
    "            pred = model(X)\n",
    "            test_loss += loss_fn(pred, y).item()\n",
    "            correct += (pred.argmax(1) == y).type(torch.float).sum().item()\n",
    "            \n",
    "    test_loss /= num_batches\n",
    "    correct /= size\n",
    "    print(f\"Test Error: \\n Accuracy: {(100*correct):>0.1f}%, Avg loss: {test_loss:>8f} \\n\")"
   ]
  },
  {
   "cell_type": "markdown",
   "metadata": {},
   "source": [
    "We initialize the loss function and optimizer, and pass it to ``train_loop`` and ``test_loop``.\n",
    "Feel free to increase the number of epochs to track the model's improving performance.\n",
    "\n"
   ]
  },
  {
   "cell_type": "code",
   "execution_count": 8,
   "metadata": {},
   "outputs": [
    {
     "name": "stdout",
     "output_type": "stream",
     "text": [
      "Epoch 1\n",
      "-------------------------------\n",
      "loss: 2.302675  [    0/60000]\n",
      "loss: 2.299550  [ 6400/60000]\n",
      "loss: 2.291648  [12800/60000]\n",
      "loss: 2.290405  [19200/60000]\n",
      "loss: 2.279942  [25600/60000]\n",
      "loss: 2.263207  [32000/60000]\n",
      "loss: 2.269584  [38400/60000]\n",
      "loss: 2.252510  [44800/60000]\n",
      "loss: 2.256764  [51200/60000]\n",
      "loss: 2.214191  [57600/60000]\n",
      "Test Error: \n",
      " Accuracy: 34.2%, Avg loss: 2.235971 \n",
      "\n",
      "Epoch 2\n",
      "-------------------------------\n",
      "loss: 2.240902  [    0/60000]\n",
      "loss: 2.249500  [ 6400/60000]\n",
      "loss: 2.219844  [12800/60000]\n",
      "loss: 2.221736  [19200/60000]\n",
      "loss: 2.189644  [25600/60000]\n",
      "loss: 2.162354  [32000/60000]\n",
      "loss: 2.172111  [38400/60000]\n",
      "loss: 2.147628  [44800/60000]\n",
      "loss: 2.172839  [51200/60000]\n",
      "loss: 2.065152  [57600/60000]\n",
      "Test Error: \n",
      " Accuracy: 39.8%, Avg loss: 2.127319 \n",
      "\n",
      "Epoch 3\n",
      "-------------------------------\n",
      "loss: 2.151593  [    0/60000]\n",
      "loss: 2.166236  [ 6400/60000]\n",
      "loss: 2.104702  [12800/60000]\n",
      "loss: 2.109442  [19200/60000]\n",
      "loss: 2.035808  [25600/60000]\n",
      "loss: 2.002624  [32000/60000]\n",
      "loss: 2.014859  [38400/60000]\n",
      "loss: 1.978809  [44800/60000]\n",
      "loss: 2.039599  [51200/60000]\n",
      "loss: 1.835860  [57600/60000]\n",
      "Test Error: \n",
      " Accuracy: 40.4%, Avg loss: 1.964350 \n",
      "\n",
      "Epoch 4\n",
      "-------------------------------\n",
      "loss: 2.020524  [    0/60000]\n",
      "loss: 2.049186  [ 6400/60000]\n",
      "loss: 1.949687  [12800/60000]\n",
      "loss: 1.954844  [19200/60000]\n",
      "loss: 1.808094  [25600/60000]\n",
      "loss: 1.804886  [32000/60000]\n",
      "loss: 1.799680  [38400/60000]\n",
      "loss: 1.761350  [44800/60000]\n",
      "loss: 1.849684  [51200/60000]\n",
      "loss: 1.589826  [57600/60000]\n",
      "Test Error: \n",
      " Accuracy: 42.6%, Avg loss: 1.767342 \n",
      "\n",
      "Epoch 5\n",
      "-------------------------------\n",
      "loss: 1.838465  [    0/60000]\n",
      "loss: 1.898338  [ 6400/60000]\n",
      "loss: 1.808618  [12800/60000]\n",
      "loss: 1.820134  [19200/60000]\n",
      "loss: 1.580747  [25600/60000]\n",
      "loss: 1.649226  [32000/60000]\n",
      "loss: 1.617402  [38400/60000]\n",
      "loss: 1.591564  [44800/60000]\n",
      "loss: 1.700883  [51200/60000]\n",
      "loss: 1.414783  [57600/60000]\n",
      "Test Error: \n",
      " Accuracy: 49.1%, Avg loss: 1.626002 \n",
      "\n",
      "Epoch 6\n",
      "-------------------------------\n",
      "loss: 1.704380  [    0/60000]\n",
      "loss: 1.793144  [ 6400/60000]\n",
      "loss: 1.701447  [12800/60000]\n",
      "loss: 1.724663  [19200/60000]\n",
      "loss: 1.422835  [25600/60000]\n",
      "loss: 1.541690  [32000/60000]\n",
      "loss: 1.496034  [38400/60000]\n",
      "loss: 1.474255  [44800/60000]\n",
      "loss: 1.593394  [51200/60000]\n",
      "loss: 1.305571  [57600/60000]\n",
      "Test Error: \n",
      " Accuracy: 50.1%, Avg loss: 1.525146 \n",
      "\n",
      "Epoch 7\n",
      "-------------------------------\n",
      "loss: 1.598103  [    0/60000]\n",
      "loss: 1.705028  [ 6400/60000]\n",
      "loss: 1.607238  [12800/60000]\n",
      "loss: 1.653746  [19200/60000]\n",
      "loss: 1.312116  [25600/60000]\n",
      "loss: 1.457937  [32000/60000]\n",
      "loss: 1.410411  [38400/60000]\n",
      "loss: 1.383833  [44800/60000]\n",
      "loss: 1.509322  [51200/60000]\n",
      "loss: 1.227639  [57600/60000]\n",
      "Test Error: \n",
      " Accuracy: 51.3%, Avg loss: 1.444678 \n",
      "\n",
      "Epoch 8\n",
      "-------------------------------\n",
      "loss: 1.510914  [    0/60000]\n",
      "loss: 1.627811  [ 6400/60000]\n",
      "loss: 1.521615  [12800/60000]\n",
      "loss: 1.592829  [19200/60000]\n",
      "loss: 1.229721  [25600/60000]\n",
      "loss: 1.388387  [32000/60000]\n",
      "loss: 1.344191  [38400/60000]\n",
      "loss: 1.310485  [44800/60000]\n",
      "loss: 1.439081  [51200/60000]\n",
      "loss: 1.166372  [57600/60000]\n",
      "Test Error: \n",
      " Accuracy: 52.3%, Avg loss: 1.376679 \n",
      "\n",
      "Epoch 9\n",
      "-------------------------------\n",
      "loss: 1.437459  [    0/60000]\n",
      "loss: 1.558455  [ 6400/60000]\n",
      "loss: 1.443272  [12800/60000]\n",
      "loss: 1.536719  [19200/60000]\n",
      "loss: 1.166539  [25600/60000]\n",
      "loss: 1.329158  [32000/60000]\n",
      "loss: 1.292412  [38400/60000]\n",
      "loss: 1.250769  [44800/60000]\n",
      "loss: 1.379479  [51200/60000]\n",
      "loss: 1.115687  [57600/60000]\n",
      "Test Error: \n",
      " Accuracy: 53.1%, Avg loss: 1.319428 \n",
      "\n",
      "Epoch 10\n",
      "-------------------------------\n",
      "loss: 1.375302  [    0/60000]\n",
      "loss: 1.497521  [ 6400/60000]\n",
      "loss: 1.374241  [12800/60000]\n",
      "loss: 1.488594  [19200/60000]\n",
      "loss: 1.117984  [25600/60000]\n",
      "loss: 1.278414  [32000/60000]\n",
      "loss: 1.250759  [38400/60000]\n",
      "loss: 1.201919  [44800/60000]\n",
      "loss: 1.329367  [51200/60000]\n",
      "loss: 1.073761  [57600/60000]\n",
      "Test Error: \n",
      " Accuracy: 54.2%, Avg loss: 1.272571 \n",
      "\n",
      "Done!\n"
     ]
    }
   ],
   "source": [
    "loss_fn = nn.CrossEntropyLoss()\n",
    "optimizer = torch.optim.SGD(model.parameters(), lr=learning_rate)\n",
    "\n",
    "epochs = 10\n",
    "for t in range(epochs):\n",
    "    print(f\"Epoch {t+1}\\n-------------------------------\")\n",
    "    train_loop(train_dataloader, model, loss_fn, optimizer)\n",
    "    test_loop(test_dataloader, model, loss_fn)\n",
    "print(\"Done!\")"
   ]
  },
  {
   "cell_type": "markdown",
   "metadata": {},
   "source": [
    "Further Reading\n",
    "-----------------------\n",
    "- `Loss Functions <https://pytorch.org/docs/stable/nn.html#loss-functions>`_\n",
    "- `torch.optim <https://pytorch.org/docs/stable/optim.html>`_\n",
    "- `Warmstart Training a Model <https://pytorch.org/tutorials/recipes/recipes/warmstarting_model_using_parameters_from_a_different_model.html>`_\n",
    "\n",
    "\n"
   ]
  },
  {
   "cell_type": "code",
   "execution_count": null,
   "metadata": {},
   "outputs": [],
   "source": []
  }
 ],
 "metadata": {
  "kernelspec": {
   "display_name": "jia_pytorch",
   "language": "python",
   "name": "jia_pytorch"
  },
  "language_info": {
   "codemirror_mode": {
    "name": "ipython",
    "version": 3
   },
   "file_extension": ".py",
   "mimetype": "text/x-python",
   "name": "python",
   "nbconvert_exporter": "python",
   "pygments_lexer": "ipython3",
   "version": "3.8.5"
  }
 },
 "nbformat": 4,
 "nbformat_minor": 1
}
