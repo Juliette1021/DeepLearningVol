{
 "cells": [
  {
   "cell_type": "code",
   "execution_count": 2,
   "id": "3f4c3f98",
   "metadata": {},
   "outputs": [],
   "source": [
    "%config Completer.use_jedi=False\n",
    "import numpy as np\n",
    "import pandas as pd\n",
    "import scipy.stats as sps\n",
    "import math\n",
    "from scipy.special import gamma\n",
    "from scipy.optimize import bisect\n",
    "from scipy.stats import norm\n",
    "import matplotlib.pyplot as plt\n",
    "from tqdm.notebook import trange \n",
    "# from tqdm import trange\n",
    "import time"
   ]
  },
  {
   "cell_type": "code",
   "execution_count": 3,
   "id": "1855f922",
   "metadata": {},
   "outputs": [],
   "source": [
    "### Price of the Call/Put option with the Black Scholes model\n",
    "\n",
    "def BlackScholesCallPut(S, K, T, sigma, r=0.0, call_put=1):\n",
    "    d1 = (np.log(S/K) + (r+.5*sigma**2)*T) / (sigma * np.sqrt(T))\n",
    "    d2 = d1 - sigma * np.sqrt(T)\n",
    "    return call_put*(S*norm.cdf(call_put*d1) - K*np.exp (-r*T) * norm.cdf (call_put*d2))\n",
    "\n",
    "#### Compute the implied volatility\n",
    "\n",
    "def impliedVol(S, K, T, price, r=0.0, call_put=1):\n",
    "    def smileMin(vol, *args):\n",
    "        S, K, T, price, r, call_put = args\n",
    "        return price - BlackScholesCallPut(S, K, T, vol, r, call_put)\n",
    "    vMin = 0.0001\n",
    "    vMax = 3.\n",
    "    return bisect(smileMin, vMin, vMax, args=(S, K, T, price, r, call_put), rtol=1e-15, full_output=False, disp=True)"
   ]
  },
  {
   "cell_type": "markdown",
   "id": "feebabe7",
   "metadata": {},
   "source": [
    "### Monte Carlo simulation\n",
    "\n",
    "####  Quadratic rough Heston model\n",
    "$$\n",
    "\\begin{aligned}\n",
    "dS_t&=S_t\\sqrt{V_t}dW_t \\\\\n",
    "V_t&=a(Z_t-b)^2+c\n",
    "\\end{aligned}\n",
    "$$\n",
    "where $W$ is a Brownian motion and $a,\\,b,\\,c>0$. This model is of rought Heston type, in the sense that weighted past price returns are drivers of the volatility dynamics:\n",
    "$$Z_t=\\int_0^t(t-s)^{\\alpha-1}\\frac{\\lambda}{\\Gamma(\\alpha)}(\\theta_0(s)-Z_s)ds+\\int_0^t(t-s)^{\\alpha-1}\\frac{\\lambda}{\\Gamma(\\alpha)}\\eta\\sqrt{V_s}dW_s$$\n",
    "with $\\alpha\\in(1/2,\\,1),\\,\\lambda>0,\\,\\eta>0$ and $\\theta_0$ a deterministic function.\n",
    "\n"
   ]
  },
  {
   "cell_type": "markdown",
   "id": "656a2172",
   "metadata": {},
   "source": [
    "For simplicity, $\\theta_0(t)=\\cfrac{Z_0}{\\lambda\\Gamma(1-\\alpha)}t^{-\\alpha}$, so we have\n",
    "$$Z_t=Z_0-\\int_0^t(t-s)^{\\alpha-1}\\frac{\\lambda}{\\Gamma(\\alpha)}Z_sds+\\int_0^t(t-s)^{\\alpha-1}\\frac{\\lambda}{\\Gamma(\\alpha)}\\eta\\sqrt{V_s}dW_s$$\n",
    "\n",
    "The parameters to calibrate are $v=(\\alpha, \\lambda, a,b,c, Z_0)\\in\\mathbb{R}^6$(Note that we can always take $\\eta=1$ up to a rescaling of the other parameters)."
   ]
  },
  {
   "cell_type": "code",
   "execution_count": 4,
   "id": "de8504a4",
   "metadata": {},
   "outputs": [],
   "source": [
    "class qrHeston:\n",
    "    \"\"\"\n",
    "    A Monte Carlo class for simulating the stochastic models (ex: Heston, rough Heston...)\n",
    "            \n",
    "     \n",
    "    \"\"\"\n",
    "    def __init__(self, qrheston_params, nbTimeSteps=100, Tmax=1., S0 = 100., r = 0.0):\n",
    "        \n",
    "        # Time discretisation parameters\n",
    "        self.Tmax  = Tmax  \n",
    "        self.nbTimeSteps  = nbTimeSteps\n",
    "        self.dt = Tmax/nbTimeSteps\n",
    "        self.time_grid = np.linspace(0., Tmax, nbTimeSteps + 1)\n",
    "        \n",
    "        # Spot price\n",
    "        self.S0 = S0\n",
    "        \n",
    "        # risk-free interest\n",
    "        self.r = r\n",
    "        \n",
    "        # qrHeston parameters\n",
    "        self.alpha = qrheston_params['alpha']\n",
    "        self.Lambda = qrheston_params['Lambda']\n",
    "        self.a = qrheston_params['a']\n",
    "        self.b = qrheston_params['b']\n",
    "        self.c = qrheston_params['c']\n",
    "        self.Z0 = qrheston_params['Z0']\n",
    "        \n",
    "    \n",
    "    def qrHeston_stock(self):\n",
    "        \"\"\"\n",
    "        Monte Carlo Simulation for the quadratic rough Heston model\n",
    "        \n",
    "        Output:\n",
    "            Stock price at maturity T\n",
    "            \n",
    "        \"\"\"\n",
    "        dt = self.dt\n",
    "        nbTimeSteps  = self.nbTimeSteps\n",
    "        \n",
    "        # Generate a Brownian Motion sequence\n",
    "        W = np.random.normal(0, 1, nbTimeSteps)\n",
    "        X, Z, V  = np.zeros((3, nbTimeSteps))\n",
    "        \n",
    "        X[0] = np.log(self.S0)\n",
    "        Z[0] = self.Z0\n",
    "        V[0] = self.a * (self.Z0 - self.b)**2 + self.c\n",
    "\n",
    "\n",
    "        coef = self.Lambda/gamma(self.alpha)\n",
    "        dtsqrt = np.sqrt(dt)\n",
    "\n",
    "        for i in range(1, nbTimeSteps):\n",
    "            \n",
    "            ti   = np.power(self.time_grid[i] - self.time_grid[: i], self.alpha - 1)\n",
    "            Zi   = Z[: i]\n",
    "            Vi   = V[: i]\n",
    "            Wi   = W[: i] * dtsqrt\n",
    "            \n",
    "            tmp = np.dot(ti, dt*Zi - np.sqrt(Vi)*Wi)\n",
    "            Z[i] = self.Z0 - tmp\n",
    "#             Z[i] = self.Z0 - coef*dt*np.sum(ti*Zi) + coef*np.sum(ti*np.sqrt(Vi)*Wi)\n",
    "            V[i] = self.a * (Z[i] - self.b)**2 + self.c\n",
    "            X[i] = X[i-1] -0.5*V[i-1]*dt + np.sqrt(V[i-1])*dtsqrt*W[i]\n",
    "\n",
    "        return np.exp(X)\n",
    "    \n",
    "    def qrHeston_paths(self, nbPaths):\n",
    "        \n",
    "        ### generate N paths of stock prices for the max maturity Tmax\n",
    "        \"\"\"\n",
    "        Input:\n",
    "            nbPaths: int, number of paths for the stock prices\n",
    "        Output: \n",
    "            An 2-2 array with each row as a single path\n",
    "        \"\"\"\n",
    "        \n",
    "        paths = np.zeros((nbPaths, self.nbTimeSteps))\n",
    "        \n",
    "        for i in trange(nbPaths):\n",
    "            paths[i] = self.qrHeston_stock()\n",
    "            \n",
    "        return paths\n",
    "            \n",
    "            \n",
    "    def qrHeston_CallPut(self, strikes, maturities, N = 100000, call_put = 1):\n",
    "        ### Compute the call/put option price with call_put = 1/-1 for \"Call/Put\"  for given strikes and maturities\n",
    "        \"\"\"\n",
    "        Output:\n",
    "            A list with each element the call/put prices for the strike(s) and maturity(maturities)\n",
    "        \"\"\"\n",
    "    \n",
    "        callput_prices = []\n",
    "        paths = self.qrHeston_paths(N)\n",
    "        \n",
    "        for T in maturities:\n",
    "            prices = []\n",
    "            stop = int(T//self.dt) ##+1?\n",
    "            Stocks = paths[:, stop]\n",
    "            \n",
    "            for K in strikes:\n",
    "                cmp = np.maximum(call_put*(Stocks - K), 0.0)\n",
    "                prices.append(np.mean(cmp))\n",
    "                \n",
    "            callput_prices.append(prices)\n",
    "\n",
    "        return callput_prices\n",
    "    "
   ]
  },
  {
   "cell_type": "code",
   "execution_count": 9,
   "id": "2d904edd",
   "metadata": {},
   "outputs": [],
   "source": [
    "S0 = 100\n",
    "nbTimeSteps = 100\n",
    "r = 0.0\n",
    "maturities = np.round(np.linspace(0.1, 2, 8), 2) # Time to expiry in years\n",
    "strikes = [85, 90, 95, 97, 99, 100,102, 103, 105, 108, 110]\n",
    "#### Parameters for quadratic rough Heston\n",
    "\n",
    "\n",
    "Z0 = 0.1\n",
    "alpha = 0.6\n",
    "a = 0.384\n",
    "b = 0.095\n",
    "c = 0.0025\n",
    "Lambda = 1.2\n",
    "\n",
    "qrheston_params = {'S0': S0, 'alpha': alpha, 'Lambda': Lambda, 'a': a, 'b': b, 'c': c, 'Z0': Z0}"
   ]
  },
  {
   "cell_type": "code",
   "execution_count": 10,
   "id": "a150fd9e",
   "metadata": {},
   "outputs": [
    {
     "data": {
      "application/vnd.jupyter.widget-view+json": {
       "model_id": "2a3b4b142ab540099658fd2b2b1b447c",
       "version_major": 2,
       "version_minor": 0
      },
      "text/plain": [
       "  0%|          | 0/100000 [00:00<?, ?it/s]"
      ]
     },
     "metadata": {},
     "output_type": "display_data"
    }
   ],
   "source": [
    "MC = qrHeston(qrheston_params, Tmax=maturities[-1])\n",
    "call_prices = MC.qrHeston_CallPut(strikes, maturities)"
   ]
  },
  {
   "cell_type": "code",
   "execution_count": 11,
   "id": "5e4abe83",
   "metadata": {},
   "outputs": [
    {
     "data": {
      "image/png": "[encoded data removed]",
      "text/plain": [
       "<Figure size 1296x432 with 8 Axes>"
      ]
     },
     "metadata": {
      "needs_background": "light"
     },
     "output_type": "display_data"
    }
   ],
   "source": [
    "# call_prices\n",
    "xs = []\n",
    "ys = []\n",
    "for i in range(len(maturities)):\n",
    "    x = []\n",
    "    y = []\n",
    "    for j in range(len(strikes)):\n",
    "        try:\n",
    "            impVols = impliedVol(S0, strikes[j], maturities[i], call_prices[i][j])\n",
    "            x.append(np.log(strikes[j]/S0))\n",
    "            y.append(impVols)\n",
    "        except:\n",
    "            pass\n",
    "    xs.append(x)\n",
    "    ys.append(y)\n",
    "    \n",
    "    \n",
    "f = plt.figure(1, figsize=(18, 6))\n",
    "for i in range(len(maturities)):\n",
    "    plt.subplot(2, 4, i+1)\n",
    "    plt.scatter(xs[i],ys[i], c='g', marker='x', label=\"T = %s\"%maturities[i])\n",
    "    plt.xlabel(\"k(logmoneyness)\")\n",
    "    plt.ylabel(\"implied volatility\")\n",
    "    plt.legend(loc=1)\n",
    "plt.show();\n"
   ]
  },
  {
   "cell_type": "code",
   "execution_count": 55,
   "id": "45d23d8b",
   "metadata": {},
   "outputs": [
    {
     "data": {
      "text/plain": [
       "[0.06416878297229685,\n",
       " 0.06048243976027711,\n",
       " 0.05582860807599613,\n",
       " 0.05450081947373833,\n",
       " 0.05463361565353102,\n",
       " 0.0582346043979393,\n",
       " 0.06108754109459228,\n",
       " 0.07882014057071532,\n",
       " 0.0001]"
      ]
     },
     "execution_count": 55,
     "metadata": {},
     "output_type": "execute_result"
    }
   ],
   "source": [
    "# call_prices\n",
    "xs = []\n",
    "ys = []\n",
    "for i in range(len(maturities)):\n",
    "    x = []\n",
    "    y = []\n",
    "    for j in range(len(strikes)):\n",
    "        try:\n",
    "            impVols = impliedVol(S0, strikes[j], maturities[i], call_prices[i][j])\n",
    "            x.append(np.log(strikes[j]/S0))\n",
    "            y.append(impVols)\n",
    "        except:\n",
    "            pass\n",
    "    xs.append(x)\n",
    "    ys.append(y)\n",
    "    \n",
    "    \n",
    "f = plt.figure(1, figsize=(18, 6))\n",
    "for i in range(len(maturities)):\n",
    "    plt.subplot(2, 4, i+1)\n",
    "    plt.scatter(xs[i],ys[i], c='g', marker='x', label=\"T = %s\"%Ts[i])\n",
    "    plt.xlabel(\"k(logmoneyness)\")\n",
    "    plt.ylabel(\"implied volatility\")\n",
    "    plt.legend(loc=1)\n",
    "plt.show();\n"
   ]
  },
  {
   "cell_type": "code",
   "execution_count": 178,
   "id": "ffa43a76",
   "metadata": {
    "scrolled": true
   },
   "outputs": [
    {
     "data": {
      "image/png": "[encoded data removed]",
      "text/plain": [
       "<Figure size 432x288 with 1 Axes>"
      ]
     },
     "metadata": {
      "needs_background": "light"
     },
     "output_type": "display_data"
    }
   ],
   "source": [
    "idx = np.where(ivs>0)\n",
    "plt.scatter(logmoneyness[idx], ivs[idx], c='g', marker='x', label=f\"T = 0.1\")\n",
    "plt.xlabel(\"k (logmoneyness: ln(K/S))\")\n",
    "plt.ylabel(\"implied volatility\")\n",
    "plt.legend()\n",
    "plt.show()"
   ]
  },
  {
   "cell_type": "code",
   "execution_count": 155,
   "id": "7e8cb8e9",
   "metadata": {},
   "outputs": [],
   "source": [
    "# time = np.arange(N)\n",
    "# f = plt.figure(figsize=(16,4))\n",
    "# ax1 = plt.subplot(121)\n",
    "# ax1.plot(time, S, label = \"qrHeston\")\n",
    "# ax1.grid()\n",
    "# ax1.set_xlabel(\"time\")\n",
    "# ax1.set_ylabel(\"Prices\")\n",
    "# ax1.legend(loc=1)\n",
    "\n",
    "# ax2 = plt.subplot(122)\n",
    "# ax2.plot(time, iv, label = \"qrHeston\")\n",
    "# ax2.grid()\n",
    "# ax2.set_xlabel(\"time\")\n",
    "# ax2.set_ylabel(\"implied volatility\")\n",
    "# ax2.legend(loc=1)\n",
    "# plt.show()\n"
   ]
  },
  {
   "cell_type": "code",
   "execution_count": null,
   "id": "c009d617",
   "metadata": {},
   "outputs": [],
   "source": [
    "import multiprocessing\n",
    "\n",
    "multiprocessing.cpu_count()"
   ]
  },
  {
   "cell_type": "code",
   "execution_count": 3,
   "id": "594ed3a8",
   "metadata": {},
   "outputs": [
    {
     "data": {
      "text/plain": [
       "array([1, 2, 3, 4])"
      ]
     },
     "execution_count": 3,
     "metadata": {},
     "output_type": "execute_result"
    }
   ],
   "source": [
    "import numpy as np\n",
    "np.array([[1,2], [3,4]]).ravel()"
   ]
  },
  {
   "cell_type": "code",
   "execution_count": 7,
   "id": "c5ef457a",
   "metadata": {},
   "outputs": [
    {
     "data": {
      "text/plain": [
       "array([0, 1, 2, 1, 2, 3])"
      ]
     },
     "execution_count": 7,
     "metadata": {},
     "output_type": "execute_result"
    }
   ],
   "source": [
    "np.array([[i + j for j in range(3)] for i in range(2)]).ravel()"
   ]
  },
  {
   "cell_type": "code",
   "execution_count": null,
   "id": "3df110da",
   "metadata": {},
   "outputs": [],
   "source": []
  }
 ],
 "metadata": {
  "kernelspec": {
   "display_name": "jia21",
   "language": "python",
   "name": "jia21"
  },
  "language_info": {
   "codemirror_mode": {
    "name": "ipython",
    "version": 3
   },
   "file_extension": ".py",
   "mimetype": "text/x-python",
   "name": "python",
   "nbconvert_exporter": "python",
   "pygments_lexer": "ipython3",
   "version": "3.8.8"
  }
 },
 "nbformat": 4,
 "nbformat_minor": 5
}
