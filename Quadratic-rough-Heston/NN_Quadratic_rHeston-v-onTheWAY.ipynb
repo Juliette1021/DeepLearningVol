{
 "cells": [
  {
   "cell_type": "markdown",
   "metadata": {},
   "source": [
    "# Deep learning volatility"
   ]
  },
  {
   "cell_type": "code",
   "execution_count": 1,
   "metadata": {},
   "outputs": [],
   "source": [
    "%config Completer.use_jedi=False\n",
    "# import gzip\n",
    "import pandas as pd\n",
    "import numpy as np\n",
    "import matplotlib.pyplot as plt\n",
    "import matplotlib.ticker as mtick\n",
    "import csv\n",
    "import pandas as pd\n",
    "import scipy\n"
   ]
  },
  {
   "cell_type": "code",
   "execution_count": 2,
   "metadata": {},
   "outputs": [
    {
     "name": "stdout",
     "output_type": "stream",
     "text": [
      "1.7.0\n"
     ]
    }
   ],
   "source": [
    "import os\n",
    "os.chdir('Data')\n",
    "# os.getcwd()\n",
    "print(scipy.__version__)"
   ]
  },
  {
   "cell_type": "code",
   "execution_count": 3,
   "metadata": {},
   "outputs": [
    {
     "data": {
      "text/plain": [
       "(200535, 87)"
      ]
     },
     "execution_count": 3,
     "metadata": {},
     "output_type": "execute_result"
    }
   ],
   "source": [
    "import gzip\n",
    "f= gzip.GzipFile(\"impliedVols_total.txt.gz\",\"r\")\n",
    "df = np.load(f)\n",
    "xx = df[:, :15]\n",
    "yy = df[:, 15:]\n",
    "len(df), len(df[0])"
   ]
  },
  {
   "cell_type": "code",
   "execution_count": 4,
   "metadata": {},
   "outputs": [
    {
     "data": {
      "text/plain": [
       "(12, 6)"
      ]
     },
     "execution_count": 4,
     "metadata": {},
     "output_type": "execute_result"
    }
   ],
   "source": [
    "# maturities = np.array([0.05, 0.1, 0.2, 0.3, 0.5, 0.75, 1.0])# Time to expiry in years\n",
    "# strikes = np.array([80, 85, 90, 95, 97, 99, 100, 101, 103, 105, 110, 115, 120, 122])\n",
    "S0 = 1.\n",
    "r = 0.\n",
    "logmoneyness = np.array([-0.15, -0.12, -0.09, -0.06, -0.03, 0.0, 0.03, 0.06, 0.09, 0.12, 0.15, 0.18])\n",
    "strikes=np.exp(S0*logmoneyness)\n",
    "maturities=np.array([0.05,0.15,0.3,0.4,0.5,0.6])\n",
    "# maturities=np.array([0.03,0.05,0.07,0.09])\n",
    "# strikes = np.array([85., 90., 95., 98., 100., 102., 105., 110., 115., 122.])\n",
    "\n",
    "# strikes = np.array([5.25, 5.50, 5.75, 6.00, 6.25])\n",
    "strikes_dim = len(strikes)\n",
    "maturities_dim = len(maturities)\n",
    "strikes_dim, maturities_dim"
   ]
  },
  {
   "cell_type": "code",
   "execution_count": 5,
   "metadata": {},
   "outputs": [
    {
     "name": "stdout",
     "output_type": "stream",
     "text": [
      "(200534, 15) (200534, 72)\n",
      "0.5 2.5\n",
      "1.0 1.5\n",
      "0.1 0.6\n",
      "0.01 0.5\n",
      "0.0001 0.03\n",
      "-0.5 0.5\n",
      "-0.5 0.5\n",
      "-0.5 0.5\n",
      "-0.5 0.5\n",
      "-0.5 0.5\n",
      "-0.5 0.5\n",
      "-0.5 0.5\n",
      "-0.5 0.5\n",
      "-0.5 0.5\n",
      "-0.5 0.5\n"
     ]
    }
   ],
   "source": [
    "#remove invalid paramters\n",
    "invalid = np.where(yy == yy.min())[0]\n",
    "xx = np.delete(xx, (invalid), axis=0)\n",
    "yy = np.delete(yy, (invalid), axis=0)\n",
    "print(xx.shape, yy.shape)\n",
    "for i in range(15):\n",
    "    print(np.min(xx[:, i]),np.max(xx[:, i]))"
   ]
  },
  {
   "cell_type": "markdown",
   "metadata": {},
   "source": [
    "# Step 1: Data Generation\n",
    "\n",
    "\n",
    "### **Inputs: parameters in the rough quadratic Heston model** \n",
    "####   1.  $\\alpha\\in(0.5, 0.7);$\n",
    "####   2. $\\lambda\\in(0.5, 1.5);$\n",
    "####   3. $a\\in(0.1, 0.75);$\n",
    "####   4. $b\\in(0.05,0.5);$\n",
    "####   5. $c\\in(0.0001, 0.01);$\n",
    "####   6. $Z_0\\in(0.05, 0.3).$  \n",
    "\n",
    "    \n",
    "### **Outputs:**\n",
    "#### Implied volatility surface (11x7=77 points)"
   ]
  },
  {
   "cell_type": "markdown",
   "metadata": {},
   "source": [
    "## Scaling:\n",
    "\n",
    "### Model Parameters $\\theta\\to scale(\\theta)\\in[0,1]$\n",
    "$$scale(\\theta^i)=\\frac{2\\theta^i-(\\theta^i_{min}+\\theta^i_{max})}{\\theta^i_{max}-\\theta^i_{min}},\\quad i \\in |\\Theta|$$\n"
   ]
  },
  {
   "cell_type": "code",
   "execution_count": 6,
   "metadata": {},
   "outputs": [],
   "source": [
    "from sklearn.model_selection import train_test_split\n",
    "X_train, X_test, Y_train, y_test = train_test_split(\n",
    "    xx, yy, test_size=10000, random_state=42)\n",
    "# from sklearn.preprocessing import StandardScaler, MinMaxScaler\n",
    "\n",
    "# scale = StandardScaler()\n",
    "# y_train_transform = scale.fit_transform(y_train)\n",
    "# y_test_transform = scale.transform(y_test)\n",
    "x_train, x_val, y_train, y_val = train_test_split(\n",
    "    X_train, Y_train, test_size=20000, random_state=42)"
   ]
  },
  {
   "cell_type": "markdown",
   "metadata": {},
   "source": [
    "$\\alpha\\in[0.505, 0.7],\\; \\lambda\\in[0.5, 1.5],\\; a\\in[0.1, 0.75],\\; b\\in[0.05, 0.5],\\; c\\in[0.0001, 0.01],\\; Z_0\\in[0.05, 0.3]$"
   ]
  },
  {
   "cell_type": "code",
   "execution_count": 7,
   "metadata": {},
   "outputs": [
    {
     "name": "stdout",
     "output_type": "stream",
     "text": [
      "[ 5.e-01  1.e+00  1.e-01  1.e-02  1.e-04 -5.e-01 -5.e-01 -5.e-01 -5.e-01\n",
      " -5.e-01 -5.e-01 -5.e-01 -5.e-01 -5.e-01 -5.e-01] [2.5  1.5  0.6  0.5  0.03 0.5  0.5  0.5  0.5  0.5  0.5  0.5  0.5  0.5\n",
      " 0.5 ]\n"
     ]
    }
   ],
   "source": [
    "ub=np.max(xx, axis=0)\n",
    "lb=np.min(xx, axis=0)\n",
    "print(lb, ub)\n",
    "def myscale(x):\n",
    "    res=np.zeros(len(xx[0]))\n",
    "    for i in range(len(xx[0])):\n",
    "        res[i]=(x[i] - (ub[i] + lb[i])*0.5) * 2 / (ub[i] - lb[i])\n",
    "        \n",
    "    return res\n",
    "def myinverse(x):\n",
    "    res=np.zeros(len(xx[0]))\n",
    "    for i in range(len(xx[0])):\n",
    "        res[i]=x[i]*(ub[i] - lb[i]) *0.5 + (ub[i] + lb[i])*0.5\n",
    "        \n",
    "    return res"
   ]
  },
  {
   "cell_type": "code",
   "execution_count": 8,
   "metadata": {},
   "outputs": [
    {
     "data": {
      "text/plain": [
       "((170534, 15), (10000, 15), (20000, 15))"
      ]
     },
     "execution_count": 8,
     "metadata": {},
     "output_type": "execute_result"
    }
   ],
   "source": [
    "x_train_transform = np.array([myscale(x) for x in x_train])\n",
    "x_test_transform = np.array([myscale(x) for x in X_test])\n",
    "x_val_transform = np.array([myscale(x) for x in x_val])\n",
    "\n",
    "x_train_transform.shape, x_test_transform.shape,x_val_transform.shape\n",
    "# np.max(x_train_transform, axis=0)"
   ]
  },
  {
   "cell_type": "markdown",
   "metadata": {},
   "source": [
    "# Step 2. Create the Neural Network"
   ]
  },
  {
   "cell_type": "code",
   "execution_count": 30,
   "metadata": {},
   "outputs": [
    {
     "name": "stdout",
     "output_type": "stream",
     "text": [
      "Model: \"functional_7\"\n",
      "_________________________________________________________________\n",
      "Layer (type)                 Output Shape              Param #   \n",
      "=================================================================\n",
      "input_4 (InputLayer)         [(None, 15)]              0         \n",
      "_________________________________________________________________\n",
      "dense_21 (Dense)             (None, 25)                400       \n",
      "_________________________________________________________________\n",
      "dense_22 (Dense)             (None, 25)                650       \n",
      "_________________________________________________________________\n",
      "dense_23 (Dense)             (None, 25)                650       \n",
      "_________________________________________________________________\n",
      "dense_24 (Dense)             (None, 25)                650       \n",
      "_________________________________________________________________\n",
      "dense_25 (Dense)             (None, 25)                650       \n",
      "_________________________________________________________________\n",
      "dense_26 (Dense)             (None, 25)                650       \n",
      "_________________________________________________________________\n",
      "dense_27 (Dense)             (None, 72)                1872      \n",
      "=================================================================\n",
      "Total params: 5,522\n",
      "Trainable params: 5,522\n",
      "Non-trainable params: 0\n",
      "_________________________________________________________________\n"
     ]
    }
   ],
   "source": [
    "import keras\n",
    "from keras.layers import Activation\n",
    "from keras import backend as K\n",
    "from keras.utils.generic_utils import get_custom_objects\n",
    "keras.backend.set_floatx('float64')\n",
    "def SiLU(x):\n",
    "    return x*K.sigmoid(x)\n",
    "\n",
    "input1 = keras.layers.Input(shape=(15,))\n",
    "x1 = keras.layers.Dense(25,activation = SiLU)(input1)\n",
    "x2=keras.layers.Dense(25,activation = SiLU)(x1) \n",
    "x3=keras.layers.Dense(25,activation = SiLU)(x2) \n",
    "x4=keras.layers.Dense(25,activation = SiLU)(x3) \n",
    "x5=keras.layers.Dense(25,activation = SiLU)(x4) \n",
    "x6=keras.layers.Dense(25,activation = SiLU)(x5) \n",
    "x7=keras.layers.Dense(strikes_dim*maturities_dim,activation = 'linear')(x6)\n",
    "\n",
    "modelGEN = keras.models.Model(inputs=input1, outputs=x7)\n",
    "modelGEN.summary()"
   ]
  },
  {
   "cell_type": "markdown",
   "metadata": {},
   "source": [
    "# Step 3. Fit the Neural Network (No need to run the code, parameters are stored on a .h5 file)"
   ]
  },
  {
   "cell_type": "code",
   "execution_count": 31,
   "metadata": {
    "scrolled": true
   },
   "outputs": [],
   "source": [
    "def root_mean_squared_error(y_true, y_pred):\n",
    "        return K.sqrt(K.mean(K.square(y_pred - y_true)))\n",
    "optim = keras.optimizers.Adam(learning_rate = 0.001)\n",
    "modelGEN.compile(loss = root_mean_squared_error, optimizer = optim)"
   ]
  },
  {
   "cell_type": "code",
   "execution_count": 32,
   "metadata": {},
   "outputs": [
    {
     "name": "stdout",
     "output_type": "stream",
     "text": [
      "Epoch 1/200\n",
      "1333/1333 [==============================] - 3s 2ms/step - loss: 0.1167 - val_loss: 0.0893\n",
      "Epoch 2/200\n",
      "1333/1333 [==============================] - 2s 2ms/step - loss: 0.0903 - val_loss: 0.0871\n",
      "Epoch 3/200\n",
      "1333/1333 [==============================] - 2s 2ms/step - loss: 0.0890 - val_loss: 0.0868\n",
      "Epoch 4/200\n",
      "1333/1333 [==============================] - 2s 2ms/step - loss: 0.0882 - val_loss: 0.0868\n",
      "Epoch 5/200\n",
      "1333/1333 [==============================] - 2s 2ms/step - loss: 0.0875 - val_loss: 0.0857\n",
      "Epoch 6/200\n",
      "1333/1333 [==============================] - 2s 2ms/step - loss: 0.0875 - val_loss: 0.0855\n",
      "Epoch 7/200\n",
      "1333/1333 [==============================] - 2s 2ms/step - loss: 0.0872 - val_loss: 0.0856\n",
      "Epoch 8/200\n",
      "1333/1333 [==============================] - 2s 2ms/step - loss: 0.0870 - val_loss: 0.0854\n",
      "Epoch 9/200\n",
      "1333/1333 [==============================] - 2s 2ms/step - loss: 0.0870 - val_loss: 0.0858\n",
      "Epoch 10/200\n",
      "1333/1333 [==============================] - 2s 2ms/step - loss: 0.0870 - val_loss: 0.0854\n",
      "Epoch 11/200\n",
      "1333/1333 [==============================] - 2s 2ms/step - loss: 0.0864 - val_loss: 0.0852\n",
      "Epoch 12/200\n",
      "1333/1333 [==============================] - 2s 2ms/step - loss: 0.0864 - val_loss: 0.0853\n",
      "Epoch 13/200\n",
      "1333/1333 [==============================] - 2s 2ms/step - loss: 0.0864 - val_loss: 0.0850\n",
      "Epoch 14/200\n",
      "1333/1333 [==============================] - 2s 2ms/step - loss: 0.0864 - val_loss: 0.0849\n",
      "Epoch 15/200\n",
      "1333/1333 [==============================] - 2s 2ms/step - loss: 0.0861 - val_loss: 0.0848\n",
      "Epoch 16/200\n",
      "1333/1333 [==============================] - 3s 2ms/step - loss: 0.0863 - val_loss: 0.0847\n",
      "Epoch 17/200\n",
      "1333/1333 [==============================] - 3s 2ms/step - loss: 0.0864 - val_loss: 0.0850\n",
      "Epoch 18/200\n",
      "1333/1333 [==============================] - 2s 2ms/step - loss: 0.0863 - val_loss: 0.0848\n",
      "Epoch 19/200\n",
      "1333/1333 [==============================] - 2s 2ms/step - loss: 0.0861 - val_loss: 0.0848\n",
      "Epoch 20/200\n",
      "1333/1333 [==============================] - 2s 2ms/step - loss: 0.0864 - val_loss: 0.0846\n",
      "Epoch 21/200\n",
      "1333/1333 [==============================] - 2s 2ms/step - loss: 0.0858 - val_loss: 0.0847\n",
      "Epoch 22/200\n",
      "1333/1333 [==============================] - 2s 2ms/step - loss: 0.0862 - val_loss: 0.0847\n",
      "Epoch 23/200\n",
      "1333/1333 [==============================] - 2s 2ms/step - loss: 0.0857 - val_loss: 0.0845\n",
      "Epoch 24/200\n",
      "1333/1333 [==============================] - 2s 2ms/step - loss: 0.0861 - val_loss: 0.0845\n",
      "Epoch 25/200\n",
      "1333/1333 [==============================] - 2s 2ms/step - loss: 0.0860 - val_loss: 0.0847\n",
      "Epoch 26/200\n",
      "1333/1333 [==============================] - 2s 2ms/step - loss: 0.0857 - val_loss: 0.0847\n",
      "Epoch 27/200\n",
      "1333/1333 [==============================] - 2s 2ms/step - loss: 0.0860 - val_loss: 0.0846\n",
      "Epoch 28/200\n",
      "1333/1333 [==============================] - 2s 2ms/step - loss: 0.0860 - val_loss: 0.0846\n",
      "Epoch 29/200\n",
      "1333/1333 [==============================] - 2s 2ms/step - loss: 0.0860 - val_loss: 0.0845\n",
      "Epoch 30/200\n",
      "1333/1333 [==============================] - 2s 2ms/step - loss: 0.0861 - val_loss: 0.0845\n",
      "Epoch 31/200\n",
      "1333/1333 [==============================] - 2s 2ms/step - loss: 0.0859 - val_loss: 0.0844\n",
      "Epoch 32/200\n",
      "1333/1333 [==============================] - 2s 2ms/step - loss: 0.0858 - val_loss: 0.0844\n",
      "Epoch 33/200\n",
      "1333/1333 [==============================] - 2s 2ms/step - loss: 0.0855 - val_loss: 0.0845\n",
      "Epoch 34/200\n",
      "1333/1333 [==============================] - 2s 2ms/step - loss: 0.0856 - val_loss: 0.0845\n",
      "Epoch 35/200\n",
      "1333/1333 [==============================] - 2s 2ms/step - loss: 0.0861 - val_loss: 0.0844\n",
      "Epoch 36/200\n",
      "1333/1333 [==============================] - 2s 2ms/step - loss: 0.0858 - val_loss: 0.0845\n",
      "Epoch 37/200\n",
      "1333/1333 [==============================] - 3s 2ms/step - loss: 0.0857 - val_loss: 0.0844\n",
      "Epoch 38/200\n",
      "1333/1333 [==============================] - 2s 2ms/step - loss: 0.0859 - val_loss: 0.0845\n",
      "Epoch 39/200\n",
      "1333/1333 [==============================] - 3s 2ms/step - loss: 0.0856 - val_loss: 0.0844\n",
      "Epoch 40/200\n",
      "1333/1333 [==============================] - 3s 2ms/step - loss: 0.0857 - val_loss: 0.0844\n",
      "Epoch 41/200\n",
      "1333/1333 [==============================] - 3s 2ms/step - loss: 0.0856 - val_loss: 0.0844\n",
      "Epoch 42/200\n",
      "1333/1333 [==============================] - 3s 2ms/step - loss: 0.0854 - val_loss: 0.0844\n",
      "Epoch 43/200\n",
      "1333/1333 [==============================] - 2s 2ms/step - loss: 0.0858 - val_loss: 0.0844\n",
      "Epoch 44/200\n",
      "1333/1333 [==============================] - 2s 2ms/step - loss: 0.0857 - val_loss: 0.0845\n",
      "Epoch 45/200\n",
      "1333/1333 [==============================] - 3s 2ms/step - loss: 0.0857 - val_loss: 0.0844\n",
      "Epoch 46/200\n",
      "1333/1333 [==============================] - 2s 2ms/step - loss: 0.0856 - val_loss: 0.0844\n",
      "Epoch 47/200\n",
      "1333/1333 [==============================] - 3s 2ms/step - loss: 0.0856 - val_loss: 0.0844\n",
      "Epoch 48/200\n",
      "1333/1333 [==============================] - 3s 2ms/step - loss: 0.0857 - val_loss: 0.0844\n",
      "Epoch 49/200\n",
      "1333/1333 [==============================] - 2s 2ms/step - loss: 0.0855 - val_loss: 0.0844\n",
      "Epoch 50/200\n",
      "1333/1333 [==============================] - 2s 2ms/step - loss: 0.0852 - val_loss: 0.0844\n",
      "Epoch 51/200\n",
      "1333/1333 [==============================] - 2s 2ms/step - loss: 0.0856 - val_loss: 0.0844\n",
      "Epoch 52/200\n",
      "1333/1333 [==============================] - 2s 2ms/step - loss: 0.0858 - val_loss: 0.0843\n",
      "Epoch 53/200\n",
      "1333/1333 [==============================] - 3s 2ms/step - loss: 0.0857 - val_loss: 0.0843\n",
      "Epoch 54/200\n",
      "1333/1333 [==============================] - 3s 2ms/step - loss: 0.0856 - val_loss: 0.0844\n",
      "Epoch 55/200\n",
      "1333/1333 [==============================] - 3s 2ms/step - loss: 0.0857 - val_loss: 0.0843\n",
      "Epoch 56/200\n",
      "1333/1333 [==============================] - 3s 2ms/step - loss: 0.0856 - val_loss: 0.0844\n",
      "Epoch 57/200\n",
      "1333/1333 [==============================] - 3s 2ms/step - loss: 0.0858 - val_loss: 0.0844\n",
      "Epoch 58/200\n",
      "1333/1333 [==============================] - 3s 2ms/step - loss: 0.0857 - val_loss: 0.0844\n",
      "Epoch 59/200\n",
      "1333/1333 [==============================] - 3s 2ms/step - loss: 0.0856 - val_loss: 0.0843\n",
      "Epoch 60/200\n",
      "1333/1333 [==============================] - 3s 2ms/step - loss: 0.0856 - val_loss: 0.0844\n",
      "Epoch 61/200\n",
      "1333/1333 [==============================] - 2s 2ms/step - loss: 0.0855 - val_loss: 0.0843\n",
      "Epoch 62/200\n",
      "1333/1333 [==============================] - 2s 2ms/step - loss: 0.0854 - val_loss: 0.0844\n",
      "Epoch 63/200\n",
      "1333/1333 [==============================] - 2s 2ms/step - loss: 0.0856 - val_loss: 0.0844\n",
      "Epoch 64/200\n",
      "1333/1333 [==============================] - 3s 2ms/step - loss: 0.0858 - val_loss: 0.0844\n",
      "Epoch 65/200\n",
      "1333/1333 [==============================] - 2s 2ms/step - loss: 0.0855 - val_loss: 0.0844\n",
      "Epoch 00065: early stopping\n"
     ]
    },
    {
     "data": {
      "text/plain": [
       "<tensorflow.python.keras.callbacks.History at 0x2a3c0d448b0>"
      ]
     },
     "execution_count": 32,
     "metadata": {},
     "output_type": "execute_result"
    }
   ],
   "source": [
    "from keras.callbacks import LearningRateScheduler, EarlyStopping\n",
    "patience = 10 \n",
    "NumEpochs=500\n",
    "earlystop = EarlyStopping(monitor=\"val_loss\",\n",
    "                          min_delta=0,\n",
    "                          mode=\"min\",\n",
    "                          verbose=1, \n",
    "                          patience=patience)\n",
    "def decay_schedule(epoch, lr):\n",
    "    if epoch%10 == 0 and epoch!=0:\n",
    "        lr *= 0.5\n",
    "    return lr \n",
    "        \n",
    "lr_scheduler = LearningRateScheduler(decay_schedule)\n",
    "modelGEN.fit(x_train_transform, y_train, \n",
    "             batch_size=128,\n",
    "#              validation_split = 0.2,\n",
    "             validation_data = (x_val_transform, y_val),\n",
    "             epochs = 200, verbose = True,shuffle=1, callbacks=[earlystop, lr_scheduler])             \n",
    "#              epochs = 100, verbose = True,shuffle=1)#,callbacks=[earlystop])"
   ]
  },
  {
   "cell_type": "markdown",
   "metadata": {},
   "source": [
    "### Store/Load optimal NN parameteres"
   ]
  },
  {
   "cell_type": "code",
   "execution_count": 33,
   "metadata": {},
   "outputs": [],
   "source": [
    "modelGEN.save_weights('qrHestonNNWeights.h5')"
   ]
  },
  {
   "cell_type": "code",
   "execution_count": 34,
   "metadata": {},
   "outputs": [],
   "source": [
    "modelGEN.load_weights('qrHestonNNWeights.h5')"
   ]
  },
  {
   "cell_type": "code",
   "execution_count": 35,
   "metadata": {},
   "outputs": [],
   "source": [
    "NNParameters=[]\n",
    "for i in range(1,len(modelGEN.layers)):\n",
    "    NNParameters.append(modelGEN.layers[i].get_weights())\n",
    "# np.savetxt(\"nnParameters.txt\", np.asarray(NNParameters))\n",
    "# NNParameters"
   ]
  },
  {
   "cell_type": "markdown",
   "metadata": {},
   "source": [
    "# Step 4. Optimisation\n",
    "### (Numpy Implementation of the Neural Network tends to be faster than Keras)"
   ]
  },
  {
   "cell_type": "markdown",
   "metadata": {},
   "source": [
    "Here the *elu* function writes:\n",
    "$$elu(x) = \\begin{cases}e^{x}-1,\\; x<0\\\\\n",
    "x,\\; x\\geq 0.\n",
    "\\end{cases}$$"
   ]
  },
  {
   "cell_type": "code",
   "execution_count": 36,
   "metadata": {},
   "outputs": [],
   "source": [
    "NumLayers=6\n",
    "def SiLu(x):\n",
    "    #Careful function ovewrites x\n",
    "    sigmoid = 1./(1.+ np.exp(-x))\n",
    "    return x*sigmoid\n",
    "\n",
    "def SiLuPrime(y):\n",
    "    tmp = 1./(1+np.exp(-y))\n",
    "    return tmp + tmp**2*y*np.exp(-y)\n",
    "\n",
    "def NeuralNetwork(x):\n",
    "    input1=x\n",
    "    for i in range(NumLayers):\n",
    "        input1=np.dot(input1,NNParameters[i][0])+NNParameters[i][1]\n",
    "        #Elu activation\n",
    "        input1=SiLu(input1)\n",
    "    #The output layer is linnear\n",
    "    i+=1\n",
    "    return np.dot(input1,NNParameters[i][0])+NNParameters[i][1]\n",
    "def NeuralNetworkGradient(x):\n",
    "    input1=x\n",
    "    #Identity Matrix represents Jacobian with respect to initial parameters\n",
    "    grad=np.eye(15)\n",
    "    #Propagate the gradient via chain rule\n",
    "    for i in range(NumLayers):\n",
    "        input1=(np.dot(input1,NNParameters[i][0])+NNParameters[i][1])\n",
    "        grad=(np.einsum('ij,jk->ik', grad, NNParameters[i][0]))\n",
    "        #Elu activation\n",
    "        grad*=SiLuPrime(input1)\n",
    "        \n",
    "        input1=SiLu(input1)\n",
    "    #input1.append(np.dot(input1[i],NNParameters[i+1][0])+NNParameters[i+1][1])\n",
    "#     grad=np.einsum('ij,jk->ik',grad,NNParameters[i+1][0])\n",
    "    grad=np.dot(grad,NNParameters[i+1][0])\n",
    "    #grad stores all intermediate Jacobians, however only the last one is used here as output\n",
    "    return grad"
   ]
  },
  {
   "cell_type": "markdown",
   "metadata": {},
   "source": [
    "# Compute Implied vol relative errors on Test set"
   ]
  },
  {
   "cell_type": "code",
   "execution_count": 37,
   "metadata": {},
   "outputs": [],
   "source": [
    "### Compute the 95% confidence interval for a given 2d array(column data as variable) and the filtered array\n",
    "def filter_CI95(arr, li = 0.025, ui = 0.975):\n",
    "    res = []\n",
    "    lq = np.quantile(arr, li, axis=0)\n",
    "    uq = np.quantile(arr, ui, axis=0)\n",
    "    for i in range(len(arr[0])):\n",
    "        sub = arr[:, i]\n",
    "        tmp = sub[np.logical_and(sub>=lq[i], sub<=uq[i])]\n",
    "        res.append(tmp)\n",
    "#         print(len(tmp))\n",
    "    return res "
   ]
  },
  {
   "cell_type": "code",
   "execution_count": 38,
   "metadata": {},
   "outputs": [
    {
     "name": "stderr",
     "output_type": "stream",
     "text": [
      "<ipython-input-38-202db4f12908>:53: UserWarning: FixedFormatter should only be used together with FixedLocator\n",
      "  ax.set_yticklabels(maturities)\n"
     ]
    },
    {
     "data": {
      "image/png": "[encoded data removed]",
      "text/plain": [
       "<Figure size 1296x360 with 6 Axes>"
      ]
     },
     "metadata": {
      "needs_background": "light"
     },
     "output_type": "display_data"
    }
   ],
   "source": [
    "##### AVERAGE VALUES #######\n",
    "X_sample = x_train_transform\n",
    "y_sample = y_train\n",
    "\n",
    "# prediction=[scale.inverse_transform(modelGEN.predict(X_sample[i].reshape(1,6))[0]) for i in range(len(X_sample))]\n",
    "# prediction=[modelGEN.predict(X_sample[i].reshape(1,6))[0] for i in range(len(X_sample))]\n",
    "prediction=[NeuralNetwork(X_sample[i]) for i in range(len(X_sample))]\n",
    "# err_relative = np.abs((y_sample-prediction)/y_sample)\n",
    "# err_CI95 = filter_CI95(err_relative)\n",
    "\n",
    "RMSE = np.sqrt(np.mean(np.power(y_sample-prediction, 2), axis=1)) ### compute the RMSE of the calibrated smile surface\n",
    "\n",
    "plt.figure(1,figsize=(18,5))\n",
    "ax=plt.subplot(1,3,1)\n",
    "# err = np.array([100*np.mean(e) for e in err_CI95]) \n",
    "err = np.mean(100*np.abs((y_sample-prediction)/y_sample),axis = 0)\n",
    "plt.title(\"Average relative error\",fontsize=15,y=1.04)\n",
    "plt.imshow(err.reshape(maturities_dim,strikes_dim))\n",
    "plt.colorbar(format=mtick.PercentFormatter())\n",
    "\n",
    "ax.set_xticks(np.linspace(0,len(strikes)-1,len(strikes)))\n",
    "# ax.set_xticklabels(np.round(strikes,2))\n",
    "ax.set_xticklabels(logmoneyness)\n",
    "ax.set_yticks(np.linspace(0,len(maturities)-1,len(maturities)))\n",
    "ax.set_yticklabels(maturities)\n",
    "plt.xlabel(\"logmoneyness\",fontsize=15,labelpad=5)\n",
    "plt.ylabel(\"Maturity\",fontsize=15,labelpad=5)\n",
    "\n",
    "ax=plt.subplot(1,3,2)\n",
    "# err = np.array([100*np.std(e) for e in err_CI95]) \n",
    "err = 100*np.std(np.abs((y_sample-prediction)/y_sample),axis = 0)\n",
    "plt.title(\"Std relative error\",fontsize=15,y=1.04)\n",
    "plt.imshow(err.reshape(maturities_dim,strikes_dim))\n",
    "plt.colorbar(format=mtick.PercentFormatter())\n",
    "ax.set_xticks(np.linspace(0,len(strikes)-1,len(strikes)))\n",
    "# ax.set_xticklabels(strikes)\n",
    "ax.set_xticklabels(logmoneyness)\n",
    "\n",
    "ax.set_yticks(np.linspace(0,len(maturities)-1,len(maturities)))\n",
    "ax.set_yticklabels(maturities)\n",
    "plt.xlabel(\"logmoneyness\",fontsize=15,labelpad=5)\n",
    "plt.ylabel(\"Maturity\",fontsize=15,labelpad=5)\n",
    "\n",
    "ax=plt.subplot(1,3,3)\n",
    "# err = np.array([100*np.max(e) for e in err_CI95]) \n",
    "err = 100*np.max(np.abs((y_sample-prediction)/y_sample),axis = 0)\n",
    "plt.title(\"Maximum relative error\",fontsize=15,y=1.04)\n",
    "plt.imshow(err.reshape(maturities_dim,strikes_dim))\n",
    "plt.colorbar(format=mtick.PercentFormatter())\n",
    "ax.set_xticks(np.linspace(0,len(strikes)-1,len(strikes)))\n",
    "# ax.set_xticklabels(strikes)\n",
    "ax.set_xticklabels(logmoneyness)\n",
    "ax.set_yticklabels(maturities)\n",
    "plt.xlabel(\"logmoneyness\",fontsize=15,labelpad=5)\n",
    "plt.ylabel(\"Maturity\",fontsize=15,labelpad=5)\n",
    "plt.tight_layout()\n",
    "plt.savefig('qrHestonNNErrors.png', dpi=300)\n",
    "plt.show()\n"
   ]
  },
  {
   "cell_type": "markdown",
   "metadata": {},
   "source": [
    "# Plot sample Smiles"
   ]
  },
  {
   "cell_type": "code",
   "execution_count": null,
   "metadata": {},
   "outputs": [],
   "source": [
    "import time\n",
    "for j in range(10):\n",
    "    sample_ind = j \n",
    "    X_sample = x_test_transform[sample_ind]\n",
    "    y_sample = y_test[sample_ind]\n",
    "    print(np.round(X_test[sample_ind],2))\n",
    "    prediction=NeuralNetwork(X_sample)\n",
    "#     prediction=scale.inverse_transform(modelGEN.predict(X_sample.reshape(1,6))[0])\n",
    "    plt.figure(1,figsize=(10,6))\n",
    "    for i in range(maturities_dim):\n",
    "        plt.subplot(2,3,i+1)\n",
    "\n",
    "        plt.plot(logmoneyness, y_sample[i*strikes_dim:(i+1)*strikes_dim],'b',label=\"Input data\")\n",
    "        plt.plot(logmoneyness, prediction[i*strikes_dim:(i+1)*strikes_dim],'--r',label=\" NN Approx\")\n",
    "\n",
    "\n",
    "        plt.title(\"Maturity=%1.2f \"%maturities[i])\n",
    "        plt.xlabel(\"log-moneyness\")\n",
    "        plt.ylabel(\"Implied vol\")\n",
    "\n",
    "        plt.legend()\n",
    "    plt.tight_layout()\n",
    "    plt.show()\n",
    "#     time.sleep(5)\n",
    "    "
   ]
  },
  {
   "cell_type": "code",
   "execution_count": null,
   "metadata": {},
   "outputs": [],
   "source": [
    "%matplotlib qt \n",
    "# %matplotlib inline\n",
    "from matplotlib import cm\n",
    "from matplotlib.ticker import LinearLocator\n",
    "fig = plt.figure(figsize=(16,8))\n",
    "ax = fig.add_subplot(projection = '3d')\n",
    "X, Y = np.meshgrid(logmoneyness, maturities)\n",
    "rng = np.random.default_rng()\n",
    "i = rng.integers(len(x_test_transform))\n",
    "print(\"Test sample id: \",i)\n",
    "Z = NeuralNetwork(x_test_transform[i]).reshape(maturities_dim, -1)\n",
    "surf = ax.plot_surface(X, Y, Z, cmap = cm.coolwarm, linewidth=0, antialiased=False)\n",
    "ax.set_xlabel(\"logmoneyness\")\n",
    "ax.set_ylabel(\"maturities\")\n",
    "ax.set_zlim(-.25, .8)\n",
    "ax.zaxis.set_major_formatter(\"{x:.02f}\")\n",
    "fig.colorbar(surf, shrink=0.25, aspect=5)\n",
    "plt.show()"
   ]
  },
  {
   "cell_type": "markdown",
   "metadata": {},
   "source": [
    "$\\alpha\\in[0.505, 0.7],\\; \\lambda\\in[0.5, 1.5],\\; a\\in[0.1, 0.75],\\; b\\in[0.05, 0.5],\\; c\\in[0.0001, 0.01],\\; Z_0\\in[0.05, 0.3]$"
   ]
  },
  {
   "cell_type": "markdown",
   "metadata": {},
   "source": [
    "# Use gradient methods for optimisation"
   ]
  },
  {
   "cell_type": "code",
   "execution_count": null,
   "metadata": {},
   "outputs": [],
   "source": [
    "def CostFunc(x,sample_ind):\n",
    "    return np.sum(np.power((NeuralNetwork(x)-y_test[sample_ind]),2))\n",
    "def Jacobian(x,sample_ind):\n",
    "    return 2*np.sum((NeuralNetwork(x)-y_test[sample_ind])*NeuralNetworkGradient(x),axis=1)\n",
    "#Cost Function for Levenberg Marquardt\n",
    "def CostFuncLS(x,sample_ind):\n",
    "    return (NeuralNetwork(x)-y_test[sample_ind])\n",
    "\n",
    "def JacobianLS(x,sample_ind):\n",
    "    return NeuralNetworkGradient(x).T"
   ]
  },
  {
   "cell_type": "code",
   "execution_count": null,
   "metadata": {},
   "outputs": [],
   "source": [
    "import time\n",
    "\n",
    "Approx=[]\n",
    "Timing = []\n",
    "solutions=np.zeros((2, 15))\n",
    "init=np.zeros(15)\n",
    "for i in range(len(X_test)):\n",
    "    disp=str(i+1)+\"/\" + str(len(X_test))\n",
    "    print (disp, end=\"\\r\")\n",
    "    times = np.zeros(2)\n",
    "    #Levenberg-Marquardt\n",
    "    start= time.time()\n",
    "    I=scipy.optimize.minimize(CostFunc,x0=init,args=i,method='L-BFGS-B',jac=Jacobian, tol=1E-10,options={\"maxiter\":5000})\n",
    "    end= time.time()\n",
    "    solutions[0,:]=myinverse(I.x)\n",
    "    times[0]=end-start\n",
    "    \n",
    "    start= time.time()\n",
    "#     I=scipy.optimize.least_squares(CostFuncLS, I.x, JacobianLS,method='lm',args=(i,),gtol=1E-10)\n",
    "    end= time.time()\n",
    "    solutions[1,:]=myinverse(I.x)\n",
    "    times[1]=end-start\n",
    "    \n",
    "    Approx.append(np.copy(solutions))\n",
    "    Timing.append(np.copy(times))\n",
    "    \n",
    "print(\"time spent: %ss\"%np.round(np.sum(Timing), 15))\n",
    "# print(\"solution: \", np.round(np.mean(Approx, axis=0), 6))"
   ]
  },
  {
   "cell_type": "code",
   "execution_count": null,
   "metadata": {},
   "outputs": [],
   "source": [
    "for i in range(227,233):\n",
    "    print(Approx[i][0])"
   ]
  },
  {
   "cell_type": "markdown",
   "metadata": {},
   "source": [
    "# Save the Lavenberg-Marquardt Optimal parameters"
   ]
  },
  {
   "cell_type": "code",
   "execution_count": null,
   "metadata": {},
   "outputs": [],
   "source": [
    "LMParameters=np.array([Approx[i][0] for i in range(len(Approx))])\n",
    "np.savetxt(\"NNParametersQuadraticRoughHeston.txt\",LMParameters)\n",
    "LMParameters = np.loadtxt(\"NNParametersQuadraticRoughHeston.txt\")\n",
    "LMParameters.shape\n",
    "init_lm = np.mean(LMParameters, axis=0)\n",
    "# Approx[0][0], Approx[0][1]\n",
    "init_lm"
   ]
  },
  {
   "cell_type": "code",
   "execution_count": null,
   "metadata": {},
   "outputs": [],
   "source": [
    "np.max(LMParameters, axis=0)"
   ]
  },
  {
   "cell_type": "markdown",
   "metadata": {},
   "source": [
    "# Calibration Errors with Levenberg-Marquardt"
   ]
  },
  {
   "cell_type": "code",
   "execution_count": null,
   "metadata": {},
   "outputs": [],
   "source": [
    "%matplotlib inline\n",
    "titles=[\"$\\\\lambda$\",\"$\\\\eta$\",\"$a$\",\"$b$\", \"$c$\"]\n",
    "for i in range(1, 11):\n",
    "    s = \"$Z0_{\"+str(i)+\"}$\"\n",
    "    titles.append(s)\n",
    "average_nae=np.zeros([15, len(X_test)])\n",
    "fig=plt.figure(figsize=(13,14))\n",
    "for u in range(15):\n",
    "    ax=plt.subplot(5,3,u+1)\n",
    "    x=X_test[:,u]\n",
    "    lu = ub[u]-lb[u]\n",
    "    average_nae[u,:]=np.abs(LMParameters[:,u]-x)/lu\n",
    "    y = np.abs(LMParameters[:,u]-x)/lu\n",
    "    \n",
    "    plt.plot(x, y,'b*')\n",
    "    plt.title(titles[u],fontsize=20)\n",
    "    plt.ylabel('NAE Error',fontsize=15)\n",
    "#     plt.gca().yaxis.set_major_formatter(mtick.PercentFormatter() )\n",
    "\n",
    "    plt.tick_params(axis='both', which='major', labelsize=15)\n",
    "    plt.tick_params(axis='both', which='minor', labelsize=15)\n",
    "#     plt.text(0.5, 0.8, 'Average: %1.2f%\\n Median:   %1.2f% '%(np.mean(y),np.quantile(y,0.5)), horizontalalignment='center',verticalalignment='center', transform=ax.transAxes,fontsize=15)\n",
    "plt.tight_layout()\n",
    "\n",
    "plt.savefig('qrHestonParameterNAEErrors.png', dpi=300)\n",
    "plt.show()"
   ]
  },
  {
   "cell_type": "code",
   "execution_count": null,
   "metadata": {},
   "outputs": [],
   "source": [
    "plt.figure(figsize=(20, 6))\n",
    "plt.clf()\n",
    "plt.subplot(121)\n",
    "ax = plt.gca()\n",
    "q=np.linspace(0,0.99,200)\n",
    "for u in range(15):\n",
    "    p=plt.plot(100*q,np.quantile(average_nae[u,:],q),label=titles[u])\n",
    "    c=p[0].get_color()\n",
    "    ymin, ymax = ax.get_ylim()\n",
    "ax.set_xlim(0,100)\n",
    "plt.plot(100*np.ones(2)*0.95,np.array([0,ymax]),'--k',label=\"95% quantile\")\n",
    "plt.title(\"Empirical CDF of parameter normalized absolute error(NAE)\",fontsize=20)\n",
    "plt.legend(fontsize=10, loc=2)\n",
    "plt.xlabel(\"quantiles\",fontsize=17)\n",
    "plt.ylabel(\"NAE error\",fontsize=17)\n",
    "# plt.gca().yaxis.set_major_formatter(mtick.FixedFormatter() )\n",
    "plt.gca().xaxis.set_major_formatter(mtick.PercentFormatter() )\n",
    "plt.tick_params(axis='both', which='major', labelsize=17)\n",
    "plt.tick_params(axis='both', which='minor', labelsize=17)\n",
    "plt.xticks(np.arange(0, 101, step=10))\n",
    "plt.grid()\n",
    "\n",
    "plt.subplot(122)\n",
    "ax = plt.gca()\n",
    "q=np.linspace(0,1,200)\n",
    "p=plt.plot(100*q,np.quantile(100*RMSE,q),linewidth=3,label=\"RMSE\")\n",
    "ymin, ymax = ax.get_ylim()\n",
    "plt.plot(100*np.ones(2)*0.99,np.array([0,ymax]),'--k',label=\"99% quantile\")\n",
    "plt.title(\"Empirical CDF of implied vol surface RMSE\",fontsize=20)\n",
    "plt.legend(fontsize=17)\n",
    "plt.xlabel(\"quantiles\",fontsize=17)\n",
    "plt.ylabel(\"RMSE\",fontsize=17)\n",
    "plt.gca().yaxis.set_major_formatter(mtick.PercentFormatter() )\n",
    "plt.gca().xaxis.set_major_formatter(mtick.PercentFormatter() )\n",
    "plt.tick_params(axis='both', which='major', labelsize=17)\n",
    "plt.tick_params(axis='both', which='minor', labelsize=17)\n",
    "plt.xticks(np.arange(0, 101, step=10))\n",
    "plt.grid()\n",
    "plt.savefig('qrHestonErrorCDF.png', dpi=300)\n",
    "plt.show()\n"
   ]
  },
  {
   "cell_type": "markdown",
   "metadata": {},
   "source": [
    "## Calibration on market data"
   ]
  },
  {
   "cell_type": "code",
   "execution_count": null,
   "metadata": {},
   "outputs": [],
   "source": [
    "from scipy import  interpolate\n",
    "from scipy.interpolate import griddata\n",
    "import json\n",
    "\n",
    "df_logmoneyness_market = json.load(open('logmoneyness_market.json'))\n",
    "df_market = json.load(open('impliedVols_market.json'))\n",
    "### maturities and strikes on the market\n",
    "maturities_market = [0.06, 0.15, 0.31, 0.56]\n",
    "print(\"Market logmoneyness: \",df_logmoneyness_market[10])\n",
    "print(\"Model logmoneyness: \",np.round(logmoneyness,3))\n",
    "print(\"Model Maturities: \" ,maturities)\n",
    "# df_market"
   ]
  },
  {
   "cell_type": "code",
   "execution_count": null,
   "metadata": {},
   "outputs": [],
   "source": [
    "def interpolation_NN(x, maturities_market, logmoneyness_market):\n",
    "    \"\"\"\n",
    "    a function for the interpolation of the market data to the NeuralNetwork\n",
    "    Input: \n",
    "        x: the input sample for the Neural Network function\n",
    "        logmonyness_market(dim=9), maturities_market(dim=4)\n",
    "    Output: \n",
    "        f: the interpolation results of the NeuralNetwork, \n",
    "        df: the interpolation results of the NeuralNetworkGradient\n",
    "    \"\"\"\n",
    "    \n",
    "    sbs = interpolate.RectBivariateSpline(maturities, logmoneyness, NeuralNetwork(x).reshape(maturities_dim,-1))\n",
    "    fnew = sbs(maturities_market, logmoneyness_market) \n",
    "#     X,Y = np.meshgrid(logmoneyness, maturities)\n",
    "#     sbs = interpolate.SmoothBivariateSpline(X.ravel(), Y.ravel(), NeuralNetwork(x))\n",
    "#     return sbs(logmoneyness_market, maturities_market).ravel()\n",
    "     \n",
    "    return fnew.ravel()\n",
    "\n",
    "def interpolation_NN_Gradient(x, maturities_market, logmoneyness_market):\n",
    "    \"\"\"\n",
    "    a function for the interpolation of the market data to the NeuralNetworkGradient\n",
    "    Input: \n",
    "        x: the input sample for the Neural Network function\n",
    "        logmonyness_market(dim=9), maturities_market(dim=4)\n",
    "    Output: \n",
    "        gradient: the interpolation results of the NeuralNetworkGradient\n",
    "    \"\"\"\n",
    "    gradient    = np.zeros((6, len(logmoneyness_market)*len(maturities_market)))\n",
    "    nnGradient  = NeuralNetworkGradient(x)\n",
    "    \n",
    "    for i in range(6):\n",
    "        sbs = interpolate.RectBivariateSpline(maturities, logmoneyness, nnGradient[i].reshape(maturities_dim,-1))\n",
    "        gradient[i] = sbs(maturities_market, logmoneyness_market).ravel()\n",
    "\n",
    "    return gradient\n",
    "    \n"
   ]
  },
  {
   "cell_type": "code",
   "execution_count": null,
   "metadata": {},
   "outputs": [],
   "source": [
    "def CostFunc_(x,sample_ind):\n",
    "    logmoneyness_market = df_logmoneyness_market[sample_ind]\n",
    "    interpolated = interpolation_NN(x,maturities_market, logmoneyness_market)\n",
    "    return np.sum(np.power(interpolated - df_market[sample_ind], 2))\n",
    "\n",
    "def Jacobian_(x,sample_ind):\n",
    "    logmoneyness_market = df_logmoneyness_market[sample_ind]\n",
    "    interpolated = interpolation_NN(x,maturities_market, logmoneyness_market)\n",
    "    gradient = interpolation_NN_Gradient(x,maturities_market, logmoneyness_market)\n",
    "    \n",
    "    return 2*np.sum((interpolated - df_market[sample_ind])*gradient,axis=1)\n",
    "\n",
    "# #Cost Function for Levenberg Marquardt\n",
    "\n",
    "def CostFuncLS_(x,sample_ind):\n",
    "    logmoneyness_market = df_logmoneyness_market[sample_ind]\n",
    "    interpolated = interpolation_NN(x,maturities_market, logmoneyness_market)\n",
    "    return (interpolated - df_market[sample_ind])\n",
    "\n",
    "def JacobianLS_(x,sample_ind):\n",
    "    logmoneyness_market = df_logmoneyness_market[sample_ind]\n",
    "    return interpolation_NN_Gradient(x,maturities_market, logmoneyness_market).T"
   ]
  },
  {
   "cell_type": "code",
   "execution_count": null,
   "metadata": {},
   "outputs": [],
   "source": [
    "def CostFunc_c(c, sample_ind, init_x):\n",
    "    x1 = init_x.copy()\n",
    "    x1[-2] = c \n",
    "    interpolated = interpolation_NN(x1, maturities_market, df_logmoneyness_market[sample_ind])\n",
    "    return np.sum(np.power(interpolated - df_market[sample_ind], 2))"
   ]
  },
  {
   "cell_type": "code",
   "execution_count": null,
   "metadata": {},
   "outputs": [],
   "source": [
    "from scipy.optimize import  Bounds, LinearConstraint\n",
    "bounds = Bounds([-1.]*15, [1.]*15)\n",
    "l = np.array([1., np.inf, np.inf, np.inf, np.inf, np.inf])\n",
    "constraints = LinearConstraint(np.diag(np.ones(15)), -np.ones(15), np.ones(15))\n",
    "\n",
    "# constraints = LinearConstraint(np.diag(np.ones(6)), -np.ones(6), np.ones(6))\n",
    "\n",
    "bounds = [(-1., 1.)]*15\n"
   ]
  },
  {
   "cell_type": "code",
   "execution_count": null,
   "metadata": {},
   "outputs": [],
   "source": [
    "import time \n",
    "Approx=[]\n",
    "Timing = []\n",
    "\n",
    "solutions=np.zeros([4,15])\n",
    "# init = myscale(np.array([0.51, 1.2, 0.384, 0.095, 0.0025, 0.1]))\n",
    "init = np.zeros(15)\n",
    "times = np.zeros(4)\n",
    "for i in range(len(df_market)):\n",
    "    disp=str(i+1)+\"/\" + str(len(df_market))\n",
    "    print (disp, end=\"\\r\")\n",
    "#     args=(i,)\n",
    "#     start= time.time()\n",
    "#     I=scipy.optimize.minimize(CostFunc_, x0=init, args=(i,), method='Powell', tol=1E-10,\n",
    "#                               bounds = bounds,\n",
    "#                               options={\"maxiter\": 5000})\n",
    "#     end= time.time()\n",
    "#     solutions[1, :]=myinverse(I.x)\n",
    "#     times[1] = end-start\n",
    "    \n",
    "    \n",
    "    # Cobyla - gradient free method \"\n",
    "    start= time.time()\n",
    "    I=scipy.optimize.minimize(CostFunc_, x0=init, args=(i,), method='COBYLA', tol=1E-10,\n",
    "                              constraints = constraints,\n",
    "                              options={\"maxiter\": 5000})\n",
    "    end= time.time()\n",
    "    solutions[2, :]=myinverse(I.x)\n",
    "    times[2] = end-start\n",
    "    \n",
    "    ## Nelder-Mead Method\n",
    "    start= time.time()\n",
    "    I=scipy.optimize.minimize(CostFunc_, x0=init, args=(i,), method='Nelder-Mead', tol=1E-10,\n",
    "                              bounds = bounds,\n",
    "                              options={\"maxiter\": 5000, \"adaptive\":True})\n",
    "    end= time.time()\n",
    "    solutions[3, :]=myinverse(I.x)\n",
    "    times[3] = end-start\n",
    "    Approx.append(np.copy(solutions))\n",
    "    Timing.append(np.copy(times))\n",
    "    \n",
    "print(\"time spent: %ss\"%np.round(np.sum(Timing, axis=0), 6))\n",
    "#     start= time.time()\n",
    "# #     I=scipy.optimize.minimize(CostFunc,x0=init,args=i,method='SLSQP', jac=Jacobian,bounds=bnds, tol=1E-10,options={\"maxiter\":5000})\n",
    "#     I=scipy.optimize.minimize(CostFunc,x0=init,args=i,method='SLSQP', jac=Jacobian, tol=1E-10,options={\"maxiter\":5000})\n",
    "#     end= time.time()\n",
    "#     solutions[0,:]=myinverse(I.x)\n",
    "#     times[0]=end-start\n",
    "    \n",
    "#     start= time.time()\n",
    "#     I=scipy.optimize.minimize(CostFunc_,x0=init,args=(i,),method='L-BFGS-B', jac=Jacobian_,  tol=1E-10, options={\"maxiter\":5000})\n",
    "# #     I=scipy.optimize.minimize(CostFunc,x0=init,args=i,method='L-BFGS-B', jac=Jacobian,bounds=bnds, tol=1E-10,options={\"maxiter\":5000})\n",
    "#     end= time.time()\n",
    "#     solutions[1,:]=myinverse(I.x)\n",
    "# # #     print(solutions[1,:]) \n",
    "#     times[1]=end-start\n",
    "    \n",
    "#    # Levenberg-Marquardt\n",
    "#     start= time.time()\n",
    "#     I=scipy.optimize.least_squares(CostFuncLS, x0=init,jac=JacobianLS,method='lm', args=(i,),gtol=1E-10)\n",
    "# #     I=scipy.optimize.least_squares(CostFuncLS, x0=init,jac=JacobianLS,bounds=(-np.ones(6), np.ones(6)), args=(i,),gtol=1E-10)\n",
    "#     end= time.time()\n",
    "#     solutions[2, :]=myinverse(I.x)\n",
    "#     times[2] = end-start\n",
    "    \n",
    "    \n",
    "# print(\"solution: \", np.round(np.mean(Approx, axis=0), 6))"
   ]
  },
  {
   "cell_type": "code",
   "execution_count": null,
   "metadata": {},
   "outputs": [],
   "source": [
    "np.set_printoptions(formatter={'float': '{: 0.5f}'.format})\n",
    "for i in range(2):\n",
    "    print(Approx[i][2], Approx[i][3])\n"
   ]
  },
  {
   "cell_type": "code",
   "execution_count": null,
   "metadata": {},
   "outputs": [],
   "source": [
    "### results with bounds\n",
    "for j in range(1,4):\n",
    "    tmp = [Approx[i][j] for i in range(len(Approx))]\n",
    "    print(\"Mean:\",np.mean(tmp, axis=0))\n",
    "    print(\"Std: \",np.round(np.std(tmp, axis=0), 10))\n",
    "    print(\"-------------------------------------------------------------------------------\")\n",
    "    "
   ]
  },
  {
   "cell_type": "code",
   "execution_count": null,
   "metadata": {},
   "outputs": [],
   "source": [
    "### Interpolation figure\n",
    "# %matplotlib qt \n",
    "\n",
    "fig = plt.figure(figsize=(12,6))\n",
    "ax = fig.add_subplot(projection = '3d')\n",
    "init = np.zeros(6)\n",
    "\n",
    "X, Y = np.meshgrid(logmoneyness, maturities)\n",
    "Z = NeuralNetwork(init).reshape(maturities_dim, -1)\n",
    "\n",
    "logmoneyness_market = df_logmoneyness_market[0]\n",
    "X1, Y1 = np.meshgrid(logmoneyness_market, maturities_market)\n",
    "Z1 = interpolation_NN(init, maturities_market, logmoneyness_market).reshape(len(maturities_market), -1)\n",
    "\n",
    "\n",
    "surf = ax.plot_surface(X, Y, Z, cmap = cm.coolwarm, linewidth=0, antialiased=False, alpha=0.5)\n",
    "points = ax.scatter(X1, Y1, Z1, c='g')\n",
    "\n",
    "ax.set_xlabel(\"logmoneyness\")\n",
    "ax.set_ylabel(\"maturities\")\n",
    "ax.set_zlim(-.25, .4)\n",
    "ax.zaxis.set_major_formatter(\"{x:.02f}\")\n",
    "fig.colorbar(surf, shrink=0.25, aspect=5)\n",
    "\n",
    "plt.show()"
   ]
  },
  {
   "cell_type": "code",
   "execution_count": null,
   "metadata": {},
   "outputs": [],
   "source": [
    "%matplotlib inline\n",
    "\n",
    "for sample_ind  in range(2):\n",
    "    logmoneyness_market = df_logmoneyness_market[sample_ind]\n",
    "    l = len(logmoneyness_market)\n",
    "    \n",
    "    X_sample = myscale(Approx[sample_ind][3])\n",
    "    y_sample = df_market[sample_ind]\n",
    "    prediction=interpolation_NN(X_sample, maturities_market, logmoneyness_market)\n",
    "    print(\"loss: \",CostFunc_(X_sample, sample_ind))\n",
    "    print(Approx[sample_ind][3])\n",
    "    \n",
    "    plt.figure(1,figsize=(12,3))\n",
    "    for i in range(len(maturities_market)):\n",
    "        plt.subplot(1,4,i+1)\n",
    " \n",
    "        plt.plot(logmoneyness_market, y_sample[i*l :(i+1)*l],'b',label=\"Input data\")\n",
    "        plt.plot(logmoneyness_market, prediction[i*l :(i+1)*l],'--r',label=\" NN Approx\")\n",
    "\n",
    "\n",
    "        plt.title(\"Maturity=%1.2f \"%maturities_market[i])\n",
    "        plt.xlabel(\"log-moneyness\")\n",
    "        plt.ylabel(\"Implied vol\")\n",
    "\n",
    "        plt.legend()\n",
    "    plt.tight_layout()\n",
    "    plt.show()\n"
   ]
  },
  {
   "cell_type": "code",
   "execution_count": null,
   "metadata": {},
   "outputs": [],
   "source": [
    "from ipywidgets import interact, interactive, fixed, interact_manual\n",
    "import ipywidgets as widgets\n",
    "strikes_dim=11\n",
    "import matplotlib.pyplot as plt\n",
    "%matplotlib inline\n",
    "\n",
    "import numpy as np\n",
    "def plot_func(sample_ind, alpha,Lambda,a,b,c, Z0):\n",
    "    x0=myscale(np.array([alpha,Lambda,a,b,c, Z0]))\n",
    "    Smiles=df_market[sample_ind]\n",
    "    logmoneyness_market = df_logmoneyness_market[sample_ind]\n",
    "    strikes_dim_market = len(df_logmoneyness_market[sample_ind])\n",
    "    \n",
    "    Smiles_interpolated = interpolation_NN(x0, maturities_market, df_logmoneyness_market[sample_ind])\n",
    "    \n",
    "    plt.figure(1,figsize=(13,3))\n",
    "    \n",
    "    for i in range(4):\n",
    "        plt.subplot(1,4,i+1)\n",
    "\n",
    "        y1 = Smiles[i*strikes_dim_market:(i+1)*strikes_dim_market]\n",
    "        y2 = Smiles_interpolated[i*strikes_dim_market:(i+1)*strikes_dim_market]\n",
    "        plt.plot(logmoneyness_market,y1, '*r',label=\"Real Market Smile\")\n",
    "        plt.plot(logmoneyness_market,y2, '*g',label=\" NN Approx interpolation\")\n",
    "        \n",
    "        y = np.concatenate((y1, y2))\n",
    "        plt.ylim(np.min(y)-.05, np.max(y)+.1)\n",
    "        plt.title(\"Maturity=%1.2f \"%maturities_market[i])\n",
    "        plt.xlabel(\"log-moneyness\")\n",
    "        plt.ylabel(\"Implied vol\")\n",
    "\n",
    "        plt.legend()\n",
    "    plt.tight_layout()\n",
    "    plt.show() \n",
    "\n",
    "\n",
    "interact(plot_func, sample_ind = widgets.IntSlider(value=0, \n",
    "                                               min=0,\n",
    "                                               max=len(df_market),\n",
    "                                               step=1),\n",
    "         alpha = widgets.FloatSlider(value=0.6,\n",
    "                                               min=0.505,\n",
    "                                               max=0.8,\n",
    "                                               step=0.02),\n",
    "         Lambda = widgets.FloatSlider(value=1.2,\n",
    "                                               min=0.8,\n",
    "                                               max=1.5,\n",
    "                                               step=0.02),\n",
    "         a = widgets.FloatSlider(value=0.25,\n",
    "                                               min=0.1,\n",
    "                                               max=0.5,\n",
    "                                               step=0.02),\n",
    "         b = widgets.FloatSlider(value=0.1,\n",
    "                                               min=0.01,\n",
    "                                               max=0.5,\n",
    "                                               step=0.02),\n",
    "         c = widgets.FloatSlider(value=0.005,\n",
    "                                               min=0.001,\n",
    "                                               max=0.01,\n",
    "                                               step=0.005),\n",
    "         Z0 = widgets.FloatSlider(value=0.1,\n",
    "                                               min=0.05,\n",
    "                                               max=0.3,\n",
    "                                               step=0.05))"
   ]
  },
  {
   "cell_type": "code",
   "execution_count": null,
   "metadata": {},
   "outputs": [],
   "source": [
    "logmoneyne = np.array([-0.15, -0.12, -0.09, -0.06, -0.03, 0.0, 0.03, 0.06, 0.09, 0.12, 0.15, 0.18])\n",
    "np.round(np.exp(logmoneyne),2)"
   ]
  },
  {
   "cell_type": "code",
   "execution_count": null,
   "metadata": {},
   "outputs": [],
   "source": []
  }
 ],
 "metadata": {
  "anaconda-cloud": {},
  "kernelspec": {
   "display_name": "jia21",
   "language": "python",
   "name": "jia21"
  },
  "language_info": {
   "codemirror_mode": {
    "name": "ipython",
    "version": 3
   },
   "file_extension": ".py",
   "mimetype": "text/x-python",
   "name": "python",
   "nbconvert_exporter": "python",
   "pygments_lexer": "ipython3",
   "version": "3.8.8"
  },
  "widgets": {
   "state": {
    "1b7631c6baf748d1986bebf20535c17f": {
     "views": [
      {
       "cell_index": 30
      }
     ]
    }
   },
   "version": "1.2.0"
  }
 },
 "nbformat": 4,
 "nbformat_minor": 2
}
