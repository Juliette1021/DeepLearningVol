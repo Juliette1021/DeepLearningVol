{
 "cells": [
  {
   "cell_type": "code",
   "execution_count": 1,
   "metadata": {},
   "outputs": [],
   "source": [
    "import numpy as np\n",
    "import pandas as pd\n",
    "import scipy.stats as sps\n",
    "import math\n",
    "from scipy.special import gamma\n",
    "from scipy.optimize import bisect\n",
    "from scipy.stats import norm\n",
    "from utils import *\n",
    "%config Completer.use_jedi=False\n",
    "from tqdm.notebook import trange\n",
    "import matplotlib.pyplot as plt\n",
    "\n",
    "import torch\n",
    "torch.set_printoptions(precision=6)\n",
    "device = 'cuda' if torch.cuda.is_available() else 'cpu'"
   ]
  },
  {
   "cell_type": "code",
   "execution_count": 19,
   "metadata": {},
   "outputs": [],
   "source": [
    "from torch.utils.data import random_split, DataLoader"
   ]
  },
  {
   "cell_type": "code",
   "execution_count": 2,
   "metadata": {},
   "outputs": [],
   "source": [
    "import os\n",
    "os.chdir('Data')"
   ]
  },
  {
   "cell_type": "code",
   "execution_count": 29,
   "metadata": {},
   "outputs": [
    {
     "data": {
      "text/plain": [
       "(180000, 87)"
      ]
     },
     "execution_count": 29,
     "metadata": {},
     "output_type": "execute_result"
    }
   ],
   "source": [
    "import gzip\n",
    "f= gzip.GzipFile(\"impliedVols_total.txt.gz\",\"r\")\n",
    "df = np.load(f)[:180000]\n",
    "xx = df[:, :15]\n",
    "yy = df[:, 15:]\n",
    "len(df), len(df[0])"
   ]
  },
  {
   "cell_type": "code",
   "execution_count": 26,
   "metadata": {},
   "outputs": [
    {
     "data": {
      "text/plain": [
       "(12, 6)"
      ]
     },
     "execution_count": 26,
     "metadata": {},
     "output_type": "execute_result"
    }
   ],
   "source": [
    "S0 = 1.\n",
    "r = 0.\n",
    "logmoneyness = np.array([-0.15, -0.12, -0.09, -0.06, -0.03, 0.0, 0.03, 0.06, 0.09, 0.12, 0.15, 0.18])\n",
    "strikes=np.exp(S0*logmoneyness)\n",
    "maturities=np.array([0.05,0.15,0.3,0.4,0.5,0.6])\n",
    "strikes_dim = len(strikes)\n",
    "maturities_dim = len(maturities)\n",
    "strikes_dim, maturities_dim"
   ]
  },
  {
   "cell_type": "code",
   "execution_count": 7,
   "metadata": {},
   "outputs": [],
   "source": [
    "ub=np.max(xx, axis=0)\n",
    "lb=np.min(xx, axis=0)\n",
    "def myscale(x):\n",
    "    res=np.zeros(len(xx[0]))\n",
    "    for i in range(len(xx[0])):\n",
    "        res[i]=(x[i] - (ub[i] + lb[i])*0.5) * 2 / (ub[i] - lb[i])\n",
    "    return res\n",
    "\n",
    "def myinverse(x):\n",
    "    res=np.zeros(len(xx[0]))\n",
    "    for i in range(len(xx[0])):\n",
    "        res[i]=x[i]*(ub[i] - lb[i]) *0.5 + (ub[i] + lb[i])*0.5\n",
    "    return res"
   ]
  },
  {
   "cell_type": "code",
   "execution_count": 51,
   "metadata": {},
   "outputs": [
    {
     "name": "stdout",
     "output_type": "stream",
     "text": [
      "(180000, 15)\n",
      "(180000, 87)\n",
      "(180000, 87) (180000, 87) (180000, 87)\n"
     ]
    }
   ],
   "source": [
    "xx_scale = np.array([myscale(x) for x in xx])\n",
    "print(xx_scale.shape)\n",
    "df_scale = np.hstack((xx_scale, yy))\n",
    "print(df_scale.shape)\n",
    "train, validation, test = random_split(df_scale,[int(0.8*df_len), int(0.1*df_len), int(0.1*df_len)])\n",
    "print(train.dataset.shape, validation.dataset.shape, test.dataset.shape)\n",
    "train_set = [(x[:15], x[15:]) for x in train.dataset]\n",
    "val_set = [(x[:15], x[15:]) for x in validation.dataset]\n",
    "test_set = [(x[:15], x[15:]) for x in test.dataset]"
   ]
  },
  {
   "cell_type": "code",
   "execution_count": 49,
   "metadata": {},
   "outputs": [],
   "source": [
    "import torch.nn as nn\n",
    "\n",
    "class qrHestonModel(nn.Module):\n",
    "    def __init__(self, input_dim, hidden_dim, output_dim):\n",
    "        super(qrHestonModel, self).__init__()\n",
    "        self.l1 = nn.Linear(input_dim, hidden_dim)\n",
    "        self.silu1 = nn.SiLU()\n",
    "        \n",
    "        self.l2 = nn.Linear(hidden_dim, hidden_dim)\n",
    "        self.silu2 = nn.SiLU()\n",
    "        \n",
    "        self.l3 = nn.Linear(hidden_dim, hidden_dim)\n",
    "        self.silu3 = nn.SiLU()\n",
    "        \n",
    "        self.l4 = nn.Linear(hidden_dim, hidden_dim)\n",
    "        self.silu4 = nn.SiLU()\n",
    "        \n",
    "        self.l5 = nn.Linear(hidden_dim, output_dim)\n",
    "    \n",
    "    def forward(self, x):\n",
    "        out = self.l1(x)\n",
    "        out = self.silu1(out)\n",
    "        \n",
    "        out = self.l2(out)\n",
    "        out = self.silu2(out)\n",
    "        \n",
    "        out = self.l3(out)\n",
    "        out = self.silu3(out)\n",
    "        \n",
    "        out = self.l4(out)\n",
    "        out = self.silu4(out)\n",
    "        \n",
    "        out = self.l5(out)\n",
    "        \n",
    "        return out"
   ]
  },
  {
   "cell_type": "code",
   "execution_count": 50,
   "metadata": {},
   "outputs": [
    {
     "data": {
      "text/plain": [
       "qrHestonModel(\n",
       "  (l1): Linear(in_features=15, out_features=32, bias=True)\n",
       "  (silu1): SiLU()\n",
       "  (l2): Linear(in_features=32, out_features=32, bias=True)\n",
       "  (silu2): SiLU()\n",
       "  (l3): Linear(in_features=32, out_features=32, bias=True)\n",
       "  (silu3): SiLU()\n",
       "  (l4): Linear(in_features=32, out_features=32, bias=True)\n",
       "  (silu4): SiLU()\n",
       "  (l5): Linear(in_features=32, out_features=72, bias=True)\n",
       ")"
      ]
     },
     "execution_count": 50,
     "metadata": {},
     "output_type": "execute_result"
    }
   ],
   "source": [
    "batch_size = 128\n",
    "num_epochs = 200\n",
    "\n",
    "input_dim = len(xx[0])\n",
    "output_dim = strikes_dim*maturities_dim\n",
    "hidden_dim = 32\n",
    "\n",
    "model = qrHestonModel(input_dim, hidden_dim, output_dim)\n",
    "model.to(device)"
   ]
  },
  {
   "cell_type": "code",
   "execution_count": 11,
   "metadata": {},
   "outputs": [],
   "source": [
    "loss_mse = nn.MSELoss()\n",
    "learning_rate  = 0.001\n",
    "optimizer = torch.optim.Adam(model.parameters(), lr = learning_rate)"
   ]
  },
  {
   "cell_type": "code",
   "execution_count": 90,
   "metadata": {},
   "outputs": [
    {
     "name": "stdout",
     "output_type": "stream",
     "text": [
      "name                  | type                      | size\n",
      "Number of Mini-Batchs |                           | 1407\n",
      "first_batch           | <class 'list'>            | 2\n",
      "first_batch[0]        | <class 'torch.Tensor'>    | torch.Size([128, 15])\n",
      "first_batch[1]        | <class 'torch.Tensor'>    | torch.Size([128, 72])\n"
     ]
    }
   ],
   "source": [
    "train_loader = torch.utils.data.DataLoader(dataset = train_set, batch_size = batch_size, shuffle=True)\n",
    "val_loader = torch.utils.data.DataLoader(dataset = val_set, batch_size = batch_size, shuffle=True)\n",
    "test_loader = torch.utils.data.DataLoader(dataset = test_set, batch_size = batch_size, shuffle=True)\n",
    "first_batch = train_loader.__iter__().__next__()\n",
    "print('{:<21s} | {:<25s} | {}'.format('name', 'type', 'size')) # 21s and 25s is character spaces of string\n",
    "print('{:<21s} | {:<25s} | {}'.format('Number of Mini-Batchs', '', len(train_loader)))\n",
    "print('{:<21s} | {:<25s} | {}'.format('first_batch', str(type(first_batch)), len(first_batch)))\n",
    "print('{:<21s} | {:<25s} | {}'.format('first_batch[0]', str(type(first_batch[0])), first_batch[0].shape))\n",
    "print('{:<21s} | {:<25s} | {}'.format('first_batch[1]', str(type(first_batch[1])), first_batch[1].shape))"
   ]
  },
  {
   "cell_type": "code",
   "execution_count": 53,
   "metadata": {},
   "outputs": [
    {
     "data": {
      "text/plain": [
       "qrHestonModel(\n",
       "  (l1): Linear(in_features=15, out_features=32, bias=True)\n",
       "  (silu1): SiLU()\n",
       "  (l2): Linear(in_features=32, out_features=32, bias=True)\n",
       "  (silu2): SiLU()\n",
       "  (l3): Linear(in_features=32, out_features=32, bias=True)\n",
       "  (silu3): SiLU()\n",
       "  (l4): Linear(in_features=32, out_features=32, bias=True)\n",
       "  (silu4): SiLU()\n",
       "  (l5): Linear(in_features=32, out_features=72, bias=True)\n",
       ")"
      ]
     },
     "execution_count": 53,
     "metadata": {},
     "output_type": "execute_result"
    }
   ],
   "source": [
    "model.train()"
   ]
  },
  {
   "cell_type": "code",
   "execution_count": null,
   "metadata": {},
   "outputs": [],
   "source": []
  },
  {
   "cell_type": "code",
   "execution_count": 78,
   "metadata": {},
   "outputs": [
    {
     "name": "stdout",
     "output_type": "stream",
     "text": [
      "Epoch 1 \t\t Training Loss: 0.00480121742687754 \t\t Validation Loss: 0.0050174039394701294\n",
      "Epoch 2 \t\t Training Loss: 0.004822852345502538 \t\t Validation Loss: 0.00461893549351804\n",
      "Epoch 3 \t\t Training Loss: 0.004280267239633654 \t\t Validation Loss: 0.0046825164925060805\n",
      "Epoch 4 \t\t Training Loss: 0.006412432900369803 \t\t Validation Loss: 0.00479282448286695\n",
      "Epoch 5 \t\t Training Loss: 0.005363548064621611 \t\t Validation Loss: 0.005486348036255664\n",
      "Epoch 6 \t\t Training Loss: 0.004233157626262521 \t\t Validation Loss: 0.004766453049584492\n",
      "Epoch 7 \t\t Training Loss: 0.0037973047404231634 \t\t Validation Loss: 0.003608733775688556\n",
      "Epoch 8 \t\t Training Loss: 0.005515232099737779 \t\t Validation Loss: 0.004738074968957528\n",
      "Epoch 9 \t\t Training Loss: 0.004010716650447018 \t\t Validation Loss: 0.0036674789613074417\n",
      "Epoch 10 \t\t Training Loss: 0.003790272493775889 \t\t Validation Loss: 0.0060147344430626585\n"
     ]
    }
   ],
   "source": [
    "int_training_step = 1\n",
    "for epoch in range(10):\n",
    "    train_loss = 0.0\n",
    "    for data, target_tensor in train_loader:\n",
    "        data = data.to(device).float()\n",
    "        target_tensor = target_tensor.to(device).float()\n",
    "#         print(data.dtype, target_tensor.dtype)\n",
    "        optimizer.zero_grad()\n",
    "        output = model(data)\n",
    "        loss = loss_mse(output, target_tensor)\n",
    "        loss.backward()\n",
    "        optimizer.step()\n",
    "        train_loss = loss.item()*data.size(0)\n",
    "        \n",
    "    valid_loss = 0.0\n",
    "    model.eval()\n",
    "    for data, target_tensor in val_loader:\n",
    "        data = data.to(device).float()\n",
    "        target_tensor = target_tensor.to(device).float()\n",
    "        output = model(data)\n",
    "        loss = loss_mse(output, target_tensor)\n",
    "        valid_loss = loss.item()*data.size(0)\n",
    "\n",
    "    print(f'Epoch {epoch+1} \\t\\t Training Loss: {train_loss / len(train_loader)} \\t\\t Validation Loss: {valid_loss / len(val_loader)}')  \n",
    "#         if int_training_step %1000 == 0:\n",
    "#             loss_print = loss.item()\n",
    "#             print(f\"Train Step: {int_training_step}\\t Loss: {loss_print}\")\n",
    "#         int_training_step +=1"
   ]
  },
  {
   "cell_type": "code",
   "execution_count": 57,
   "metadata": {},
   "outputs": [
    {
     "data": {
      "text/plain": [
       "qrHestonModel(\n",
       "  (l1): Linear(in_features=15, out_features=32, bias=True)\n",
       "  (silu1): SiLU()\n",
       "  (l2): Linear(in_features=32, out_features=32, bias=True)\n",
       "  (silu2): SiLU()\n",
       "  (l3): Linear(in_features=32, out_features=32, bias=True)\n",
       "  (silu3): SiLU()\n",
       "  (l4): Linear(in_features=32, out_features=32, bias=True)\n",
       "  (silu4): SiLU()\n",
       "  (l5): Linear(in_features=32, out_features=72, bias=True)\n",
       ")"
      ]
     },
     "execution_count": 57,
     "metadata": {},
     "output_type": "execute_result"
    }
   ],
   "source": [
    "model.eval()"
   ]
  },
  {
   "cell_type": "code",
   "execution_count": 101,
   "metadata": {},
   "outputs": [],
   "source": [
    "test_loss = []\n",
    "i = 0\n",
    "prediction = []\n",
    "for data, target_tensor in test_loader:\n",
    "    data = data.to(device).float()\n",
    "    target_tensor = target_tensor.to(device)\n",
    "    output = model(data).float()\n",
    "    for i in output.detach().numpy():\n",
    "        prediction.append(i)\n",
    "    loss = loss_mse(output, target_tensor).item()\n",
    "    test_loss.append(loss*data.size(0))\n"
   ]
  },
  {
   "cell_type": "code",
   "execution_count": 103,
   "metadata": {},
   "outputs": [
    {
     "name": "stderr",
     "output_type": "stream",
     "text": [
      "<ipython-input-103-d70ce07bb5f5>:46: UserWarning: FixedFormatter should only be used together with FixedLocator\n",
      "  ax.set_yticklabels(maturities)\n"
     ]
    },
    {
     "data": {
      "image/png": "[encoded data removed]",
      "text/plain": [
       "<Figure size 1296x288 with 6 Axes>"
      ]
     },
     "metadata": {
      "needs_background": "light"
     },
     "output_type": "display_data"
    }
   ],
   "source": [
    "##### AVERAGE VALUES #######\n",
    "import matplotlib.ticker as mtick\n",
    "\n",
    "y_sample = test.dataset[:, 15:]\n",
    "\n",
    "plt.figure(1,figsize=(18,4))\n",
    "ax=plt.subplot(1,3,1)\n",
    "# err = np.array([100*np.mean(e) for e in err_CI95]) \n",
    "err = np.mean(100*np.abs((y_sample-prediction)/y_sample),axis = 0)\n",
    "plt.title(\"Average relative error\",fontsize=15,y=1.04)\n",
    "plt.imshow(err.reshape(maturities_dim,strikes_dim))\n",
    "plt.colorbar(format=mtick.PercentFormatter())\n",
    "\n",
    "ax.set_xticks(np.linspace(0,len(strikes)-1,len(strikes)))\n",
    "# ax.set_xticklabels(np.round(strikes,2))\n",
    "ax.set_xticklabels(logmoneyness)\n",
    "ax.set_yticks(np.linspace(0,len(maturities)-1,len(maturities)))\n",
    "ax.set_yticklabels(maturities)\n",
    "plt.xlabel(\"Strike\",fontsize=15,labelpad=5)\n",
    "plt.ylabel(\"Maturity\",fontsize=15,labelpad=5)\n",
    "\n",
    "ax=plt.subplot(1,3,2)\n",
    "# err = np.array([100*np.std(e) for e in err_CI95]) \n",
    "err = 100*np.std(np.abs((y_sample-prediction)/y_sample),axis = 0)\n",
    "plt.title(\"Std relative error\",fontsize=15,y=1.04)\n",
    "plt.imshow(err.reshape(maturities_dim,strikes_dim))\n",
    "plt.colorbar(format=mtick.PercentFormatter())\n",
    "ax.set_xticks(np.linspace(0,len(strikes)-1,len(strikes)))\n",
    "# ax.set_xticklabels(strikes)\n",
    "ax.set_xticklabels(logmoneyness)\n",
    "\n",
    "ax.set_yticks(np.linspace(0,len(maturities)-1,len(maturities)))\n",
    "ax.set_yticklabels(maturities)\n",
    "plt.xlabel(\"Strike\",fontsize=15,labelpad=5)\n",
    "plt.ylabel(\"Maturity\",fontsize=15,labelpad=5)\n",
    "\n",
    "ax=plt.subplot(1,3,3)\n",
    "# err = np.array([100*np.max(e) for e in err_CI95]) \n",
    "err = 100*np.max(np.abs((y_sample-prediction)/y_sample),axis = 0)\n",
    "plt.title(\"Maximum relative error\",fontsize=15,y=1.04)\n",
    "plt.imshow(err.reshape(maturities_dim,strikes_dim))\n",
    "plt.colorbar(format=mtick.PercentFormatter())\n",
    "ax.set_xticks(np.linspace(0,len(strikes)-1,len(strikes)))\n",
    "# ax.set_xticklabels(strikes)\n",
    "ax.set_xticklabels(logmoneyness)\n",
    "ax.set_yticklabels(maturities)\n",
    "plt.xlabel(\"Strike\",fontsize=15,labelpad=5)\n",
    "plt.ylabel(\"Maturity\",fontsize=15,labelpad=5)\n",
    "plt.tight_layout()\n",
    "# plt.savefig('qrHestonNNErrors.png', dpi=300)\n",
    "plt.show()\n"
   ]
  },
  {
   "cell_type": "code",
   "execution_count": null,
   "metadata": {},
   "outputs": [],
   "source": []
  }
 ],
 "metadata": {
  "kernelspec": {
   "display_name": "jia_pytorch",
   "language": "python",
   "name": "jia_pytorch"
  },
  "language_info": {
   "codemirror_mode": {
    "name": "ipython",
    "version": 3
   },
   "file_extension": ".py",
   "mimetype": "text/x-python",
   "name": "python",
   "nbconvert_exporter": "python",
   "pygments_lexer": "ipython3",
   "version": "3.8.5"
  }
 },
 "nbformat": 4,
 "nbformat_minor": 4
}
