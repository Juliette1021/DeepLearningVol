{
 "cells": [
  {
   "cell_type": "markdown",
   "id": "f0ec44d5",
   "metadata": {},
   "source": [
    "###  Quadratic rough Heston model\n",
    "$$\n",
    "\\begin{aligned}\n",
    "dS_t&=S_t\\sqrt{V_t}dW_t \\\\\n",
    "V_t&=a(Z_t-b)^2+c\n",
    "\\end{aligned}\n",
    "$$\n",
    "where $W$ is a Brownian motion and $a,\\,b,\\,c>0$. This model is of rought Heston type, in the sense that weighted past price returns are drivers of the volatility dynamics:\n",
    "$$Z_t=\\int_0^t(t-s)^{\\alpha-1}\\frac{\\lambda}{\\Gamma(\\alpha)}(\\theta_0(s)-Z_s)ds+\\int_0^t(t-s)^{\\alpha-1}\\frac{\\lambda}{\\Gamma(\\alpha)}\\eta\\sqrt{V_s}dW_s$$\n",
    "with $\\alpha\\in(1/2,\\,1),\\,\\lambda>0,\\,\\eta>0$ and $\\theta_0$ a deterministic function."
   ]
  },
  {
   "cell_type": "markdown",
   "id": "4d261f19",
   "metadata": {},
   "source": [
    "### Generate the parameters for the quadratic rough Heston model\n",
    "\n",
    "\n",
    "#### $\\Theta = \\{\\alpha,\\lambda, a, b, c, Z_0\\}\\in\\mathbb{R}^6$\n",
    "Old version: $\\alpha\\in(0.5, 0.7),\\, \\lambda\\in(0.1, 2), \\, a\\in(0.1, 1),\\ b\\in(0.01,1),\\,c\\in(0.0001, 0.01),\\,Z_0\\in(0.01, 0.3)$\n",
    "\n",
    "New version: $\\alpha\\in(0.5, 0.7),\\, \\lambda\\in(0.5, 1.5), \\, a\\in(0.1, 0.75),\\ b\\in(0.05,0.5),\\,c\\in(0.0001, 0.01),\\,Z_0\\in(0.05, 0.3)$"
   ]
  },
  {
   "cell_type": "code",
   "execution_count": 2,
   "id": "3e30f92b",
   "metadata": {},
   "outputs": [],
   "source": [
    "import numpy as np\n",
    "import scipy.stats as st\n",
    "%config Completer.use_jedi=False\n",
    "import matplotlib.pyplot as plt\n",
    "import pandas as pd\n",
    "from scipy.stats import norm\n",
    "from scipy.optimize import bisect\n",
    "from utils import *"
   ]
  },
  {
   "cell_type": "code",
   "execution_count": 3,
   "id": "26b30c15",
   "metadata": {},
   "outputs": [],
   "source": [
    "# Z0 = 0.1\n",
    "# alpha = 0.55\n",
    "# a = 0.384\n",
    "# b = 0.095\n",
    "# c = 0.0025\n",
    "# Lambda = 1.2\n",
    "\n",
    "# qrheston_params = {'alpha': alpha, 'Lambda': Lambda, 'a': a, 'b': b, 'c': c, 'Z0': Z0}\n"
   ]
  },
  {
   "cell_type": "code",
   "execution_count": 4,
   "id": "6e7317ba",
   "metadata": {},
   "outputs": [],
   "source": [
    "N = 1000000\n",
    "np.random.seed(713)\n",
    "alpha_N  = 0.5 + np.random.uniform(0.005, 0.2, N)\n",
    "Lambda_N = np.random.uniform(0.8, 1.5, N)  # Lambda_N = np.random.uniform(0.5, 1.5, N)\n",
    "a        = np.random.uniform(0.1, 0.75, N)\n",
    "b        = np.random.uniform(0.075, 0.5, N)  \n",
    "c        = np.random.uniform(0.002, 0.01, N)  #c= np.random.uniform(0.0001, 0.01, N)\n",
    "Z0       = np.random.uniform(0.05, 0.3, N)"
   ]
  },
  {
   "cell_type": "code",
   "execution_count": 5,
   "id": "30f2679e",
   "metadata": {},
   "outputs": [],
   "source": [
    "params = np.zeros((N, 6))\n",
    "for i in range(N):\n",
    "    tmp = [alpha_N[i], Lambda_N[i], a[i], b[i], c[i], Z0[i]]\n",
    "    params[i] = np.round(tmp, 4)\n",
    "    \n",
    "# df = pd.DataFrame(params, index=None, columns=['alpha', 'lamba', 'a', 'b', 'c', 'Z0'])\n",
    "# df.to_csv(\"Data/parameters.csv\", index=None)\n",
    "\n",
    "np.savetxt(\"Data/parameters_713.txt\", params, fmt='%.4f')"
   ]
  },
  {
   "cell_type": "code",
   "execution_count": null,
   "id": "89973285",
   "metadata": {},
   "outputs": [],
   "source": [
    "df = np.loadtxt(\"Data/impliedVols.txt\")\n",
    "df.shape\n",
    "# df"
   ]
  },
  {
   "cell_type": "code",
   "execution_count": null,
   "id": "13533e85",
   "metadata": {},
   "outputs": [],
   "source": [
    "def parameter_fix_generator(N = 10, param_to_fix='a'):\n",
    "    \"\"\"\n",
    "    Generate a data set wich includes one varying parameters, all other parameters are fixed\n",
    "    \"\"\"\n",
    "    \n",
    "    for i in range(N):\n",
    "        "
   ]
  },
  {
   "cell_type": "code",
   "execution_count": null,
   "id": "2f32b26a",
   "metadata": {},
   "outputs": [],
   "source": [
    "a = pd.read_csv(\"Data/r.csv\", index_col=0)\n",
    "# np.sum(np.sum(a.isna()))\n",
    "a"
   ]
  },
  {
   "cell_type": "code",
   "execution_count": null,
   "id": "ecb1cc64",
   "metadata": {},
   "outputs": [],
   "source": [
    "b = np.loadtxt(\"Data/parameters.txt\")\n",
    "b[166:168]"
   ]
  },
  {
   "cell_type": "code",
   "execution_count": 1,
   "id": "45f9a4f4",
   "metadata": {},
   "outputs": [
    {
     "data": {
      "text/plain": [
       "0.14511005768081037"
      ]
     },
     "execution_count": 1,
     "metadata": {},
     "output_type": "execute_result"
    }
   ],
   "source": [
    "from utils import *\n",
    "impliedVol(0.6, 0.59, 1.0, 0.0236, r=0.05, q=0.1)"
   ]
  },
  {
   "cell_type": "code",
   "execution_count": 2,
   "id": "5361d540",
   "metadata": {},
   "outputs": [
    {
     "data": {
      "text/plain": [
       "1.0123964811333082"
      ]
     },
     "execution_count": 2,
     "metadata": {},
     "output_type": "execute_result"
    }
   ],
   "source": [
    "40*np.exp(-0.1*0.25)-38"
   ]
  },
  {
   "cell_type": "markdown",
   "id": "0dba45bc",
   "metadata": {},
   "source": [
    "### Viterbi Algorithm(HMM: hidden Markovian Model)\n",
    "**States Space:** $S$ composed of $k$ states;\n",
    "\n",
    "**The probability of states** $i$ as the initial states is $\\pi_i$;\n",
    "\n",
    "**Transition probability from states $i$ to $j$**: $a_{ij}$;\n",
    "\n",
    "**Observation outputs:** $y_1, y_2, \\dots, y_T$\n",
    "\n",
    "The most possible sequence $x_1, x_2, \\dots, x_k$ which produces the observation can be deduced by:\n",
    "\n",
    "$$V_{1, k} = P(y_1|k)\\cdot \\pi_k$$\n",
    "$$V_{t,k} = max_{x\\in S}P(y_t|k)\\cdot a_{x, k}\\cdot V_{t-1, x}$$\n",
    "Here $V_{t,k}$ is the probability of the first most probable state sequence $P(x_1, \\dots, x_t, y_1,\\dots, y_t)$ responsible for the first $t$ observations that have $k$ as its final state. Let $Ptr(k,t)$ bet he function that returns the value of $x$ used to compute $V_{t,k}$ if $t>1$ or $k$ if $t=1$. Then\n",
    "$$x_T = argmax_{x\\in S} V_{T, x}$$\n",
    "$$x_t = Ptr(x_t, t)$$"
   ]
  },
  {
   "cell_type": "code",
   "execution_count": 4,
   "id": "115aecfa",
   "metadata": {},
   "outputs": [],
   "source": [
    "stats = {'Healthy', 'Fever'}\n",
    "observations = {'normal', 'cold', 'dizzy'}\n",
    "starts_probability = {'Healthy': 0.6, 'Fever': 0.4}\n",
    "transition_probability = {'Healthy': {'Healthy': 0.7, 'Fever': 0.3}, 'Fever': {'Healthy': 0.4, 'Fever': 0.6}}\n",
    "emission_probability = {'Healthy': {'normal': 0.5, 'cold': 0.4, 'dizzy': 0.1}, 'Fever': {'normal': 0.1, 'cold': 0.3, 'dizzy': 0.6}}"
   ]
  },
  {
   "cell_type": "code",
   "execution_count": 5,
   "id": "dcab8766",
   "metadata": {},
   "outputs": [],
   "source": [
    "import scipy"
   ]
  },
  {
   "cell_type": "code",
   "execution_count": 14,
   "id": "f0d2baed",
   "metadata": {},
   "outputs": [
    {
     "data": {
      "text/plain": [
       "array([[1. , 0.2, 0.2, 0.2, 0.2, 0.2, 0.2, 0.2, 0.2, 0.2],\n",
       "       [0.2, 1. , 0.2, 0.2, 0.2, 0.2, 0.2, 0.2, 0.2, 0.2],\n",
       "       [0.2, 0.2, 1. , 0.2, 0.2, 0.2, 0.2, 0.2, 0.2, 0.2],\n",
       "       [0.2, 0.2, 0.2, 1. , 0.2, 0.2, 0.2, 0.2, 0.2, 0.2],\n",
       "       [0.2, 0.2, 0.2, 0.2, 1. , 0.2, 0.2, 0.2, 0.2, 0.2],\n",
       "       [0.2, 0.2, 0.2, 0.2, 0.2, 1. , 0.2, 0.2, 0.2, 0.2],\n",
       "       [0.2, 0.2, 0.2, 0.2, 0.2, 0.2, 1. , 0.2, 0.2, 0.2],\n",
       "       [0.2, 0.2, 0.2, 0.2, 0.2, 0.2, 0.2, 1. , 0.2, 0.2],\n",
       "       [0.2, 0.2, 0.2, 0.2, 0.2, 0.2, 0.2, 0.2, 1. , 0.2],\n",
       "       [0.2, 0.2, 0.2, 0.2, 0.2, 0.2, 0.2, 0.2, 0.2, 1. ]])"
      ]
     },
     "execution_count": 14,
     "metadata": {},
     "output_type": "execute_result"
    }
   ],
   "source": [
    "# A = np.diag(np.ones(10))\n",
    "B = np.ones((10, 10))*0.2\n",
    "B[np.diag_indices_from(B)] = 1.0\n",
    "B"
   ]
  },
  {
   "cell_type": "code",
   "execution_count": 26,
   "id": "452eeb5a",
   "metadata": {},
   "outputs": [
    {
     "name": "stdout",
     "output_type": "stream",
     "text": [
      "array([[1.  , 0.  , 0.  , 0.  , 0.  , 0.  , 0.  , 0.  , 0.  , 0.  ],\n",
      "       [0.2 , 0.98, 0.  , 0.  , 0.  , 0.  , 0.  , 0.  , 0.  , 0.  ],\n",
      "       [0.2 , 0.16, 0.97, 0.  , 0.  , 0.  , 0.  , 0.  , 0.  , 0.  ],\n",
      "       [0.2 , 0.16, 0.14, 0.96, 0.  , 0.  , 0.  , 0.  , 0.  , 0.  ],\n",
      "       [0.2 , 0.16, 0.14, 0.12, 0.95, 0.  , 0.  , 0.  , 0.  , 0.  ],\n",
      "       [0.2 , 0.16, 0.14, 0.12, 0.11, 0.94, 0.  , 0.  , 0.  , 0.  ],\n",
      "       [0.2 , 0.16, 0.14, 0.12, 0.11, 0.09, 0.94, 0.  , 0.  , 0.  ],\n",
      "       [0.2 , 0.16, 0.14, 0.12, 0.11, 0.09, 0.09, 0.93, 0.  , 0.  ],\n",
      "       [0.2 , 0.16, 0.14, 0.12, 0.11, 0.09, 0.09, 0.08, 0.93, 0.  ],\n",
      "       [0.2 , 0.16, 0.14, 0.12, 0.11, 0.09, 0.09, 0.08, 0.07, 0.93]])\n"
     ]
    }
   ],
   "source": [
    "import pprint\n",
    "pprint.pprint(np.round(scipy.linalg.cholesky(B, lower=True), 2))\n",
    "# == scipy.linalg.cholesky(B, lower=False)"
   ]
  },
  {
   "cell_type": "code",
   "execution_count": 29,
   "id": "3306b94e",
   "metadata": {},
   "outputs": [
    {
     "data": {
      "text/plain": [
       "array([ 1.61781137, -0.75480235,  1.36867169, -0.42302054, -0.38487444,\n",
       "       -0.09521844, -0.68345853,  0.22749949,  0.05407973, -1.34108928])"
      ]
     },
     "execution_count": 29,
     "metadata": {},
     "output_type": "execute_result"
    }
   ],
   "source": [
    "L = scipy.linalg.cholesky(B, lower=True)\n",
    "X = np.random.normal(size=10)\n",
    "np.dot(L, X)"
   ]
  }
 ],
 "metadata": {
  "kernelspec": {
   "display_name": "jia21",
   "language": "python",
   "name": "jia21"
  },
  "language_info": {
   "codemirror_mode": {
    "name": "ipython",
    "version": 3
   },
   "file_extension": ".py",
   "mimetype": "text/x-python",
   "name": "python",
   "nbconvert_exporter": "python",
   "pygments_lexer": "ipython3",
   "version": "3.8.8"
  }
 },
 "nbformat": 4,
 "nbformat_minor": 5
}
