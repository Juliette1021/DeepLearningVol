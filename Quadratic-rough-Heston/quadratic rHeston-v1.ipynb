{
 "cells": [
  {
   "cell_type": "code",
   "execution_count": 2,
   "id": "3f4c3f98",
   "metadata": {},
   "outputs": [],
   "source": [
    "%config Completer.use_jedi=False\n",
    "import numpy as np\n",
    "import pandas as pd\n",
    "import scipy.stats as sps\n",
    "import math\n",
    "from scipy.special import gamma\n",
    "from scipy.optimize import bisect\n",
    "from scipy.stats import norm\n",
    "import matplotlib.pyplot as plt\n",
    "from tqdm.notebook import trange \n",
    "import time\n",
    "import matplotlib.ticker as mtick\n"
   ]
  },
  {
   "cell_type": "code",
   "execution_count": 3,
   "id": "1855f922",
   "metadata": {},
   "outputs": [],
   "source": [
    "### Price of the Call/Put option with the Black Scholes model\n",
    "\n",
    "def BlackScholesCallPut(S, K, T, sigma, r=0.0, call_put=1):\n",
    "    d1 = (np.log(S/K) + (r+.5*sigma**2)*T) / (sigma * np.sqrt(T))\n",
    "    d2 = d1 - sigma * np.sqrt(T)\n",
    "    return call_put*(S*norm.cdf(call_put*d1) - K*np.exp (-r*T) * norm.cdf (call_put*d2))\n",
    "\n",
    "#### Compute the implied volatility\n",
    "\n",
    "def impliedVol(S, K, T, price, r=0.0, call_put=1):\n",
    "    def smileMin(vol, *args):\n",
    "        S, K, T, price, r, call_put = args\n",
    "        return price - BlackScholesCallPut(S, K, T, vol, r, call_put)\n",
    "    vMin = 0.0001\n",
    "    vMax = 3.\n",
    "    return bisect(smileMin, vMin, vMax, args=(S, K, T, price, r, call_put), rtol=1e-15, full_output=False, disp=True)"
   ]
  },
  {
   "cell_type": "markdown",
   "id": "feebabe7",
   "metadata": {},
   "source": [
    "### Monte Carlo simulation\n",
    "\n",
    "####  Quadratic rough Heston model\n",
    "$$\n",
    "\\begin{aligned}\n",
    "dS_t&=S_t\\sqrt{V_t}dW_t \\\\\n",
    "V_t&=a(Z_t-b)^2+c\n",
    "\\end{aligned}\n",
    "$$\n",
    "where $W$ is a Brownian motion and $a,\\,b,\\,c>0$. This model is of rought Heston type, in the sense that weighted past price returns are drivers of the volatility dynamics:\n",
    "$$Z_t=\\int_0^t(t-s)^{\\alpha-1}\\frac{\\lambda}{\\Gamma(\\alpha)}(\\theta_0(s)-Z_s)ds+\\int_0^t(t-s)^{\\alpha-1}\\frac{\\lambda}{\\Gamma(\\alpha)}\\eta\\sqrt{V_s}dW_s$$\n",
    "with $\\alpha\\in(1/2,\\,1),\\,\\lambda>0,\\,\\eta>0$ and $\\theta_0$ a deterministic function.\n",
    "\n"
   ]
  },
  {
   "cell_type": "markdown",
   "id": "656a2172",
   "metadata": {},
   "source": [
    "For simplicity, $\\theta_0(t)=\\cfrac{Z_0}{\\lambda\\Gamma(1-\\alpha)}t^{-\\alpha}$, so we have\n",
    "$$Z_t=Z_0-\\int_0^t(t-s)^{\\alpha-1}\\frac{\\lambda}{\\Gamma(\\alpha)}Z_sds+\\int_0^t(t-s)^{\\alpha-1}\\frac{\\lambda}{\\Gamma(\\alpha)}\\eta\\sqrt{V_s}dW_s$$\n",
    "\n",
    "The parameters to calibrate are $v=(\\alpha, \\lambda, a,b,c, Z_0)\\in\\mathbb{R}^6$(Note that we can always take $\\eta=1$ up to a rescaling of the other parameters)."
   ]
  },
  {
   "cell_type": "code",
   "execution_count": 4,
   "id": "a9cbda8b",
   "metadata": {},
   "outputs": [],
   "source": [
    "S0 = 5.24\n",
    "\n",
    "maturities = np.array([0.06, 0.15, 0.31, 0.56])\n",
    "strikes = np.array([5.25, 5.50, 5.75, 6.00, 6.25])\n",
    "strike_dim = len(strikes)\n",
    "maturities_dim = len(maturities)"
   ]
  },
  {
   "cell_type": "code",
   "execution_count": 5,
   "id": "de8504a4",
   "metadata": {},
   "outputs": [],
   "source": [
    "class qrHeston:\n",
    "    \"\"\"\n",
    "    A Monte Carlo class for simulating the stochastic models (ex: Heston, rough Heston...)\n",
    "            \n",
    "     \n",
    "    \"\"\"\n",
    "    def __init__(self, qrheston_params, dt = 0.004, Tmin = 0.25, Tmax=2., S0 = 100., r = 0.0):\n",
    "        \n",
    "        # Time discretisation parameters, maturitiy <= 2 year\n",
    "        self.Tmax  = Tmax  \n",
    "        self.Tmin = Tmin\n",
    "        self.dt =  dt #Tmax/nbTimeSteps\n",
    "        \n",
    "        # Time gird is divided into 3 parts, about 1 day for T<3months(0.25year), 2d for T<=6months, 3d for T>6months\n",
    "        self.time_grids = [np.arange(0., Tmin, dt), np.arange(0., 2*Tmin, 2*dt), np.arange(0., Tmax, 3*dt)]\n",
    "        \n",
    "        # Spot price\n",
    "        self.S0 = S0\n",
    "        \n",
    "        # risk-free interest\n",
    "        self.r = r\n",
    "        \n",
    "        # qrHeston parameters\n",
    "        self.alpha = qrheston_params['alpha']\n",
    "        self.Lambda = qrheston_params['Lambda']\n",
    "        self.a = qrheston_params['a']\n",
    "        self.b = qrheston_params['b']\n",
    "        self.c = qrheston_params['c']\n",
    "        self.Z0 = qrheston_params['Z0']\n",
    "        \n",
    "  \n",
    "    def qrHeston_single_stockPaths(self, T, nbPaths):\n",
    "        \"\"\"\n",
    "        Monte Carlo Simulation for the quadratic rough Heston model\n",
    "        Input: \n",
    "            T: maturity\n",
    "            nbPaths: number of paths\n",
    "        \n",
    "        Output:\n",
    "            An array of Stock price paths at maturity T, with each row(axis=0) a simulation path \n",
    "            \n",
    "        \"\"\"\n",
    "        ## choose the proper time grid for the maturity T\n",
    "        if T <= self.Tmin:\n",
    "            time_grid = self.time_grids[0] \n",
    "        elif T <= 2*self.Tmin:\n",
    "            time_grid = self.time_grids[1]\n",
    "        else:\n",
    "            time_grid = self.time_grids[2]\n",
    "            \n",
    "        dt = time_grid[1] - time_grid[0]\n",
    "        dtsqrt= np.sqrt(dt)\n",
    "        nbTimeSteps  = int(T/dt)\n",
    "        \n",
    "        # Generate a Brownian Motion sequence\n",
    "        W = np.random.normal(0, dtsqrt, (nbPaths, nbTimeSteps))\n",
    "        X, Z, V  = np.zeros((3, nbPaths, nbTimeSteps))\n",
    "        unit = np.ones(nbPaths)\n",
    "        \n",
    "        X[:, 0] = np.log(self.S0) * unit\n",
    "        Z[:, 0] = self.Z0 * unit\n",
    "        V[:, 0] = (self.a * (self.Z0 - self.b)**2 + self.c) * unit\n",
    "\n",
    "\n",
    "        coef = self.Lambda/gamma(self.alpha)\n",
    "\n",
    "        for i in trange(1, nbTimeSteps):\n",
    "            \n",
    "            ti   = np.power(time_grid[i] - time_grid[: i], self.alpha - 1)\n",
    "            Zi   = Z[:, : i]\n",
    "            Vi   = V[:, : i]\n",
    "            Wi   = W[:, : i] \n",
    "            \n",
    "            tmp = np.dot(dt*Zi - np.sqrt(Vi)*Wi, ti)\n",
    "            Z[:, i] = self.Z0 * unit - coef*tmp\n",
    "#             Z[i] = self.Z0 - coef*dt*np.sum(ti*Zi) + coef*np.sum(ti*np.sqrt(Vi)*Wi)\n",
    "            V[:, i] = self.a * (Z[:, i] - self.b)**2 + self.c\n",
    "            X[:, i] = X[:, i-1] -0.5*V[:, i-1]*dt + np.sqrt(V[:, i-1])*W[:, i]\n",
    "\n",
    "        return np.exp(X)\n",
    "    \n",
    "    def qrHeston_multiple_stockPaths(self, nbPaths):\n",
    "        \"\"\"\n",
    "        Monte Carlo Simulation for the quadratic rough Heston model\n",
    "        Input: \n",
    "            nbPaths: number of paths\n",
    "        \n",
    "        Output:\n",
    "            A list of 3 arrays of Stock price paths at maturity 3 months, 6 months and 2 years, respectively.\n",
    "            \n",
    "        \"\"\"\n",
    "        Ts = [self.Tmin, 2*self.Tmin, self.Tmax]\n",
    "        multi_paths = [self.qrHeston_single_stockPaths(T, nbPaths) for T in Ts]\n",
    "        \n",
    "        return multi_paths\n",
    "    \n",
    "    \n",
    "    def compute_relative_errors(self, sample):\n",
    "        \"\"\"\n",
    "        Compute relative errors using 95% confidence intervals\n",
    "        Input: \n",
    "            the sample data\n",
    "        Output:\n",
    "            Average, standard deviation and maximum relative errors\n",
    "        \"\"\"\n",
    "        avg = np.mean(sample)\n",
    "        sig= np.std(sample)/np.sqrt(len(sample))\n",
    "        \n",
    "        f = np.array(list(filter(lambda x: x!=0 and x >= avg-1.96*sig and x <= avg+1.96*sig, sample)))\n",
    "        relative_errors = np.abs(f - avg)/f\n",
    "        \n",
    "        return 100*np.mean(relative_errors), 100*np.std(relative_errors), 100*np.max(relative_errors)\n",
    "            \n",
    "            \n",
    "    def qrHeston_CallPut(self, strikes, maturities, N = 100000, call_put = 1):\n",
    "        \"\"\"\n",
    "        Compute the call/put option price with call_put = 1/-1 for \"Call/Put\"  for given strikes and maturities\n",
    "        \n",
    "        Output:\n",
    "            A list with each element the call/put prices for the strike(s) and maturity(maturities)\n",
    "            A list of (Average, standard deviation and maximum) relative errors of the Monte Carlo for each maturity-strike\n",
    "        \"\"\"\n",
    "        dim = len(strikes)*len(maturities)\n",
    "        \n",
    "        callput_prices = np.zeros(dim)\n",
    "        errors = np.zeros((3, dim))\n",
    "        \n",
    "        multi_paths = self.qrHeston_multiple_stockPaths(N)\n",
    "        \n",
    "        i = 0\n",
    "        for T in maturities:\n",
    "            if T <= self.Tmin:\n",
    "                paths = multi_paths[0]\n",
    "                dt = self.dt\n",
    "            elif T <= 2*self.Tmin:\n",
    "                paths = multi_paths[1]\n",
    "                dt = 2*self.dt\n",
    "            else:\n",
    "                paths = multi_paths[2]\n",
    "                dt = 3*self.dt\n",
    "                \n",
    "            stop = int(T/dt)-1 ##+1?\n",
    "            stockPrice = paths[:, stop]\n",
    "            \n",
    "            for K in strikes:\n",
    "                tmp   = np.maximum(call_put*(stockPrice - K), 0.0)\n",
    "                callput_prices[i] = np.mean(tmp)\n",
    "                try:\n",
    "                    errors[:, i] = self.compute_relative_errors(tmp)\n",
    "                except:\n",
    "                    pass\n",
    "                i += 1\n",
    "#         return callput_prices               \n",
    "        return callput_prices, errors"
   ]
  },
  {
   "cell_type": "code",
   "execution_count": 6,
   "id": "2d904edd",
   "metadata": {},
   "outputs": [],
   "source": [
    "# S0 = 100\n",
    "# maturities = np.round(np.linspace(0.1, 2., 8), 2) # Time to expiry in years\n",
    "# strikes = np.array([95, 96, 97, 98, 99, 100, 101, 102, 103, 104, 105])\n",
    "\n",
    "#### Parameters for quadratic rough Heston\n",
    "data = np.loadtxt(\"Data/parameters.txt\")\n",
    "alpha, Lambda, a, b, c, Z0 = data[0]\n",
    "# Z0 = 0.1\n",
    "# alpha = 0.55\n",
    "# a = 0.384\n",
    "# b = 0.095\n",
    "# c = 0.0025\n",
    "# Lambda = 1.2\n",
    "\n",
    "qrheston_params = {'S0': S0, 'alpha': alpha, 'Lambda': Lambda, 'a': a, 'b': b, 'c': c, 'Z0': Z0}\n"
   ]
  },
  {
   "cell_type": "code",
   "execution_count": 7,
   "id": "ee4c3f04",
   "metadata": {},
   "outputs": [
    {
     "data": {
      "application/vnd.jupyter.widget-view+json": {
       "model_id": "038b3f11ce2f41f5bcd76929f056556e",
       "version_major": 2,
       "version_minor": 0
      },
      "text/plain": [
       "  0%|          | 0/61 [00:00<?, ?it/s]"
      ]
     },
     "metadata": {},
     "output_type": "display_data"
    },
    {
     "data": {
      "application/vnd.jupyter.widget-view+json": {
       "model_id": "4c399fcc1dac4b098739843e0390ef14",
       "version_major": 2,
       "version_minor": 0
      },
      "text/plain": [
       "  0%|          | 0/61 [00:00<?, ?it/s]"
      ]
     },
     "metadata": {},
     "output_type": "display_data"
    },
    {
     "data": {
      "application/vnd.jupyter.widget-view+json": {
       "model_id": "d21f71a2e54f47729749fde4403fe7ef",
       "version_major": 2,
       "version_minor": 0
      },
      "text/plain": [
       "  0%|          | 0/45 [00:00<?, ?it/s]"
      ]
     },
     "metadata": {},
     "output_type": "display_data"
    },
    {
     "name": "stdout",
     "output_type": "stream",
     "text": [
      "Wall time: 17.3 s\n"
     ]
    }
   ],
   "source": [
    "%%time\n",
    "MC = qrHeston(qrheston_params, Tmax=maturities[-1])\n",
    "call_prices, errors = MC.qrHeston_CallPut(strikes, maturities)"
   ]
  },
  {
   "cell_type": "code",
   "execution_count": 4,
   "id": "61faf0c6",
   "metadata": {},
   "outputs": [
    {
     "data": {
      "application/vnd.jupyter.widget-view+json": {
       "model_id": "3dd02f27925d41cf9ad798733a3b9ac8",
       "version_major": 2,
       "version_minor": 0
      },
      "text/plain": [
       "  0%|          | 0/61 [00:00<?, ?it/s]"
      ]
     },
     "metadata": {},
     "output_type": "display_data"
    },
    {
     "data": {
      "application/vnd.jupyter.widget-view+json": {
       "model_id": "0dc9c92bc18b42d5b2e976dd9324de9f",
       "version_major": 2,
       "version_minor": 0
      },
      "text/plain": [
       "  0%|          | 0/61 [00:00<?, ?it/s]"
      ]
     },
     "metadata": {},
     "output_type": "display_data"
    },
    {
     "data": {
      "application/vnd.jupyter.widget-view+json": {
       "model_id": "18f29c6e21f14ba3910ac7b08238aa4a",
       "version_major": 2,
       "version_minor": 0
      },
      "text/plain": [
       "  0%|          | 0/165 [00:00<?, ?it/s]"
      ]
     },
     "metadata": {},
     "output_type": "display_data"
    }
   ],
   "source": [
    "from quadratic_rHeston import *\n",
    "# %%time\n",
    "params = data[120]\n",
    "MC = qrHeston(params)\n",
    "call_prices= MC.qrHeston_CallPut(strikes, maturities)"
   ]
  },
  {
   "cell_type": "code",
   "execution_count": 8,
   "id": "2ccb5c89",
   "metadata": {},
   "outputs": [
    {
     "data": {
      "text/plain": [
       "array([94.74077139, 94.49077139, 94.24077139, 93.99077139, 93.74077139,\n",
       "       94.73690018, 94.48700987, 94.23712092, 93.98723342, 93.73734795,\n",
       "       94.68484589, 94.43535739, 94.18587125, 93.93639629, 93.68693777,\n",
       "       94.71870044, 94.47020796, 94.22176347, 93.97334618, 93.72496434])"
      ]
     },
     "execution_count": 8,
     "metadata": {},
     "output_type": "execute_result"
    }
   ],
   "source": [
    "len(call_prices)# data[100]\n",
    "call_prices"
   ]
  },
  {
   "cell_type": "code",
   "execution_count": 9,
   "id": "a344df96",
   "metadata": {},
   "outputs": [
    {
     "data": {
      "text/plain": [
       "array([0.56706553, 0.56285244, 0.55869458, 0.55462714, 0.55059838,\n",
       "       0.5465865 , 0.54259346, 0.53865752, 0.53474621, 0.53085322,\n",
       "       0.52701313, 0.55889933, 0.55624318, 0.553615  , 0.55099178,\n",
       "       0.54839647, 0.54583804, 0.54328434, 0.54073877, 0.53822419,\n",
       "       0.53573832, 0.53326147, 0.55329579, 0.55120811, 0.54913941,\n",
       "       0.54709525, 0.54506641, 0.54304008, 0.54104183, 0.5390707 ,\n",
       "       0.53712745, 0.53521047, 0.53330578, 0.54714908, 0.54537606,\n",
       "       0.54362376, 0.54187617, 0.54014101, 0.53842448, 0.53672892,\n",
       "       0.53504548, 0.53337896, 0.53172693, 0.53009621, 0.54986458,\n",
       "       0.54829117, 0.54672636, 0.54518187, 0.5436475 , 0.54212294,\n",
       "       0.54060794, 0.53910483, 0.53762053, 0.53615318, 0.53469541,\n",
       "       0.55144872, 0.54997708, 0.54852066, 0.54708513, 0.54567001,\n",
       "       0.54427248, 0.54288929, 0.54152774, 0.54018511, 0.53885016,\n",
       "       0.53752466, 0.55358403, 0.55220974, 0.5508429 , 0.5494917 ,\n",
       "       0.54814845, 0.5468143 , 0.54549438, 0.54419   , 0.54289585,\n",
       "       0.54161349, 0.54034335, 0.55043359, 0.54922703, 0.54802622,\n",
       "       0.54682556, 0.54563103, 0.54444808, 0.5432768 , 0.54211361,\n",
       "       0.54095978, 0.53981774, 0.53868594])"
      ]
     },
     "execution_count": 9,
     "metadata": {},
     "output_type": "execute_result"
    }
   ],
   "source": [
    "impliedVols(S0, strikes, maturities,prices = call_prices)"
   ]
  },
  {
   "cell_type": "code",
   "execution_count": 10,
   "id": "fc9186c4",
   "metadata": {},
   "outputs": [
    {
     "ename": "NameError",
     "evalue": "name 'errors' is not defined",
     "output_type": "error",
     "traceback": [
      "\u001b[1;31m---------------------------------------------------------------------------\u001b[0m",
      "\u001b[1;31mNameError\u001b[0m                                 Traceback (most recent call last)",
      "\u001b[1;32m<ipython-input-10-26dd3525a996>\u001b[0m in \u001b[0;36m<module>\u001b[1;34m\u001b[0m\n\u001b[0;32m      5\u001b[0m \u001b[0max\u001b[0m\u001b[1;33m=\u001b[0m\u001b[0mplt\u001b[0m\u001b[1;33m.\u001b[0m\u001b[0msubplot\u001b[0m\u001b[1;33m(\u001b[0m\u001b[1;36m1\u001b[0m\u001b[1;33m,\u001b[0m\u001b[1;36m3\u001b[0m\u001b[1;33m,\u001b[0m\u001b[1;36m1\u001b[0m\u001b[1;33m)\u001b[0m\u001b[1;33m\u001b[0m\u001b[1;33m\u001b[0m\u001b[0m\n\u001b[0;32m      6\u001b[0m \u001b[0mplt\u001b[0m\u001b[1;33m.\u001b[0m\u001b[0mtitle\u001b[0m\u001b[1;33m(\u001b[0m\u001b[1;34m\"Average relative error\"\u001b[0m\u001b[1;33m,\u001b[0m\u001b[0mfontsize\u001b[0m\u001b[1;33m=\u001b[0m\u001b[1;36m15\u001b[0m\u001b[1;33m,\u001b[0m\u001b[0my\u001b[0m\u001b[1;33m=\u001b[0m\u001b[1;36m1.04\u001b[0m\u001b[1;33m)\u001b[0m\u001b[1;33m\u001b[0m\u001b[1;33m\u001b[0m\u001b[0m\n\u001b[1;32m----> 7\u001b[1;33m \u001b[0mplt\u001b[0m\u001b[1;33m.\u001b[0m\u001b[0mimshow\u001b[0m\u001b[1;33m(\u001b[0m\u001b[0merrors\u001b[0m\u001b[1;33m[\u001b[0m\u001b[1;36m0\u001b[0m\u001b[1;33m]\u001b[0m\u001b[1;33m.\u001b[0m\u001b[0mreshape\u001b[0m\u001b[1;33m(\u001b[0m\u001b[0mmaturities_dim\u001b[0m\u001b[1;33m,\u001b[0m\u001b[0mstrikes_dim\u001b[0m\u001b[1;33m)\u001b[0m\u001b[1;33m)\u001b[0m\u001b[1;33m\u001b[0m\u001b[1;33m\u001b[0m\u001b[0m\n\u001b[0m\u001b[0;32m      8\u001b[0m \u001b[0mplt\u001b[0m\u001b[1;33m.\u001b[0m\u001b[0mcolorbar\u001b[0m\u001b[1;33m(\u001b[0m\u001b[0mformat\u001b[0m\u001b[1;33m=\u001b[0m\u001b[0mmtick\u001b[0m\u001b[1;33m.\u001b[0m\u001b[0mPercentFormatter\u001b[0m\u001b[1;33m(\u001b[0m\u001b[1;33m)\u001b[0m\u001b[1;33m)\u001b[0m\u001b[1;33m\u001b[0m\u001b[1;33m\u001b[0m\u001b[0m\n\u001b[0;32m      9\u001b[0m \u001b[1;33m\u001b[0m\u001b[0m\n",
      "\u001b[1;31mNameError\u001b[0m: name 'errors' is not defined"
     ]
    },
    {
     "data": {
      "image/png": "[encoded data removed]",
      "text/plain": [
       "<Figure size 1224x288 with 1 Axes>"
      ]
     },
     "metadata": {
      "needs_background": "light"
     },
     "output_type": "display_data"
    }
   ],
   "source": [
    "strikes_dim=len(strikes)\n",
    "maturities_dim=len(maturities)\n",
    "\n",
    "plt.figure(1,figsize=(17,4))\n",
    "ax=plt.subplot(1,3,1)\n",
    "plt.title(\"Average relative error\",fontsize=15,y=1.04)\n",
    "plt.imshow(errors[0].reshape(maturities_dim,strikes_dim))\n",
    "plt.colorbar(format=mtick.PercentFormatter())\n",
    "\n",
    "ax.set_xticks(np.linspace(0,len(strikes)-1,len(strikes)))\n",
    "ax.set_xticklabels(strikes)\n",
    "ax.set_yticks(np.linspace(0,len(maturities)-1,len(maturities)))\n",
    "ax.set_yticklabels(maturities)\n",
    "plt.xlabel(\"Strike\",fontsize=15,labelpad=5)\n",
    "plt.ylabel(\"Maturity\",fontsize=15,labelpad=5)\n",
    "\n",
    "ax=plt.subplot(1,3,2)\n",
    "plt.title(\"Std relative error\",fontsize=15,y=1.04)\n",
    "plt.imshow(errors[1].reshape(maturities_dim,strikes_dim))\n",
    "plt.colorbar(format=mtick.PercentFormatter())\n",
    "\n",
    "ax.set_xticks(np.linspace(0,len(strikes)-1,len(strikes)))\n",
    "ax.set_xticklabels(strikes)\n",
    "ax.set_yticks(np.linspace(0,len(maturities)-1,len(maturities)))\n",
    "ax.set_yticklabels(maturities)\n",
    "plt.xlabel(\"Strike\",fontsize=15,labelpad=5)\n",
    "plt.ylabel(\"Maturity\",fontsize=15,labelpad=5)\n",
    "\n",
    "ax=plt.subplot(1,3,3)\n",
    "plt.title(\"Maximum relative error\",fontsize=15,y=1.04)\n",
    "plt.imshow(errors[2].reshape(maturities_dim,strikes_dim))\n",
    "plt.colorbar(format=mtick.PercentFormatter())\n",
    "\n",
    "ax.set_xticks(np.linspace(0,len(strikes)-1,len(strikes)))\n",
    "ax.set_xticklabels(strikes)\n",
    "ax.set_yticks(np.linspace(0,len(maturities)-1,len(maturities)))\n",
    "ax.set_yticklabels(maturities)\n",
    "plt.xlabel(\"Strike\",fontsize=15,labelpad=5)\n",
    "plt.ylabel(\"Maturity\",fontsize=15,labelpad=5)"
   ]
  },
  {
   "cell_type": "code",
   "execution_count": 11,
   "id": "d4a04de1",
   "metadata": {},
   "outputs": [
    {
     "name": "stdout",
     "output_type": "stream",
     "text": [
      "8\n"
     ]
    },
    {
     "data": {
      "image/png": "[encoded data removed]",
      "text/plain": [
       "<Figure size 1656x504 with 8 Axes>"
      ]
     },
     "metadata": {
      "needs_background": "light"
     },
     "output_type": "display_data"
    }
   ],
   "source": [
    "# call_prices\n",
    "axisX = []\n",
    "axisY = []\n",
    "strikes_dim=len(strikes)\n",
    "maturities_dim=len(maturities)\n",
    "\n",
    "for i in range(maturities_dim):\n",
    "    x = []\n",
    "    y = []\n",
    "    for j in range(strikes_dim):\n",
    "        try:\n",
    "            y.append(impliedVol(S0, strikes[j], maturities[i], call_prices[i*strikes_dim + j]))\n",
    "            x.append(np.log(strikes[j]/S0))\n",
    "        except:\n",
    "            pass\n",
    "    axisX.append(x)\n",
    "    axisY.append(y)\n",
    "    \n",
    "print(len(axisX)) \n",
    "f = plt.figure(1, figsize=(23, 7))\n",
    "for i in range(len(maturities)):\n",
    "    plt.subplot(2, 4, i+1)\n",
    "    plt.scatter(axisX[i], axisY[i], c='g', marker='x', label=\"T = %s\"%maturities[i])\n",
    "    plt.xlabel(\"log(K/S0)\")\n",
    "    plt.ylabel(\"implied volatility\")\n",
    "    plt.legend(loc=1)\n",
    "plt.show();"
   ]
  },
  {
   "cell_type": "code",
   "execution_count": null,
   "id": "c053648f",
   "metadata": {},
   "outputs": [],
   "source": []
  },
  {
   "cell_type": "code",
   "execution_count": null,
   "id": "7e8cb8e9",
   "metadata": {},
   "outputs": [],
   "source": [
    "# time = np.arange(N)\n",
    "# f = plt.figure(figsize=(16,4))\n",
    "# ax1 = plt.subplot(121)\n",
    "# ax1.plot(time, S, label = \"qrHeston\")\n",
    "# ax1.grid()\n",
    "# ax1.set_xlabel(\"time\")\n",
    "# ax1.set_ylabel(\"Prices\")\n",
    "# ax1.legend(loc=1)\n",
    "\n",
    "# ax2 = plt.subplot(122)\n",
    "# ax2.plot(time, iv, label = \"qrHeston\")\n",
    "# ax2.grid()\n",
    "# ax2.set_xlabel(\"time\")\n",
    "# ax2.set_ylabel(\"implied volatility\")\n",
    "# ax2.legend(loc=1)\n",
    "# plt.show()\n"
   ]
  },
  {
   "cell_type": "code",
   "execution_count": 1,
   "id": "c009d617",
   "metadata": {},
   "outputs": [
    {
     "data": {
      "text/plain": [
       "4"
      ]
     },
     "execution_count": 1,
     "metadata": {},
     "output_type": "execute_result"
    }
   ],
   "source": [
    "import multiprocessing\n",
    "\n",
    "multiprocessing.cpu_count()"
   ]
  },
  {
   "cell_type": "code",
   "execution_count": null,
   "id": "b64e0aed",
   "metadata": {},
   "outputs": [],
   "source": [
    "strikes_dim=len(strikes)\n",
    "maturities_dim=len(maturities)\n",
    "\n",
    "x = np.log(strikes/S0)\n",
    "f = plt.figure(1, figsize=(23, 7))\n",
    "for i in range(len(maturities)):\n",
    "    plt.subplot(2, 4, i+1)\n",
    "    y = ivs_[7][i*strikes_dim: (i+1)*strikes_dim]\n",
    "    plt.scatter(x, y, c='g', marker='x', label=\"T = %s\"%maturities[i])\n",
    "    plt.xlabel(\"log(K/S0)\")\n",
    "    plt.ylabel(\"implied volatility\")\n",
    "    plt.legend(loc=1)\n",
    "plt.show();"
   ]
  },
  {
   "cell_type": "code",
   "execution_count": null,
   "id": "c746b255",
   "metadata": {},
   "outputs": [],
   "source": []
  }
 ],
 "metadata": {
  "kernelspec": {
   "display_name": "jia21",
   "language": "python",
   "name": "jia21"
  },
  "language_info": {
   "codemirror_mode": {
    "name": "ipython",
    "version": 3
   },
   "file_extension": ".py",
   "mimetype": "text/x-python",
   "name": "python",
   "nbconvert_exporter": "python",
   "pygments_lexer": "ipython3",
   "version": "3.8.8"
  }
 },
 "nbformat": 4,
 "nbformat_minor": 5
}
