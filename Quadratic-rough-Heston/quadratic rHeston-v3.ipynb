{
 "cells": [
  {
   "cell_type": "code",
   "execution_count": 1,
   "id": "3f4c3f98",
   "metadata": {},
   "outputs": [],
   "source": [
    "%config Completer.use_jedi=False\n",
    "import numpy as np\n",
    "import pandas as pd\n",
    "import scipy.stats as sps\n",
    "import math\n",
    "from scipy.special import gamma\n",
    "from scipy.optimize import bisect\n",
    "from scipy.stats import norm\n",
    "import matplotlib.pyplot as plt\n",
    "from tqdm.notebook import trange \n",
    "import time\n",
    "import matplotlib.ticker as mtick\n",
    "# from functions.cython_qrHeston import *\n",
    "from utils import *"
   ]
  },
  {
   "cell_type": "markdown",
   "id": "feebabe7",
   "metadata": {},
   "source": [
    "### Monte Carlo simulation\n",
    "\n",
    "####  Quadratic rough Heston model\n",
    "$$\n",
    "\\begin{aligned}\n",
    "dS_t&=S_t\\sqrt{V_t}dW_t \\\\\n",
    "V_t&=a(Z_t-b)^2+c\n",
    "\\end{aligned}\n",
    "$$\n",
    "where $W$ is a Brownian motion and $a,\\,b,\\,c>0$. This model is of rought Heston type, in the sense that weighted past price returns are drivers of the volatility dynamics:\n",
    "$$Z_t=\\int_0^t(t-s)^{\\alpha-1}\\frac{\\lambda}{\\Gamma(\\alpha)}(\\theta_0(s)-Z_s)ds+\\int_0^t(t-s)^{\\alpha-1}\\frac{\\lambda}{\\Gamma(\\alpha)}\\eta\\sqrt{V_s}dW_s$$\n",
    "with $\\alpha\\in(1/2,\\,1),\\,\\lambda>0,\\,\\eta>0$ and $\\theta_0$ a deterministic function.\n",
    "\n"
   ]
  },
  {
   "cell_type": "markdown",
   "id": "656a2172",
   "metadata": {},
   "source": [
    "For simplicity, $\\theta_0(t)=\\cfrac{Z_0}{\\lambda\\Gamma(1-\\alpha)}t^{-\\alpha}$, so we have\n",
    "$$Z_t=Z_0-\\int_0^t(t-s)^{\\alpha-1}\\frac{\\lambda}{\\Gamma(\\alpha)}Z_sds+\\int_0^t(t-s)^{\\alpha-1}\\frac{\\lambda}{\\Gamma(\\alpha)}\\eta\\sqrt{V_s}dW_s$$\n",
    "\n",
    "The parameters to calibrate are $v=(\\alpha, \\lambda, a,b,c, Z_0)\\in\\mathbb{R}^6$(Note that we can always take $\\eta=1$ up to a rescaling of the other parameters)."
   ]
  },
  {
   "cell_type": "code",
   "execution_count": 2,
   "id": "a9cbda8b",
   "metadata": {},
   "outputs": [],
   "source": [
    "S0 = 5.24\n",
    "\n",
    "maturities = np.array([0.06, 0.15, 0.31, 0.56])\n",
    "strikes = np.array([5.25, 5.50, 5.75, 6.00, 6.25])\n",
    "strike_dim = len(strikes)\n",
    "maturities_dim = len(maturities)"
   ]
  },
  {
   "cell_type": "code",
   "execution_count": 16,
   "id": "de8504a4",
   "metadata": {},
   "outputs": [],
   "source": [
    "class qrHeston:\n",
    "    \"\"\"\n",
    "    A Monte Carlo class for simulating the stochastic models (ex: Heston, rough Heston...)\n",
    "            \n",
    "     \n",
    "    \"\"\"\n",
    "    def __init__(self, qrheston_params, S0, dt = 0.004, Tmin = 0.25, Tmax=2., r = 0.0):\n",
    "        \n",
    "        # Time discretisation parameters, maturitiy <= 2 year\n",
    "        self.Tmax  = Tmax  \n",
    "        self.Tmin = Tmin\n",
    "        self.dt =  dt #Tmax/nbTimeSteps\n",
    "        \n",
    "        # Time gird is divided into 3 parts, about 1 day for T<3months(0.25year), 2d for T<=6months, 3d for T>6months\n",
    "        self.time_grids = [np.arange(0., Tmin, dt), np.arange(0., 2*Tmin, 2*dt), np.arange(0., Tmax, 3*dt)]\n",
    "        \n",
    "        # Spot price\n",
    "        self.S0 = S0\n",
    "        \n",
    "        # risk-free interest\n",
    "        self.r = r\n",
    "        \n",
    "        # qrHeston parameters\n",
    "        self.alpha = qrheston_params['alpha']\n",
    "        self.Lambda = qrheston_params['Lambda']\n",
    "        self.a = qrheston_params['a']\n",
    "        self.b = qrheston_params['b']\n",
    "        self.c = qrheston_params['c']\n",
    "        self.Z0 = qrheston_params['Z0']\n",
    "  \n",
    "    \n",
    "    \n",
    "    def qrHeston_single_stockPaths(self, T, nbPaths):\n",
    "        \"\"\"\n",
    "        Monte Carlo Simulation for the quadratic rough Heston model\n",
    "        Input: \n",
    "            T: maturity\n",
    "            nbPaths: number of paths\n",
    "        \n",
    "        Output:\n",
    "            An array of Stock price paths at maturity T, with each row(axis=0) a simulation path \n",
    "            \n",
    "        \"\"\"\n",
    "        ## choose the proper time grid for the maturity T\n",
    "        if T <= self.Tmin:\n",
    "            time_grid = self.time_grids[0] \n",
    "        elif T <= 2*self.Tmin:\n",
    "            time_grid = self.time_grids[1]\n",
    "        else:\n",
    "            time_grid = self.time_grids[2]\n",
    "            \n",
    "        dt = time_grid[1] - time_grid[0]\n",
    "        dtsqrt= np.sqrt(dt)\n",
    "        nbTimeSteps  = int(T/dt)\n",
    "        \n",
    "        # Generate a Brownian Motion sequence\n",
    "        W = np.random.normal(0, dtsqrt, (nbPaths, nbTimeSteps))\n",
    "        X, Z, V  = np.zeros((3, nbPaths, nbTimeSteps))\n",
    "        \n",
    "        X[:, 0] = np.full(nbPaths, np.log(self.S0))\n",
    "        Z[:, 0] = np.full(nbPaths, self.Z0)\n",
    "        V[:, 0] = np.full(nbPaths, self.a * (self.Z0 - self.b)**2 + self.c)\n",
    "\n",
    "\n",
    "        coef = self.Lambda/gamma(self.alpha)\n",
    "\n",
    "        for i in trange(1, nbTimeSteps):\n",
    "            \n",
    "            ti   = np.power(time_grid[i] - time_grid[: i], self.alpha - 1)\n",
    "            Zi   = Z[:, : i]\n",
    "            Vi   = V[:, : i]\n",
    "            Wi   = W[:, : i] \n",
    "            \n",
    "            tmp = np.dot(dt*Zi - np.sqrt(Vi)*Wi, ti)\n",
    "#             tmp = (dt*Zi - np.sqrt(Vi)*Wi)@ti\n",
    "            \n",
    "            Z[:, i] = np.full(nbPaths, self.Z0) - coef*tmp\n",
    "#             Z[i] = self.Z0 - coef*dt*np.sum(ti*Zi) + coef*np.sum(ti*np.sqrt(Vi)*Wi)\n",
    "            V[:, i] = self.a * (Z[:, i] - self.b)**2 + self.c\n",
    "            X[:, i] = X[:, i-1] -0.5*V[:, i-1]*dt + np.sqrt(V[:, i-1])*W[:, i]\n",
    "\n",
    "        return np.exp(X)\n",
    "    \n",
    "    def qrHeston_multiple_stockPaths(self, nbPaths):\n",
    "        \"\"\"\n",
    "        Monte Carlo Simulation for the quadratic rough Heston model\n",
    "        Input: \n",
    "            nbPaths: number of paths\n",
    "        \n",
    "        Output:\n",
    "            A list of 3 arrays of Stock price paths at maturity 3 months, 6 months and 2 years, respectively.\n",
    "            \n",
    "        \"\"\"\n",
    "        Ts = [self.Tmin, 2*self.Tmin, self.Tmax]\n",
    "        multi_paths = [self.qrHeston_single_stockPaths(T, nbPaths) for T in Ts]\n",
    "        \n",
    "        return multi_paths\n",
    "    \n",
    "    \n",
    "    def compute_relative_errors(self, sample):\n",
    "        \"\"\"\n",
    "        Compute relative errors using 95% confidence intervals\n",
    "        Input: \n",
    "            the sample data\n",
    "        Output:\n",
    "            Average, standard deviation and maximum relative errors\n",
    "        \"\"\"\n",
    "        avg = np.mean(sample)\n",
    "        sig= np.std(sample)/np.sqrt(len(sample))\n",
    "        \n",
    "        f = np.array(list(filter(lambda x: x!=0 and x >= avg-1.96*sig and x <= avg+1.96*sig, sample)))\n",
    "        relative_errors = np.abs(f - avg)/f\n",
    "        \n",
    "        return 100*np.mean(relative_errors), 100*np.std(relative_errors), 100*np.max(relative_errors)\n",
    "            \n",
    "            \n",
    "    def qrHeston_CallPut(self, strikes, maturities, N = 100000, call_put = 1):\n",
    "        \"\"\"\n",
    "        Compute the call/put option price with call_put = 1/-1 for \"Call/Put\"  for given strikes and maturities\n",
    "        \n",
    "        Output:\n",
    "            A list with each element the call/put prices for the strike(s) and maturity(maturities)\n",
    "            A list of (Average, standard deviation and maximum) relative errors of the Monte Carlo for each maturity-strike\n",
    "        \"\"\"\n",
    "        dim = len(strikes)*len(maturities)\n",
    "        \n",
    "        callput_prices = np.zeros(dim)\n",
    "        errors = np.zeros((3, dim))\n",
    "        \n",
    "        multi_paths = self.qrHeston_multiple_stockPaths(N)\n",
    "        i = 0\n",
    "        for T in maturities:\n",
    "            if T <= self.Tmin:\n",
    "                paths = multi_paths[0]\n",
    "                dt = self.dt\n",
    "            elif T <= 2*self.Tmin:\n",
    "                paths = multi_paths[1]\n",
    "                dt = 2*self.dt\n",
    "            else:\n",
    "                paths = multi_paths[2]\n",
    "                dt = 3*self.dt\n",
    "                \n",
    "            stop = int(T/dt)-1 ##+1?\n",
    "            stockPrice = paths[:, stop]\n",
    "            \n",
    "            for K in strikes:\n",
    "                tmp   = np.maximum(call_put*(stockPrice - K), 0.0)\n",
    "                callput_prices[i] = np.mean(tmp)*np.exp(-self.r * T)\n",
    "#                 try:\n",
    "#                     errors[:, i] = self.compute_relative_errors(tmp)\n",
    "#                 except:\n",
    "#                     pass\n",
    "#                 i += 1\n",
    "        return callput_prices               \n",
    "#         return callput_prices, errors"
   ]
  },
  {
   "cell_type": "code",
   "execution_count": 29,
   "id": "2d904edd",
   "metadata": {},
   "outputs": [
    {
     "name": "stdout",
     "output_type": "stream",
     "text": [
      "[0.5667 0.854  0.477  0.3062 0.0031 0.1391]\n"
     ]
    }
   ],
   "source": [
    "S0 = 100\n",
    "maturities = np.array([0.05, 0.1, 0.2, 0.3, 0.5])\n",
    "strikes = np.array([95, 97, 99, 100, 101, 103, 105])\n",
    "\n",
    "\n",
    "#### Parameters for quadratic rough Heston\n",
    "data = np.loadtxt(\"Data/parameters.txt\")\n",
    "alpha, Lambda, a, b, c, Z0 = data[1]\n",
    "print(data[1])\n",
    "# Z0 = 0.1\n",
    "# alpha = 0.55\n",
    "# a = 0.384\n",
    "# b = 0.095\n",
    "# c = 0.0025\n",
    "# Lambda = 1.2\n",
    "\n",
    "qrheston_params = {'alpha': alpha, 'Lambda': Lambda, 'a': a, 'b': b, 'c': c, 'Z0': Z0}\n"
   ]
  },
  {
   "cell_type": "code",
   "execution_count": 30,
   "id": "b704e28c",
   "metadata": {},
   "outputs": [
    {
     "data": {
      "application/vnd.jupyter.widget-view+json": {
       "model_id": "c461f205c912456a8a3a594bbe0fee37",
       "version_major": 2,
       "version_minor": 0
      },
      "text/plain": [
       "  0%|          | 0/61 [00:00<?, ?it/s]"
      ]
     },
     "metadata": {},
     "output_type": "display_data"
    },
    {
     "data": {
      "application/vnd.jupyter.widget-view+json": {
       "model_id": "a6a6a913d00e41efbc6da63bd32a707a",
       "version_major": 2,
       "version_minor": 0
      },
      "text/plain": [
       "  0%|          | 0/61 [00:00<?, ?it/s]"
      ]
     },
     "metadata": {},
     "output_type": "display_data"
    },
    {
     "data": {
      "application/vnd.jupyter.widget-view+json": {
       "model_id": "ee34f2a033ee471b8813df38ac940115",
       "version_major": 2,
       "version_minor": 0
      },
      "text/plain": [
       "  0%|          | 0/61 [00:00<?, ?it/s]"
      ]
     },
     "metadata": {},
     "output_type": "display_data"
    },
    {
     "data": {
      "application/vnd.jupyter.widget-view+json": {
       "model_id": "fdac46e0871440468800a791bd6b5738",
       "version_major": 2,
       "version_minor": 0
      },
      "text/plain": [
       "  0%|          | 0/61 [00:00<?, ?it/s]"
      ]
     },
     "metadata": {},
     "output_type": "display_data"
    },
    {
     "data": {
      "application/vnd.jupyter.widget-view+json": {
       "model_id": "add1c628ef834a4189f79b59977b7d97",
       "version_major": 2,
       "version_minor": 0
      },
      "text/plain": [
       "  0%|          | 0/61 [00:00<?, ?it/s]"
      ]
     },
     "metadata": {},
     "output_type": "display_data"
    },
    {
     "data": {
      "application/vnd.jupyter.widget-view+json": {
       "model_id": "253863bc106a47ca8352af6e2b1ca2e7",
       "version_major": 2,
       "version_minor": 0
      },
      "text/plain": [
       "  0%|          | 0/61 [00:00<?, ?it/s]"
      ]
     },
     "metadata": {},
     "output_type": "display_data"
    },
    {
     "data": {
      "application/vnd.jupyter.widget-view+json": {
       "model_id": "03ee5700d64649ed8c80b3186297f434",
       "version_major": 2,
       "version_minor": 0
      },
      "text/plain": [
       "  0%|          | 0/61 [00:00<?, ?it/s]"
      ]
     },
     "metadata": {},
     "output_type": "display_data"
    },
    {
     "data": {
      "application/vnd.jupyter.widget-view+json": {
       "model_id": "1a79cb38765d436b9a5caea909b280b0",
       "version_major": 2,
       "version_minor": 0
      },
      "text/plain": [
       "  0%|          | 0/61 [00:00<?, ?it/s]"
      ]
     },
     "metadata": {},
     "output_type": "display_data"
    },
    {
     "data": {
      "application/vnd.jupyter.widget-view+json": {
       "model_id": "65b810c072d04a1f96c0072341d8fd66",
       "version_major": 2,
       "version_minor": 0
      },
      "text/plain": [
       "  0%|          | 0/61 [00:00<?, ?it/s]"
      ]
     },
     "metadata": {},
     "output_type": "display_data"
    },
    {
     "data": {
      "application/vnd.jupyter.widget-view+json": {
       "model_id": "846bf8f813f54f75afb6914f1d0d0f1d",
       "version_major": 2,
       "version_minor": 0
      },
      "text/plain": [
       "  0%|          | 0/61 [00:00<?, ?it/s]"
      ]
     },
     "metadata": {},
     "output_type": "display_data"
    },
    {
     "data": {
      "application/vnd.jupyter.widget-view+json": {
       "model_id": "c5109a934b994be9b77cff5831ae5ffe",
       "version_major": 2,
       "version_minor": 0
      },
      "text/plain": [
       "  0%|          | 0/61 [00:00<?, ?it/s]"
      ]
     },
     "metadata": {},
     "output_type": "display_data"
    },
    {
     "data": {
      "application/vnd.jupyter.widget-view+json": {
       "model_id": "628ec0b9389647e6b4366eed5a2bd6c0",
       "version_major": 2,
       "version_minor": 0
      },
      "text/plain": [
       "  0%|          | 0/61 [00:00<?, ?it/s]"
      ]
     },
     "metadata": {},
     "output_type": "display_data"
    },
    {
     "data": {
      "application/vnd.jupyter.widget-view+json": {
       "model_id": "7e9f64e865fa48f5854df4a36cfc4057",
       "version_major": 2,
       "version_minor": 0
      },
      "text/plain": [
       "  0%|          | 0/61 [00:00<?, ?it/s]"
      ]
     },
     "metadata": {},
     "output_type": "display_data"
    },
    {
     "data": {
      "application/vnd.jupyter.widget-view+json": {
       "model_id": "a46932436ddd4c0d986c50a284ab521b",
       "version_major": 2,
       "version_minor": 0
      },
      "text/plain": [
       "  0%|          | 0/61 [00:00<?, ?it/s]"
      ]
     },
     "metadata": {},
     "output_type": "display_data"
    },
    {
     "data": {
      "application/vnd.jupyter.widget-view+json": {
       "model_id": "9e77618479e94978accee0e8ae252e90",
       "version_major": 2,
       "version_minor": 0
      },
      "text/plain": [
       "  0%|          | 0/61 [00:00<?, ?it/s]"
      ]
     },
     "metadata": {},
     "output_type": "display_data"
    },
    {
     "data": {
      "application/vnd.jupyter.widget-view+json": {
       "model_id": "4b173b98f2c845c2a7528b0efa2517b3",
       "version_major": 2,
       "version_minor": 0
      },
      "text/plain": [
       "  0%|          | 0/61 [00:00<?, ?it/s]"
      ]
     },
     "metadata": {},
     "output_type": "display_data"
    },
    {
     "data": {
      "application/vnd.jupyter.widget-view+json": {
       "model_id": "857cc226df144258aec1236d906d09cb",
       "version_major": 2,
       "version_minor": 0
      },
      "text/plain": [
       "  0%|          | 0/61 [00:00<?, ?it/s]"
      ]
     },
     "metadata": {},
     "output_type": "display_data"
    },
    {
     "data": {
      "application/vnd.jupyter.widget-view+json": {
       "model_id": "4c751d3cfa1745c38b39a3c205d129bb",
       "version_major": 2,
       "version_minor": 0
      },
      "text/plain": [
       "  0%|          | 0/61 [00:00<?, ?it/s]"
      ]
     },
     "metadata": {},
     "output_type": "display_data"
    },
    {
     "data": {
      "application/vnd.jupyter.widget-view+json": {
       "model_id": "c2233ef6cce24e268c4b42a95d82e24d",
       "version_major": 2,
       "version_minor": 0
      },
      "text/plain": [
       "  0%|          | 0/61 [00:00<?, ?it/s]"
      ]
     },
     "metadata": {},
     "output_type": "display_data"
    },
    {
     "data": {
      "application/vnd.jupyter.widget-view+json": {
       "model_id": "f799df928f194c1eb951b3543d953397",
       "version_major": 2,
       "version_minor": 0
      },
      "text/plain": [
       "  0%|          | 0/61 [00:00<?, ?it/s]"
      ]
     },
     "metadata": {},
     "output_type": "display_data"
    },
    {
     "data": {
      "application/vnd.jupyter.widget-view+json": {
       "model_id": "47d87bdea7504e4f819d28257f6a2446",
       "version_major": 2,
       "version_minor": 0
      },
      "text/plain": [
       "  0%|          | 0/61 [00:00<?, ?it/s]"
      ]
     },
     "metadata": {},
     "output_type": "display_data"
    },
    {
     "data": {
      "application/vnd.jupyter.widget-view+json": {
       "model_id": "02f4f06792a84f439e5c337c2a931727",
       "version_major": 2,
       "version_minor": 0
      },
      "text/plain": [
       "  0%|          | 0/61 [00:00<?, ?it/s]"
      ]
     },
     "metadata": {},
     "output_type": "display_data"
    },
    {
     "data": {
      "application/vnd.jupyter.widget-view+json": {
       "model_id": "608cf703bba2411682342e87436ca2ef",
       "version_major": 2,
       "version_minor": 0
      },
      "text/plain": [
       "  0%|          | 0/61 [00:00<?, ?it/s]"
      ]
     },
     "metadata": {},
     "output_type": "display_data"
    },
    {
     "data": {
      "application/vnd.jupyter.widget-view+json": {
       "model_id": "190f112c4dc248d99b1abae27c46733f",
       "version_major": 2,
       "version_minor": 0
      },
      "text/plain": [
       "  0%|          | 0/61 [00:00<?, ?it/s]"
      ]
     },
     "metadata": {},
     "output_type": "display_data"
    },
    {
     "data": {
      "application/vnd.jupyter.widget-view+json": {
       "model_id": "684ef306f9194fe6ad7308f9d70a42bf",
       "version_major": 2,
       "version_minor": 0
      },
      "text/plain": [
       "  0%|          | 0/61 [00:00<?, ?it/s]"
      ]
     },
     "metadata": {},
     "output_type": "display_data"
    },
    {
     "data": {
      "application/vnd.jupyter.widget-view+json": {
       "model_id": "222f45552fca414d87359b6743bb6b4a",
       "version_major": 2,
       "version_minor": 0
      },
      "text/plain": [
       "  0%|          | 0/61 [00:00<?, ?it/s]"
      ]
     },
     "metadata": {},
     "output_type": "display_data"
    },
    {
     "data": {
      "application/vnd.jupyter.widget-view+json": {
       "model_id": "4c44070c17f443eca970c4283e5c1cf1",
       "version_major": 2,
       "version_minor": 0
      },
      "text/plain": [
       "  0%|          | 0/61 [00:00<?, ?it/s]"
      ]
     },
     "metadata": {},
     "output_type": "display_data"
    },
    {
     "data": {
      "application/vnd.jupyter.widget-view+json": {
       "model_id": "5993a9829256407faa0a354c62c5524e",
       "version_major": 2,
       "version_minor": 0
      },
      "text/plain": [
       "  0%|          | 0/61 [00:00<?, ?it/s]"
      ]
     },
     "metadata": {},
     "output_type": "display_data"
    },
    {
     "data": {
      "application/vnd.jupyter.widget-view+json": {
       "model_id": "b0fae13584554cf6bfeda09c86e4dc08",
       "version_major": 2,
       "version_minor": 0
      },
      "text/plain": [
       "  0%|          | 0/61 [00:00<?, ?it/s]"
      ]
     },
     "metadata": {},
     "output_type": "display_data"
    },
    {
     "data": {
      "application/vnd.jupyter.widget-view+json": {
       "model_id": "25fc7e3f8c174b4498817344660db9df",
       "version_major": 2,
       "version_minor": 0
      },
      "text/plain": [
       "  0%|          | 0/61 [00:00<?, ?it/s]"
      ]
     },
     "metadata": {},
     "output_type": "display_data"
    }
   ],
   "source": [
    "call_prices = []\n",
    "for i in range(10):\n",
    "    a = np.random.uniform(0.1, 0.75)\n",
    "    qrheston_params = {'alpha': alpha, 'Lambda': Lambda, 'a': a, 'b': b, 'c': c, 'Z0': Z0}\n",
    "    MC = qrHeston(qrheston_params, S0 = S0, Tmax=maturities[-1])\n",
    "    # call_prices, errors= MC.qrHeston_CallPut(strikes, maturities)\n",
    "    call_prices.append(MC.qrHeston_CallPut(strikes, maturities))\n",
    "\n"
   ]
  },
  {
   "cell_type": "code",
   "execution_count": 31,
   "id": "ee4c3f04",
   "metadata": {},
   "outputs": [
    {
     "data": {
      "text/plain": [
       "0"
      ]
     },
     "execution_count": 31,
     "metadata": {},
     "output_type": "execute_result"
    }
   ],
   "source": [
    "implied_vols = []\n",
    "for c in call_prices:\n",
    "    try:\n",
    "        implied_vols.append(S0, strikes, maturities,prices = c)\n",
    "    except:\n",
    "        continue\n",
    "len(implied_vols)"
   ]
  },
  {
   "cell_type": "code",
   "execution_count": null,
   "id": "61faf0c6",
   "metadata": {},
   "outputs": [],
   "source": [
    "from quadratic_rHeston import *\n",
    "# %%time\n",
    "params = data[120]\n",
    "MC = qrHeston(params, S0=S0, Tmax=maturities[-1], r=0.03)\n",
    "call_prices= MC.qrHeston_CallPut(strikes, maturities)"
   ]
  },
  {
   "cell_type": "code",
   "execution_count": null,
   "id": "2ccb5c89",
   "metadata": {},
   "outputs": [],
   "source": [
    "len(call_prices)# data[100]\n",
    "call_prices"
   ]
  },
  {
   "cell_type": "code",
   "execution_count": 21,
   "id": "a344df96",
   "metadata": {},
   "outputs": [
    {
     "data": {
      "text/plain": [
       "0"
      ]
     },
     "execution_count": 21,
     "metadata": {},
     "output_type": "execute_result"
    }
   ],
   "source": []
  },
  {
   "cell_type": "code",
   "execution_count": null,
   "id": "fc9186c4",
   "metadata": {},
   "outputs": [],
   "source": [
    "strikes_dim=len(strikes)\n",
    "maturities_dim=len(maturities)\n",
    "\n",
    "plt.figure(1,figsize=(17,4))\n",
    "ax=plt.subplot(1,3,1)\n",
    "plt.title(\"Average relative error\",fontsize=15,y=1.04)\n",
    "plt.imshow(errors[0].reshape(maturities_dim,strikes_dim))\n",
    "plt.colorbar(format=mtick.PercentFormatter())\n",
    "\n",
    "ax.set_xticks(np.linspace(0,len(strikes)-1,len(strikes)))\n",
    "ax.set_xticklabels(strikes)\n",
    "ax.set_yticks(np.linspace(0,len(maturities)-1,len(maturities)))\n",
    "ax.set_yticklabels(maturities)\n",
    "plt.xlabel(\"Strike\",fontsize=15,labelpad=5)\n",
    "plt.ylabel(\"Maturity\",fontsize=15,labelpad=5)\n",
    "\n",
    "ax=plt.subplot(1,3,2)\n",
    "plt.title(\"Std relative error\",fontsize=15,y=1.04)\n",
    "plt.imshow(errors[1].reshape(maturities_dim,strikes_dim))\n",
    "plt.colorbar(format=mtick.PercentFormatter())\n",
    "\n",
    "ax.set_xticks(np.linspace(0,len(strikes)-1,len(strikes)))\n",
    "ax.set_xticklabels(strikes)\n",
    "ax.set_yticks(np.linspace(0,len(maturities)-1,len(maturities)))\n",
    "ax.set_yticklabels(maturities)\n",
    "plt.xlabel(\"Strike\",fontsize=15,labelpad=5)\n",
    "plt.ylabel(\"Maturity\",fontsize=15,labelpad=5)\n",
    "\n",
    "ax=plt.subplot(1,3,3)\n",
    "plt.title(\"Maximum relative error\",fontsize=15,y=1.04)\n",
    "plt.imshow(errors[2].reshape(maturities_dim,strikes_dim))\n",
    "plt.colorbar(format=mtick.PercentFormatter())\n",
    "\n",
    "ax.set_xticks(np.linspace(0,len(strikes)-1,len(strikes)))\n",
    "ax.set_xticklabels(strikes)\n",
    "ax.set_yticks(np.linspace(0,len(maturities)-1,len(maturities)))\n",
    "ax.set_yticklabels(maturities)\n",
    "plt.xlabel(\"Strike\",fontsize=15,labelpad=5)\n",
    "plt.ylabel(\"Maturity\",fontsize=15,labelpad=5)"
   ]
  },
  {
   "cell_type": "code",
   "execution_count": null,
   "id": "d4a04de1",
   "metadata": {},
   "outputs": [],
   "source": [
    "# call_prices\n",
    "axisX = []\n",
    "axisY = []\n",
    "strikes_dim=len(strikes)\n",
    "maturities_dim=len(maturities)\n",
    "\n",
    "for i in range(maturities_dim):\n",
    "    x = []\n",
    "    y = []\n",
    "    for j in range(strikes_dim):\n",
    "        try:\n",
    "            y.append(impliedVol(S0, strikes[j], maturities[i], call_prices[i*strikes_dim + j]))\n",
    "            x.append(np.log(strikes[j]/S0))\n",
    "        except:\n",
    "            pass\n",
    "    axisX.append(x)\n",
    "    axisY.append(y)\n",
    "    \n",
    "print(len(axisX)) \n",
    "f = plt.figure(1, figsize=(23, 7))\n",
    "for i in range(len(maturities)):\n",
    "    plt.subplot(2, 4, i+1)\n",
    "    plt.scatter(axisX[i], axisY[i], c='g', marker='x', label=\"T = %s\"%maturities[i])\n",
    "    plt.xlabel(\"log(K/S0)\")\n",
    "    plt.ylabel(\"implied volatility\")\n",
    "    plt.legend(loc=1)\n",
    "plt.show();"
   ]
  },
  {
   "cell_type": "code",
   "execution_count": null,
   "id": "c053648f",
   "metadata": {},
   "outputs": [],
   "source": [
    "np.ndarray?"
   ]
  },
  {
   "cell_type": "code",
   "execution_count": null,
   "id": "7e8cb8e9",
   "metadata": {},
   "outputs": [],
   "source": [
    "# time = np.arange(N)\n",
    "# f = plt.figure(figsize=(16,4))\n",
    "# ax1 = plt.subplot(121)\n",
    "# ax1.plot(time, S, label = \"qrHeston\")\n",
    "# ax1.grid()\n",
    "# ax1.set_xlabel(\"time\")\n",
    "# ax1.set_ylabel(\"Prices\")\n",
    "# ax1.legend(loc=1)\n",
    "\n",
    "# ax2 = plt.subplot(122)\n",
    "# ax2.plot(time, iv, label = \"qrHeston\")\n",
    "# ax2.grid()\n",
    "# ax2.set_xlabel(\"time\")\n",
    "# ax2.set_ylabel(\"implied volatility\")\n",
    "# ax2.legend(loc=1)\n",
    "# plt.show()\n"
   ]
  },
  {
   "cell_type": "code",
   "execution_count": null,
   "id": "c009d617",
   "metadata": {},
   "outputs": [],
   "source": [
    "import multiprocessing\n",
    "\n",
    "multiprocessing.cpu_count()"
   ]
  },
  {
   "cell_type": "code",
   "execution_count": null,
   "id": "b64e0aed",
   "metadata": {},
   "outputs": [],
   "source": [
    "strikes_dim=len(strikes)\n",
    "maturities_dim=len(maturities)\n",
    "\n",
    "x = np.log(strikes/S0)\n",
    "f = plt.figure(1, figsize=(23, 7))\n",
    "for i in range(len(maturities)):\n",
    "    plt.subplot(2, 4, i+1)\n",
    "    y = ivs_[7][i*strikes_dim: (i+1)*strikes_dim]\n",
    "    plt.scatter(x, y, c='g', marker='x', label=\"T = %s\"%maturities[i])\n",
    "    plt.xlabel(\"log(K/S0)\")\n",
    "    plt.ylabel(\"implied volatility\")\n",
    "    plt.legend(loc=1)\n",
    "plt.show();"
   ]
  },
  {
   "cell_type": "code",
   "execution_count": null,
   "id": "c746b255",
   "metadata": {},
   "outputs": [],
   "source": [
    "from functions.cython_quadratic_rHeston import *"
   ]
  },
  {
   "cell_type": "code",
   "execution_count": null,
   "id": "c0386386",
   "metadata": {},
   "outputs": [],
   "source": []
  }
 ],
 "metadata": {
  "kernelspec": {
   "display_name": "jia21",
   "language": "python",
   "name": "jia21"
  },
  "language_info": {
   "codemirror_mode": {
    "name": "ipython",
    "version": 3
   },
   "file_extension": ".py",
   "mimetype": "text/x-python",
   "name": "python",
   "nbconvert_exporter": "python",
   "pygments_lexer": "ipython3",
   "version": "3.8.8"
  }
 },
 "nbformat": 4,
 "nbformat_minor": 5
}
