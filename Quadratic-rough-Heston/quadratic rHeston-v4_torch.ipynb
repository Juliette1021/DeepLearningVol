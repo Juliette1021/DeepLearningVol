{
 "cells": [
  {
   "cell_type": "code",
   "execution_count": 1,
   "id": "3f4c3f98",
   "metadata": {
    "scrolled": true
   },
   "outputs": [],
   "source": [
    "%config Completer.use_jedi=False\n",
    "import numpy as np\n",
    "import pandas as pd\n",
    "import scipy.stats as sps\n",
    "import math\n",
    "from scipy.special import gamma\n",
    "from scipy.optimize import bisect\n",
    "from scipy.stats import norm\n",
    "import matplotlib.pyplot as plt\n",
    "from tqdm.notebook import trange \n",
    "import time\n",
    "import matplotlib.ticker as mtick\n",
    "# from functions.cython_qrHeston import *\n",
    "from utils import *\n",
    "import torch\n",
    "torch.set_printoptions(precision=10)\n",
    "\n",
    "import torch.distributions as tdist"
   ]
  },
  {
   "cell_type": "markdown",
   "id": "feebabe7",
   "metadata": {},
   "source": [
    "### Monte Carlo simulation\n",
    "\n",
    "####  Quadratic rough Heston model\n",
    "$$\n",
    "\\begin{aligned}\n",
    "dS_t&=S_t\\sqrt{V_t}dW_t \\\\\n",
    "V_t&=a(Z_t-b)^2+c\n",
    "\\end{aligned}\n",
    "$$\n",
    "where $W$ is a Brownian motion and $a,\\,b,\\,c>0$. This model is of rought Heston type, in the sense that weighted past price returns are drivers of the volatility dynamics:\n",
    "$$Z_t=\\int_0^t(t-s)^{\\alpha-1}\\frac{\\lambda}{\\Gamma(\\alpha)}(\\theta_0(s)-Z_s)ds+\\int_0^t(t-s)^{\\alpha-1}\\frac{\\lambda}{\\Gamma(\\alpha)}\\eta\\sqrt{V_s}dW_s$$\n",
    "with $\\alpha\\in(1/2,\\,1),\\,\\lambda>0,\\,\\eta>0$ and $\\theta_0$ a deterministic function.\n",
    "\n"
   ]
  },
  {
   "cell_type": "markdown",
   "id": "656a2172",
   "metadata": {},
   "source": [
    "For simplicity, $\\theta_0(t)=\\cfrac{Z_0}{\\lambda\\Gamma(1-\\alpha)}t^{-\\alpha}$, so we have\n",
    "$$Z_t=Z_0-\\int_0^t(t-s)^{\\alpha-1}\\frac{\\lambda}{\\Gamma(\\alpha)}Z_sds+\\int_0^t(t-s)^{\\alpha-1}\\frac{\\lambda}{\\Gamma(\\alpha)}\\eta\\sqrt{V_s}dW_s$$\n",
    "\n",
    "The parameters to calibrate are $v=(\\alpha, \\lambda, a,b,c, Z_0)\\in\\mathbb{R}^6$(Note that we can always take $\\eta=1$ up to a rescaling of the other parameters)."
   ]
  },
  {
   "cell_type": "markdown",
   "id": "801ee447",
   "metadata": {},
   "source": [
    "To simulate the paths for $S,\\,V$, we use the following discretization (set $X_t = \\log(S_t)$, by Itô's formula, $dX_t = -\\frac{1}{2}V_tdt+\\sqrt{V_t}dW_t$):\n",
    "\n",
    "**Step 0:** Initialize $Z_0,\\,X,\\,V,\\,Z$;\n",
    "\n",
    "**Step 1:** Set the time step length $\\Delta t$, generate the Brownian motion $W$;\n",
    "\n",
    "**Step 2:** for $n=1, 2,\\dots, N(timesteps)$,\n",
    "\\begin{aligned}\n",
    "X_{t_n} &= X_{t_{n-1}}-\\frac{1}{2}V_{t_{n-1}}\\Delta t+\\sqrt{V_{t_{n-1}}}\\,(W_{t_n}-W_{t_{n-1}}\\,);\\\\\n",
    "Z_{t_n} &= Z_0 - \\sum_{i=0}^{n-1}(t_n-t_i)^{\\alpha-1}\\frac{\\lambda}{\\Gamma(\\alpha)}Z_{t_i}\\Delta t+\\sum_{i=0}^{n-1}(t_n-t_i)^{\\alpha-1}\\frac{\\lambda}{\\Gamma(\\alpha)}\\sqrt{V_{t_i}}(W_{t_{i+1}}-W_{t_i})\\\\\n",
    "&=Z_0 - \\frac{\\lambda}{\\Gamma(\\alpha)}\\sum_{i=0}^{n-1}(t_n-t_i)^{\\alpha-1}(Z_{t_i}\\Delta t-\\sqrt{V_{t_i}}(W_{t_{i+1}}-W_{t_i}));\\\\\n",
    "V_{t_n} &= a(Z_{t_n}-b)^2+c.\n",
    "\\end{aligned}\n",
    "**Step 3:** Output $S_{n} = \\exp(X_n),\\,n=0,1,\\dots,N$."
   ]
  },
  {
   "cell_type": "code",
   "execution_count": 4,
   "id": "a9cbda8b",
   "metadata": {},
   "outputs": [],
   "source": [
    "S0 = 5.24\n",
    "\n",
    "maturities = np.array([0.06, 0.15, 0.31, 0.56])\n",
    "strikes = np.array([5.25, 5.50, 5.75, 6.00, 6.25])\n",
    "strike_dim = len(strikes)\n",
    "maturities_dim = len(maturities)\n",
    "# torch.cuda.is_available()"
   ]
  },
  {
   "cell_type": "code",
   "execution_count": 13,
   "id": "de8504a4",
   "metadata": {},
   "outputs": [],
   "source": [
    "class qrHeston:\n",
    "    \"\"\"\n",
    "    A Monte Carlo class for simulating the stochastic models (ex: Heston, rough Heston...)\n",
    "            \n",
    "     \n",
    "    \"\"\"\n",
    "    def __init__(self, params, S0, dt = 0.004, Tmin = 0.25, Tmax=2., r = 0.0):\n",
    "        \n",
    "        # Time discretisation parameters, maturitiy <= 2 year\n",
    "        self.Tmax  = Tmax  \n",
    "        self.Tmin = Tmin\n",
    "        self.dt =  dt #Tmax/nbTimeSteps\n",
    "        \n",
    "        # Time gird is divided into 3 parts, about 1 day for T<3months(0.25year), 2d for T<=6months, 3d for T>6months\n",
    "        self.time_grids = [torch.arange(0., Tmin, dt), torch.arange(0., 2*Tmin, 2*dt), torch.arange(0., Tmax, 3*dt)]\n",
    "        \n",
    "        # Spot price\n",
    "        self.S0 = S0\n",
    "        \n",
    "        # risk-free interest\n",
    "        self.r = r\n",
    "        \n",
    "        # qrHeston parameters\n",
    "        self.alpha, self.Lambda, self.a, self.b, self.c, self.Z0 = params\n",
    "        self.coef = self.Lambda/gamma(self.alpha)\n",
    "        \n",
    "    \n",
    "    \n",
    "    def qrHeston_single_stockPaths(self, T, nbPaths):\n",
    "        \"\"\"\n",
    "        Monte Carlo Simulation for the quadratic rough Heston model\n",
    "        Input: \n",
    "            T: maturity\n",
    "            nbPaths: number of paths\n",
    "        \n",
    "        Output:\n",
    "            An array of Stock price paths at maturity T, with each row(axis=0) a simulation path \n",
    "            \n",
    "        \"\"\"\n",
    "        ## choose the proper time grid for the maturity T\n",
    "        if T <= self.Tmin:\n",
    "            time_grid = self.time_grids[0] \n",
    "        elif T <= 2*self.Tmin:\n",
    "            time_grid = self.time_grids[1]\n",
    "        else:\n",
    "            time_grid = self.time_grids[2]\n",
    "            \n",
    "        dt = time_grid[1] - time_grid[0]\n",
    "#         dtsqrt= torch.sqrt(dt)\n",
    "        \n",
    "        nbTimeSteps = int(T/dt)\n",
    "    \n",
    "        # Generate a Brownian Motion sequence\n",
    "#         W = torch.randn([nbPaths, nbTimeSteps])*dtsqrt\n",
    "        W = torch.normal(mean=torch.zeros([nbPaths, nbTimeSteps]), std=torch.sqrt(dt))\n",
    "        S, Z, V = torch.zeros([3, nbPaths, nbTimeSteps])\n",
    "#         X[:, 0] = torch.full((nbPaths, ), np.log(self.S0))\n",
    "        S[:, 0] = torch.full((nbPaths, ), self.S0)\n",
    "\n",
    "        Z[:, 0] = torch.full((nbPaths, ), self.Z0)\n",
    "        V[:, 0] = torch.full((nbPaths, ), self.a * (self.Z0 - self.b)**2 + self.c)\n",
    "\n",
    "        for i in trange(1, nbTimeSteps):\n",
    "            ti   = torch.pow(time_grid[i] - time_grid[: i], self.alpha - 1)\n",
    "#             print(ti)\n",
    "            Zi   = Z[:, : i]\n",
    "            Vi   = V[:, : i]\n",
    "            Wi   = W[:, : i] \n",
    "            tmp = torch.matmul(dt*Zi - torch.sqrt(Vi)*Wi, ti)\n",
    "            Z[:, i] = self.Z0 - self.coef*tmp\n",
    "#             Z[i] = self.Z0 - coef*dt*np.sum(ti*Zi) + coef*np.sum(ti*np.sqrt(Vi)*Wi)\n",
    "            V[:, i] = self.a * (Z[:, i] - self.b)**2 + self.c\n",
    "#             X[:, i] = X[:, i-1] -0.5*V[:, i-1]*dt + torch.sqrt(V[:, i-1])*W[:, i-1]\n",
    "            S[:, i] = S[:, i-1]*(1 + torch.sqrt(V[:, i-1])*W[:, i-1])\n",
    "         \n",
    "#         return torch.exp(X)\n",
    "        return S\n",
    "\n",
    "    \n",
    "    def qrHeston_multiple_stockPaths(self, nbPaths, T_max):\n",
    "        \"\"\"\n",
    "        Monte Carlo Simulation for the quadratic rough Heston model\n",
    "        Input: \n",
    "            nbPaths: number of paths\n",
    "        \n",
    "        Output:\n",
    "            A list of 3 arrays of Stock price paths at maturity 3 months, 6 months and 2 years, respectively.\n",
    "            \n",
    "        \"\"\"\n",
    "        if T_max > 2*self.Tmin:\n",
    "            Ts = [self.Tmin, 2*self.Tmin, self.Tmax]\n",
    "        elif T_max > self.Tmin:\n",
    "            Ts = [self.Tmin, 2*self.Tmin]\n",
    "        else:\n",
    "            Ts = [self.Tmin]\n",
    "            \n",
    "        multi_paths = [self.qrHeston_single_stockPaths(T, nbPaths) for T in Ts]\n",
    "        \n",
    "        return multi_paths\n",
    "        \n",
    "            \n",
    "    def qrHeston_CallPut(self, strikes, maturities, N = 100000, call_put = 1):\n",
    "        \"\"\"\n",
    "        Compute the call/put option price with call_put = 1/-1 for \"Call/Put\"  for given strikes and maturities\n",
    "        \n",
    "        Output:\n",
    "            A list with each element the call/put prices for the strike(s) and maturity(maturities)\n",
    "            A list of (Average, standard deviation and maximum) relative errors of the Monte Carlo for each maturity-strike\n",
    "        \"\"\"\n",
    "        callput_prices = torch.zeros(len(strikes)*len(maturities))\n",
    "#         errors = tf.zeros((3, dim))\n",
    "        \n",
    "        multi_paths = self.qrHeston_multiple_stockPaths(N, T_max=maturities[-1])\n",
    "        i = 0\n",
    "        for T in maturities:\n",
    "            if T <= self.Tmin:\n",
    "                paths = multi_paths[0]\n",
    "                dt = self.dt\n",
    "            elif T <= 2*self.Tmin:\n",
    "                paths = multi_paths[1]\n",
    "                dt = 2*self.dt\n",
    "            else:\n",
    "                paths = multi_paths[2]\n",
    "                dt = 3*self.dt\n",
    "                \n",
    "            stop = int(T/dt)-1 ##+1?\n",
    "            stockPrice = paths[:, stop]\n",
    "            \n",
    "            for K in strikes:\n",
    "                tmp   = torch.maximum(call_put*(stockPrice - K), torch.tensor([0.0]))\n",
    "                callput_prices[i] = torch.mean(tmp)*torch.exp(torch.tensor([-self.r * T]))\n",
    "#                 try:\n",
    "#                     errors[:, i] = self.compute_relative_errors(tmp)\n",
    "#                 except:\n",
    "#                     pass\n",
    "                i += 1\n",
    "        return callput_prices               \n",
    "#         return callput_prices, errors"
   ]
  },
  {
   "cell_type": "code",
   "execution_count": 14,
   "id": "2d904edd",
   "metadata": {},
   "outputs": [],
   "source": [
    "S0 = 100.\n",
    "maturities = np.array([0.05, 0.1, 0.2, 0.3, 0.5])\n",
    "strikes = np.array([90., 95., 97., 99., 100., 101., 103., 105.])\n",
    "\n",
    "#### Parameters for quadratic rough Heston\n",
    "params = [0.6863, 1.3481, 0.5816, 0.2573, 0.0039, 0.2392]\n",
    "alpha, Lambda, a, b, c, Z0 = params\n",
    "# Z0 = 0.1\n",
    "# alpha = 0.55\n",
    "# a = 0.384\n",
    "# b = 0.095\n",
    "# c = 0.0025\n",
    "# Lambda = 1.2\n",
    "\n",
    "qrheston_params = {'alpha': alpha, 'Lambda': Lambda, 'a': a, 'b': b, 'c': c, 'Z0': Z0}"
   ]
  },
  {
   "cell_type": "code",
   "execution_count": 15,
   "id": "b704e28c",
   "metadata": {},
   "outputs": [
    {
     "data": {
      "application/vnd.jupyter.widget-view+json": {
       "model_id": "b6e55b31bcfa48219a74537828b3babb",
       "version_major": 2,
       "version_minor": 0
      },
      "text/plain": [
       "  0%|          | 0/61 [00:00<?, ?it/s]"
      ]
     },
     "metadata": {},
     "output_type": "display_data"
    },
    {
     "data": {
      "application/vnd.jupyter.widget-view+json": {
       "model_id": "46b3269ceee644e685b623e0faa0d54b",
       "version_major": 2,
       "version_minor": 0
      },
      "text/plain": [
       "  0%|          | 0/61 [00:00<?, ?it/s]"
      ]
     },
     "metadata": {},
     "output_type": "display_data"
    },
    {
     "name": "stdout",
     "output_type": "stream",
     "text": [
      "Wall time: 6.47 s\n"
     ]
    }
   ],
   "source": [
    "%%time\n",
    "MC = qrHeston(params, S0 = S0, r=0.03)\n",
    "# call_prices, errors= MC.qrHeston_CallPut(strikes, maturities)\n",
    "call_prices= MC.qrHeston_CallPut(strikes, maturities)"
   ]
  },
  {
   "cell_type": "code",
   "execution_count": 16,
   "id": "3fb9ae9f",
   "metadata": {},
   "outputs": [
    {
     "data": {
      "text/plain": [
       "(tensor([9.9867658615e+00, 5.0048451424e+00, 3.0478284359e+00, 1.2649281025e+00,\n",
       "         5.9290611744e-01, 1.9542355835e-01, 9.5123508945e-03, 5.4959277622e-04,\n",
       "         9.9927597046e+00, 5.0959901810e+00, 3.2402949333e+00, 1.6066387892e+00,\n",
       "         9.5987308025e-01, 4.8670414090e-01, 7.3644571006e-02, 9.0510519221e-03,\n",
       "         1.0080286980e+01, 5.3958230019e+00, 3.6795561314e+00, 2.1725347042e+00,\n",
       "         1.5393650532e+00, 1.0133229494e+00, 3.3243137598e-01, 7.5961835682e-02,\n",
       "         1.0218633652e+01, 5.7023558617e+00, 4.0719933510e+00, 2.6287343502e+00,\n",
       "         2.0042660236e+00, 1.4601196051e+00, 6.5143591166e-01, 2.1859997511e-01,\n",
       "         1.0686314583e+01, 6.4569063187e+00, 4.9367265701e+00, 3.5648581982e+00,\n",
       "         2.9471533298e+00, 2.3836417198e+00, 1.4373112917e+00, 7.5697636604e-01]),\n",
       " 40)"
      ]
     },
     "execution_count": 16,
     "metadata": {},
     "output_type": "execute_result"
    }
   ],
   "source": [
    "call_prices, len(call_prices)"
   ]
  },
  {
   "cell_type": "code",
   "execution_count": 8,
   "id": "85d8b886",
   "metadata": {},
   "outputs": [
    {
     "data": {
      "text/plain": [
       "(tensor([9.9905033112e+00, 5.0081267357e+00, 3.0509216785e+00, 1.2696353197e+00,\n",
       "         5.9705871344e-01, 1.9746580720e-01, 9.7668701783e-03, 5.5103685008e-04,\n",
       "         9.9921226501e+00, 5.0987787247e+00, 3.2453413010e+00, 1.6110430956e+00,\n",
       "         9.6456640959e-01, 4.9021092057e-01, 7.4815459549e-02, 9.2849964276e-03,\n",
       "         1.0095814705e+01, 5.4109210968e+00, 3.6954283714e+00, 2.1857650280e+00,\n",
       "         1.5510662794e+00, 1.0233961344e+00, 3.3737656474e-01, 7.7242292464e-02,\n",
       "         1.0207456589e+01, 5.7001247406e+00, 4.0690741539e+00, 2.6256294250e+00,\n",
       "         2.0006024837e+00, 1.4564546347e+00, 6.5032511950e-01, 2.1930740774e-01,\n",
       "         1.0690284729e+01, 6.4642167091e+00, 4.9456210136e+00, 3.5757384300e+00,\n",
       "         2.9590985775e+00, 2.3950357437e+00, 1.4499455690e+00, 7.6606398821e-01]),\n",
       " 40)"
      ]
     },
     "execution_count": 8,
     "metadata": {},
     "output_type": "execute_result"
    }
   ],
   "source": [
    "call_prices, len(call_prices)"
   ]
  },
  {
   "cell_type": "code",
   "execution_count": 37,
   "id": "936fe087",
   "metadata": {},
   "outputs": [
    {
     "data": {
      "text/plain": [
       "(tensor([9.9914436340e+00, 5.0077018738e+00, 3.0484476089e+00, 1.2695158720e+00,\n",
       "         6.0600119829e-01, 2.0858132839e-01, 1.0107267648e-02, 4.8877188237e-04,\n",
       "         9.9793376923e+00, 5.0832362175e+00, 3.2328341007e+00, 1.6083334684e+00,\n",
       "         9.6724492311e-01, 4.9722012877e-01, 7.7166698873e-02, 8.5316877812e-03,\n",
       "         1.0099036217e+01, 5.4124703407e+00, 3.6980755329e+00, 2.1929676533e+00,\n",
       "         1.5610193014e+00, 1.0340718031e+00, 3.4678870440e-01, 7.9129949212e-02,\n",
       "         1.0216846466e+01, 5.7085886002e+00, 4.0861043930e+00, 2.6551966667e+00,\n",
       "         2.0362160206e+00, 1.4960807562e+00, 6.8582642078e-01, 2.3995797336e-01,\n",
       "         1.0685342789e+01, 6.4796700478e+00, 4.9730925560e+00, 3.6143226624e+00,\n",
       "         3.0026421547e+00, 2.4441318512e+00, 1.5027027130e+00, 8.1699609756e-01]),\n",
       " 40)"
      ]
     },
     "execution_count": 37,
     "metadata": {},
     "output_type": "execute_result"
    }
   ],
   "source": [
    "call_prices, len(call_prices)"
   ]
  },
  {
   "cell_type": "code",
   "execution_count": 20,
   "id": "61faf0c6",
   "metadata": {},
   "outputs": [],
   "source": [
    "from quadratic_rHeston import *"
   ]
  },
  {
   "cell_type": "code",
   "execution_count": 21,
   "id": "6f933618",
   "metadata": {},
   "outputs": [
    {
     "data": {
      "application/vnd.jupyter.widget-view+json": {
       "model_id": "ec084ba34a444828a5c80686890be91c",
       "version_major": 2,
       "version_minor": 0
      },
      "text/plain": [
       "  0%|          | 0/61 [00:00<?, ?it/s]"
      ]
     },
     "metadata": {},
     "output_type": "display_data"
    },
    {
     "data": {
      "application/vnd.jupyter.widget-view+json": {
       "model_id": "1b71baf58ad34a208fdd168a6002ed1e",
       "version_major": 2,
       "version_minor": 0
      },
      "text/plain": [
       "  0%|          | 0/61 [00:00<?, ?it/s]"
      ]
     },
     "metadata": {},
     "output_type": "display_data"
    },
    {
     "name": "stdout",
     "output_type": "stream",
     "text": [
      "Wall time: 12 s\n"
     ]
    }
   ],
   "source": [
    "%%time \n",
    "MC = qrHeston(params, S0=S0)\n",
    "call_prices= MC.qrHeston_CallPut(strikes, maturities)"
   ]
  },
  {
   "cell_type": "code",
   "execution_count": 22,
   "id": "2ccb5c89",
   "metadata": {},
   "outputs": [
    {
     "data": {
      "text/plain": [
       "array([1.00001522e+01, 5.00843773e+00, 3.04756223e+00, 1.26794977e+00,\n",
       "       6.05108890e-01, 2.08184538e-01, 1.04661176e-02, 5.98404042e-04,\n",
       "       1.00137836e+01, 5.10468898e+00, 3.24931537e+00, 1.61824452e+00,\n",
       "       9.74663339e-01, 5.02043897e-01, 7.85898513e-02, 9.44920587e-03,\n",
       "       1.01584533e+01, 5.44869183e+00, 3.72732195e+00, 2.21715113e+00,\n",
       "       1.58323108e+00, 1.05312431e+00, 3.55754318e-01, 8.21692678e-02,\n",
       "       1.03064442e+01, 5.75833729e+00, 4.12081331e+00, 2.67584676e+00,\n",
       "       2.05125934e+00, 1.50651428e+00, 6.92720319e-01, 2.45477094e-01,\n",
       "       1.08076875e+01, 6.54728042e+00, 5.01870430e+00, 3.64236003e+00,\n",
       "       3.02462142e+00, 2.46165437e+00, 1.51625466e+00, 8.25621645e-01])"
      ]
     },
     "execution_count": 22,
     "metadata": {},
     "output_type": "execute_result"
    }
   ],
   "source": [
    "call_prices"
   ]
  },
  {
   "cell_type": "code",
   "execution_count": null,
   "id": "a344df96",
   "metadata": {},
   "outputs": [],
   "source": [
    "impliedVols(S0, strikes, maturities,prices = call_prices)"
   ]
  },
  {
   "cell_type": "code",
   "execution_count": null,
   "id": "fc9186c4",
   "metadata": {},
   "outputs": [],
   "source": [
    "strikes_dim=len(strikes)\n",
    "maturities_dim=len(maturities)\n",
    "\n",
    "plt.figure(1,figsize=(17,4))\n",
    "ax=plt.subplot(1,3,1)\n",
    "plt.title(\"Average relative error\",fontsize=15,y=1.04)\n",
    "plt.imshow(errors[0].reshape(maturities_dim,strikes_dim))\n",
    "plt.colorbar(format=mtick.PercentFormatter())\n",
    "\n",
    "ax.set_xticks(np.linspace(0,len(strikes)-1,len(strikes)))\n",
    "ax.set_xticklabels(strikes)\n",
    "ax.set_yticks(np.linspace(0,len(maturities)-1,len(maturities)))\n",
    "ax.set_yticklabels(maturities)\n",
    "plt.xlabel(\"Strike\",fontsize=15,labelpad=5)\n",
    "plt.ylabel(\"Maturity\",fontsize=15,labelpad=5)\n",
    "\n",
    "ax=plt.subplot(1,3,2)\n",
    "plt.title(\"Std relative error\",fontsize=15,y=1.04)\n",
    "plt.imshow(errors[1].reshape(maturities_dim,strikes_dim))\n",
    "plt.colorbar(format=mtick.PercentFormatter())\n",
    "\n",
    "ax.set_xticks(np.linspace(0,len(strikes)-1,len(strikes)))\n",
    "ax.set_xticklabels(strikes)\n",
    "ax.set_yticks(np.linspace(0,len(maturities)-1,len(maturities)))\n",
    "ax.set_yticklabels(maturities)\n",
    "plt.xlabel(\"Strike\",fontsize=15,labelpad=5)\n",
    "plt.ylabel(\"Maturity\",fontsize=15,labelpad=5)\n",
    "\n",
    "ax=plt.subplot(1,3,3)\n",
    "plt.title(\"Maximum relative error\",fontsize=15,y=1.04)\n",
    "plt.imshow(errors[2].reshape(maturities_dim,strikes_dim))\n",
    "plt.colorbar(format=mtick.PercentFormatter())\n",
    "\n",
    "ax.set_xticks(np.linspace(0,len(strikes)-1,len(strikes)))\n",
    "ax.set_xticklabels(strikes)\n",
    "ax.set_yticks(np.linspace(0,len(maturities)-1,len(maturities)))\n",
    "ax.set_yticklabels(maturities)\n",
    "plt.xlabel(\"Strike\",fontsize=15,labelpad=5)\n",
    "plt.ylabel(\"Maturity\",fontsize=15,labelpad=5)"
   ]
  },
  {
   "cell_type": "code",
   "execution_count": 23,
   "id": "d4a04de1",
   "metadata": {},
   "outputs": [
    {
     "name": "stdout",
     "output_type": "stream",
     "text": [
      "5\n"
     ]
    },
    {
     "data": {
      "image/png": "[encoded data removed]",
      "text/plain": [
       "<Figure size 1656x504 with 5 Axes>"
      ]
     },
     "metadata": {
      "needs_background": "light"
     },
     "output_type": "display_data"
    }
   ],
   "source": [
    "# call_prices\n",
    "axisX = []\n",
    "axisY = []\n",
    "strikes_dim=len(strikes)\n",
    "maturities_dim=len(maturities)\n",
    "\n",
    "for i in range(maturities_dim):\n",
    "    x = []\n",
    "    y = []\n",
    "    for j in range(strikes_dim):\n",
    "        try:\n",
    "            y.append(impliedVol(S0, strikes[j], maturities[i], call_prices[i*strikes_dim + j]))\n",
    "            x.append(np.log(strikes[j]/S0))\n",
    "        except:\n",
    "            pass\n",
    "    axisX.append(x)\n",
    "    axisY.append(y)\n",
    "    \n",
    "print(len(axisX)) \n",
    "f = plt.figure(1, figsize=(23, 7))\n",
    "for i in range(len(maturities)):\n",
    "    plt.subplot(2, 4, i+1)\n",
    "    plt.scatter(axisX[i], axisY[i], c='g', marker='x', label=\"T = %s\"%maturities[i])\n",
    "    plt.xlabel(\"log(K/S0)\")\n",
    "    plt.ylabel(\"implied volatility\")\n",
    "    plt.legend(loc=1)\n",
    "plt.show();"
   ]
  },
  {
   "cell_type": "code",
   "execution_count": null,
   "id": "c053648f",
   "metadata": {},
   "outputs": [],
   "source": [
    "zip?"
   ]
  },
  {
   "cell_type": "code",
   "execution_count": null,
   "id": "7e8cb8e9",
   "metadata": {},
   "outputs": [],
   "source": [
    "# time = np.arange(N)\n",
    "# f = plt.figure(figsize=(16,4))\n",
    "# ax1 = plt.subplot(121)\n",
    "# ax1.plot(time, S, label = \"qrHeston\")\n",
    "# ax1.grid()\n",
    "# ax1.set_xlabel(\"time\")\n",
    "# ax1.set_ylabel(\"Prices\")\n",
    "# ax1.legend(loc=1)\n",
    "\n",
    "# ax2 = plt.subplot(122)\n",
    "# ax2.plot(time, iv, label = \"qrHeston\")\n",
    "# ax2.grid()\n",
    "# ax2.set_xlabel(\"time\")\n",
    "# ax2.set_ylabel(\"implied volatility\")\n",
    "# ax2.legend(loc=1)\n",
    "# plt.show()\n"
   ]
  },
  {
   "cell_type": "code",
   "execution_count": null,
   "id": "c009d617",
   "metadata": {},
   "outputs": [],
   "source": [
    "import multiprocessing\n",
    "\n",
    "multiprocessing.cpu_count()"
   ]
  },
  {
   "cell_type": "code",
   "execution_count": null,
   "id": "b64e0aed",
   "metadata": {},
   "outputs": [],
   "source": [
    "strikes_dim=len(strikes)\n",
    "maturities_dim=len(maturities)\n",
    "\n",
    "x = np.log(strikes/S0)\n",
    "f = plt.figure(1, figsize=(23, 7))\n",
    "for i in range(len(maturities)):\n",
    "    plt.subplot(2, 4, i+1)\n",
    "    y = ivs_[7][i*strikes_dim: (i+1)*strikes_dim]\n",
    "    plt.scatter(x, y, c='g', marker='x', label=\"T = %s\"%maturities[i])\n",
    "    plt.xlabel(\"log(K/S0)\")\n",
    "    plt.ylabel(\"implied volatility\")\n",
    "    plt.legend(loc=1)\n",
    "plt.show();"
   ]
  },
  {
   "cell_type": "code",
   "execution_count": null,
   "id": "c746b255",
   "metadata": {},
   "outputs": [],
   "source": [
    "from functions.cython_quadratic_rHeston import *"
   ]
  },
  {
   "cell_type": "code",
   "execution_count": 24,
   "id": "c0386386",
   "metadata": {},
   "outputs": [
    {
     "data": {
      "text/plain": [
       "array([0. , 0.3, 0.6, 0.9, 1.2, 1.5, 1.8, 2.1, 2.4, 2.7, 3. ])"
      ]
     },
     "execution_count": 24,
     "metadata": {},
     "output_type": "execute_result"
    }
   ],
   "source": [
    "np.linspace(0,3,11)"
   ]
  },
  {
   "cell_type": "code",
   "execution_count": 23,
   "id": "4dbd6c40",
   "metadata": {},
   "outputs": [
    {
     "data": {
      "text/plain": [
       "array([1.57079637, 4.71238899, 7.85398159])"
      ]
     },
     "execution_count": 23,
     "metadata": {},
     "output_type": "execute_result"
    }
   ],
   "source": [
    "from scipy.interpolate import UnivariateSpline\n",
    "x = np.linspace(0, 10, 70)\n",
    "y = np.sin(x)\n",
    "spl = UnivariateSpline(x, y, k=4, s=0)\n",
    "spl.derivative().roots()"
   ]
  },
  {
   "cell_type": "code",
   "execution_count": 19,
   "id": "7f2af921",
   "metadata": {},
   "outputs": [
    {
     "data": {
      "text/plain": [
       "['__call__',\n",
       " '__class__',\n",
       " '__delattr__',\n",
       " '__dict__',\n",
       " '__dir__',\n",
       " '__doc__',\n",
       " '__eq__',\n",
       " '__format__',\n",
       " '__ge__',\n",
       " '__getattribute__',\n",
       " '__gt__',\n",
       " '__hash__',\n",
       " '__init__',\n",
       " '__init_subclass__',\n",
       " '__le__',\n",
       " '__lt__',\n",
       " '__module__',\n",
       " '__ne__',\n",
       " '__new__',\n",
       " '__reduce__',\n",
       " '__reduce_ex__',\n",
       " '__repr__',\n",
       " '__setattr__',\n",
       " '__sizeof__',\n",
       " '__str__',\n",
       " '__subclasshook__',\n",
       " '__weakref__',\n",
       " '_data',\n",
       " '_eval_args',\n",
       " '_from_tck',\n",
       " '_reset_class',\n",
       " '_reset_nest',\n",
       " '_set_class',\n",
       " '_spline_class',\n",
       " 'antiderivative',\n",
       " 'derivative',\n",
       " 'derivatives',\n",
       " 'ext',\n",
       " 'get_coeffs',\n",
       " 'get_knots',\n",
       " 'get_residual',\n",
       " 'integral',\n",
       " 'roots',\n",
       " 'set_smoothing_factor',\n",
       " 'validate_input']"
      ]
     },
     "execution_count": 19,
     "metadata": {},
     "output_type": "execute_result"
    }
   ],
   "source": [
    "dir(spl)"
   ]
  },
  {
   "cell_type": "code",
   "execution_count": 20,
   "id": "fcc43801",
   "metadata": {},
   "outputs": [
    {
     "data": {
      "text/plain": [
       "array([1.57079637, 4.71238899, 7.85398159])"
      ]
     },
     "execution_count": 20,
     "metadata": {},
     "output_type": "execute_result"
    }
   ],
   "source": []
  },
  {
   "cell_type": "code",
   "execution_count": null,
   "id": "f9fdacd9",
   "metadata": {},
   "outputs": [],
   "source": []
  }
 ],
 "metadata": {
  "kernelspec": {
   "display_name": "jia_pytorch",
   "language": "python",
   "name": "jia_pytorch"
  },
  "language_info": {
   "codemirror_mode": {
    "name": "ipython",
    "version": 3
   },
   "file_extension": ".py",
   "mimetype": "text/x-python",
   "name": "python",
   "nbconvert_exporter": "python",
   "pygments_lexer": "ipython3",
   "version": "3.8.5"
  }
 },
 "nbformat": 4,
 "nbformat_minor": 5
}
