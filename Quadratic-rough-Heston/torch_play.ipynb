{
 "cells": [
  {
   "cell_type": "code",
   "execution_count": 2,
   "id": "f9625ffe",
   "metadata": {},
   "outputs": [],
   "source": [
    "import torch\n",
    "%config Completer.use_jedi=False\n"
   ]
  },
  {
   "cell_type": "code",
   "execution_count": 3,
   "id": "db93a983",
   "metadata": {},
   "outputs": [
    {
     "data": {
      "text/plain": [
       "tensor([[0.5196, 0.0818, 0.8790, 0.0017],\n",
       "        [0.2029, 0.9991, 0.2824, 0.3440],\n",
       "        [0.1996, 0.9107, 0.3128, 0.1063]])"
      ]
     },
     "execution_count": 3,
     "metadata": {},
     "output_type": "execute_result"
    }
   ],
   "source": [
    "torch.rand(3,4)"
   ]
  },
  {
   "cell_type": "code",
   "execution_count": 6,
   "id": "1fd74308",
   "metadata": {},
   "outputs": [
    {
     "data": {
      "text/plain": [
       "tensor([ 1.9990,  2.2394, -0.0323,  1.1380,  1.0495, -4.2163, -1.5369,  1.1985,\n",
       "        -3.9740, -0.6237])"
      ]
     },
     "execution_count": 6,
     "metadata": {},
     "output_type": "execute_result"
    }
   ],
   "source": [
    "torch.normal(torch.zeros(10), torch.tensor([2]))"
   ]
  },
  {
   "cell_type": "code",
   "execution_count": null,
   "id": "d4d9b0f4",
   "metadata": {},
   "outputs": [],
   "source": []
  }
 ],
 "metadata": {
  "kernelspec": {
   "display_name": "jia_pytorch",
   "language": "python",
   "name": "jia_pytorch"
  },
  "language_info": {
   "codemirror_mode": {
    "name": "ipython",
    "version": 3
   },
   "file_extension": ".py",
   "mimetype": "text/x-python",
   "name": "python",
   "nbconvert_exporter": "python",
   "pygments_lexer": "ipython3",
   "version": "3.8.5"
  }
 },
 "nbformat": 4,
 "nbformat_minor": 5
}
